{
 "cells": [
  {
   "cell_type": "code",
   "execution_count": 44,
   "id": "5aad8a85",
   "metadata": {},
   "outputs": [],
   "source": [
    "import json\n",
    "from datetime import datetime"
   ]
  },
  {
   "cell_type": "code",
   "execution_count": 2,
   "id": "45789c2a",
   "metadata": {},
   "outputs": [],
   "source": [
    "fetched_emails_filepath = \"artifacts/sent_emails_fetched3.json\""
   ]
  },
  {
   "cell_type": "code",
   "execution_count": 3,
   "id": "d5ff20f3",
   "metadata": {},
   "outputs": [],
   "source": [
    "fetched_emails_loaded = json.load(open(fetched_emails_filepath))"
   ]
  },
  {
   "cell_type": "code",
   "execution_count": 4,
   "id": "a69a9b78",
   "metadata": {},
   "outputs": [
    {
     "data": {
      "text/plain": [
       "[{'id': '196a6cf70773febb',\n",
       "  'threadId': '196a6c456846123b',\n",
       "  'snippet': 'Hi, Team, Here is an update of the tasks done today: Tasks Completed: Setting up pyenv to easily switch between python versions. Setup OpenVoice v2 successfully. Define table fields for ADT^A01 (Admit',\n",
       "  'payload': {'mimeType': 'multipart/alternative'},\n",
       "  'sizeEstimate': 8275,\n",
       "  'historyId': '13279',\n",
       "  'internalDate': '1746555334000',\n",
       "  'labels': [{'id': 'SENT', 'name': 'SENT'}],\n",
       "  'Subject': 'Status Update | PathLink | 06/05/2025',\n",
       "  'From': 'Vikas Sanwal <vikas.sanwal1@oodles.io>',\n",
       "  'To': 'Kundan Ray <kundan.ray@oodles.io>',\n",
       "  'Cc': 'Mohit Virmani <mohit.virmani@oodles.io>'},\n",
       " {'id': '1969ff8fbf5d7825',\n",
       "  'threadId': '1969ff899ca5e0ca',\n",
       "  'snippet': 'Vikas Sanwal Associate Consultant L2 - Development +91 8476062458 vikas.sanwal1 www.oodlestechnologies.com | www.oodlesmarketing.com | www.oodlesstudio.com Unit No. 117- 120, Welldone Tech Park, Sector',\n",
       "  'payload': {'mimeType': 'multipart/mixed'},\n",
       "  'sizeEstimate': 10432810,\n",
       "  'historyId': '10506',\n",
       "  'internalDate': '1746440612000',\n",
       "  'labels': [{'id': 'SENT', 'name': 'SENT'}],\n",
       "  'Subject': 'HL7 doc',\n",
       "  'From': 'Vikas Sanwal <vikas.sanwal1@oodles.io>',\n",
       "  'To': 'Molu Tyagi <molu.tyagi@oodles.io>'},\n",
       " {'id': '19691c07bef48235',\n",
       "  'threadId': '19691c07bef48235',\n",
       "  'snippet': 'Vikas Sanwal shared a document Vikas Sanwal (vikas.sanwal1@oodles.io) has invited you to edit the following document: HL7 v2.9.1 Open Does this item look suspicious? Block sender Google LLC, 1600',\n",
       "  'payload': {'mimeType': 'multipart/alternative'},\n",
       "  'sizeEstimate': 30589,\n",
       "  'historyId': '8075',\n",
       "  'internalDate': '1746202032000',\n",
       "  'labels': [{'id': 'SENT', 'name': 'SENT'},\n",
       "   {'id': 'CATEGORY_UPDATES', 'name': 'CATEGORY_UPDATES'}],\n",
       "  'Subject': 'Document shared with you: ‘HL7 v2.9.1’',\n",
       "  'From': '\"Vikas Sanwal (via Google Docs)\" <drive-shares-dm-noreply@google.com>',\n",
       "  'To': 'vikassnwl@gmail.com'}]"
      ]
     },
     "execution_count": 4,
     "metadata": {},
     "output_type": "execute_result"
    }
   ],
   "source": [
    "fetched_emails_loaded"
   ]
  },
  {
   "cell_type": "code",
   "execution_count": 5,
   "id": "8dcbd783",
   "metadata": {},
   "outputs": [
    {
     "data": {
      "text/plain": [
       "3"
      ]
     },
     "execution_count": 5,
     "metadata": {},
     "output_type": "execute_result"
    }
   ],
   "source": [
    "num_emails_fetched = len(fetched_emails_loaded)\n",
    "num_emails_fetched"
   ]
  },
  {
   "cell_type": "code",
   "execution_count": 6,
   "id": "21abdc0a",
   "metadata": {},
   "outputs": [
    {
     "name": "stdout",
     "output_type": "stream",
     "text": [
      "Analyzing 0th item...\n",
      "-----------------------\n",
      "Item has type: <class 'dict'>\n",
      "Item has the following keys: ('Cc', 'From', 'Subject', 'To', 'historyId', 'id', 'internalDate', 'labels', 'payload', 'sizeEstimate', 'snippet', 'threadId')\n",
      "\n",
      "Analyzing 1th item...\n",
      "-----------------------\n",
      "Item has type: <class 'dict'>\n",
      "Item has the following keys: ('From', 'Subject', 'To', 'historyId', 'id', 'internalDate', 'labels', 'payload', 'sizeEstimate', 'snippet', 'threadId')\n",
      "\n",
      "Analyzing 2th item...\n",
      "-----------------------\n",
      "Item has type: <class 'dict'>\n",
      "Item has the following keys: ('From', 'Subject', 'To', 'historyId', 'id', 'internalDate', 'labels', 'payload', 'sizeEstimate', 'snippet', 'threadId')\n",
      "\n"
     ]
    }
   ],
   "source": [
    "from pprint import pprint\n",
    "\n",
    "keys_of_items = set()\n",
    "\n",
    "for i in range(len(fetched_emails_loaded)):\n",
    "    print(f\"Analyzing {i}th item...\")\n",
    "    print(\"-----------------------\")\n",
    "    item = fetched_emails_loaded[i]\n",
    "    keys_of_item = tuple(sorted(item.keys()))\n",
    "    keys_of_items.add(keys_of_item)\n",
    "    print(f\"Item has type: {type(item)}\")\n",
    "    print(f\"Item has the following keys: {keys_of_item}\")\n",
    "    print()\n",
    "\n",
    "if len(keys_of_items) == 1:\n",
    "    print(\"All items contains exact same keys.\")"
   ]
  },
  {
   "cell_type": "code",
   "execution_count": 8,
   "id": "7231a37b",
   "metadata": {},
   "outputs": [
    {
     "data": {
      "text/plain": [
       "2"
      ]
     },
     "execution_count": 8,
     "metadata": {},
     "output_type": "execute_result"
    }
   ],
   "source": [
    "len(keys_of_items)"
   ]
  },
  {
   "cell_type": "code",
   "execution_count": 7,
   "id": "916d7892",
   "metadata": {},
   "outputs": [
    {
     "data": {
      "text/plain": [
       "{('Cc',\n",
       "  'From',\n",
       "  'Subject',\n",
       "  'To',\n",
       "  'historyId',\n",
       "  'id',\n",
       "  'internalDate',\n",
       "  'labels',\n",
       "  'payload',\n",
       "  'sizeEstimate',\n",
       "  'snippet',\n",
       "  'threadId'),\n",
       " ('From',\n",
       "  'Subject',\n",
       "  'To',\n",
       "  'historyId',\n",
       "  'id',\n",
       "  'internalDate',\n",
       "  'labels',\n",
       "  'payload',\n",
       "  'sizeEstimate',\n",
       "  'snippet',\n",
       "  'threadId')}"
      ]
     },
     "execution_count": 7,
     "metadata": {},
     "output_type": "execute_result"
    }
   ],
   "source": [
    "keys_of_items"
   ]
  },
  {
   "cell_type": "code",
   "execution_count": 14,
   "id": "643b32a0",
   "metadata": {},
   "outputs": [
    {
     "name": "stdout",
     "output_type": "stream",
     "text": [
      "Uncommon keys among emails: {'Cc'}\n"
     ]
    }
   ],
   "source": [
    "# Getting uncommon keys among emails\n",
    "keys1, keys2 = list(keys_of_items)\n",
    "keys1 = set(keys1)\n",
    "keys2 = set(keys2)\n",
    "\n",
    "print(f\"Uncommon keys among emails: {keys1^keys2}\")"
   ]
  },
  {
   "cell_type": "code",
   "execution_count": 40,
   "id": "4a8311f1",
   "metadata": {},
   "outputs": [
    {
     "name": "stdout",
     "output_type": "stream",
     "text": [
      "All unique keys present across emails:\n",
      "---------------------------\n",
      "internalDate\n",
      "To\n",
      "payload\n",
      "id\n",
      "Cc\n",
      "labels\n",
      "From\n",
      "Subject\n",
      "threadId\n",
      "snippet\n",
      "sizeEstimate\n",
      "historyId\n"
     ]
    }
   ],
   "source": [
    "print(\"All unique keys present across emails:\")\n",
    "print(\"---------------------------\")\n",
    "print('\\n'.join(keys1|keys2))"
   ]
  },
  {
   "cell_type": "code",
   "execution_count": 79,
   "id": "c9e09bed",
   "metadata": {},
   "outputs": [
    {
     "name": "stdout",
     "output_type": "stream",
     "text": [
      "snippet='Hi, Team, Here is an update of the tasks done today: Tasks Completed: Setting up pyenv to easily switch between python versions. Setup OpenVoice v2 successfully. Define table fields for ADT^A01 (Admit'\n",
      "snippet0.txt written successfully!\n",
      "\n",
      "snippet='Vikas Sanwal Associate Consultant L2 - Development +91 8476062458 vikas.sanwal1 www.oodlestechnologies.com | www.oodlesmarketing.com | www.oodlesstudio.com Unit No. 117- 120, Welldone Tech Park, Sector'\n",
      "snippet1.txt written successfully!\n",
      "\n",
      "snippet='Vikas Sanwal shared a document Vikas Sanwal (vikas.sanwal1@oodles.io) has invited you to edit the following document: HL7 v2.9.1 Open Does this item look suspicious? Block sender Google LLC, 1600'\n",
      "snippet2.txt written successfully!\n",
      "\n"
     ]
    }
   ],
   "source": [
    "# Extracting and printing desired data from each email\n",
    "for i, email_data in enumerate(fetched_emails_loaded):\n",
    "    internalDate = datetime.utcfromtimestamp(int(email_data[\"internalDate\"])/1000).strftime('%Y-%m-%d %H:%M:%S UTC')\n",
    "    To = email_data['To']\n",
    "    payload = email_data[\"payload\"]\n",
    "    id = email_data[\"id\"]\n",
    "    if \"Cc\" in email_data:\n",
    "        Cc = email_data[\"Cc\"]  # Not present in all emails\n",
    "    else:\n",
    "        Cc = \"Not found!\"\n",
    "    labels = email_data[\"labels\"]\n",
    "    From = email_data[\"From\"]\n",
    "    Subject = email_data[\"Subject\"]\n",
    "    threadId = email_data[\"threadId\"]\n",
    "    snippet = email_data[\"snippet\"]\n",
    "    sizeEstimate = email_data[\"sizeEstimate\"]\n",
    "    historyId = email_data[\"historyId\"]\n",
    "\n",
    "    # print(f\"{internalDate=}\")\n",
    "    # print(f\"{To=}\")\n",
    "    # print(f\"{payload=}\")\n",
    "    # print(f\"{id=}\")\n",
    "    # print(f\"{Cc=}\")\n",
    "    # print(f\"{labels=}\")\n",
    "    # print(f\"{From=}\")\n",
    "    # print(f\"{Subject=}\")\n",
    "    # print(f\"{threadId=}\")\n",
    "    print(f\"{snippet=}\")\n",
    "    try:\n",
    "        open(f\"snippet{i}.txt\", \"w\").write(snippet)\n",
    "        print(f\"snippet{i}.txt written successfully!\")\n",
    "    except:\n",
    "        print(f\"Error writing snippet{i}.txt\")\n",
    "    # print(f\"{sizeEstimate=}\")\n",
    "    # print(f\"{historyId=}\")\n",
    "    print()"
   ]
  },
  {
   "cell_type": "code",
   "execution_count": null,
   "id": "1257d45b",
   "metadata": {},
   "outputs": [],
   "source": []
  }
 ],
 "metadata": {
  "kernelspec": {
   "display_name": "Python 3",
   "language": "python",
   "name": "python3"
  },
  "language_info": {
   "codemirror_mode": {
    "name": "ipython",
    "version": 3
   },
   "file_extension": ".py",
   "mimetype": "text/x-python",
   "name": "python",
   "nbconvert_exporter": "python",
   "pygments_lexer": "ipython3",
   "version": "3.10.12"
  }
 },
 "nbformat": 4,
 "nbformat_minor": 5
}
