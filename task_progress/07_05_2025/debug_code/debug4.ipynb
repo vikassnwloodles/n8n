{
 "cells": [
  {
   "cell_type": "code",
   "execution_count": 17,
   "id": "5aad8a85",
   "metadata": {},
   "outputs": [],
   "source": [
    "import json\n",
    "from datetime import datetime"
   ]
  },
  {
   "cell_type": "code",
   "execution_count": 18,
   "id": "45789c2a",
   "metadata": {},
   "outputs": [],
   "source": [
    "fetched_emails_filepath = \"artifacts/sent_emails_fetched4.json\""
   ]
  },
  {
   "cell_type": "code",
   "execution_count": 19,
   "id": "d5ff20f3",
   "metadata": {},
   "outputs": [],
   "source": [
    "fetched_emails_loaded = json.load(open(fetched_emails_filepath))"
   ]
  },
  {
   "cell_type": "code",
   "execution_count": 20,
   "id": "a69a9b78",
   "metadata": {},
   "outputs": [
    {
     "data": {
      "text/plain": [
       "[{'id': '196a6cf70773febb',\n",
       "  'threadId': '196a6c456846123b',\n",
       "  'labelIds': ['SENT'],\n",
       "  'sizeEstimate': 8275,\n",
       "  'headers': {'mime-version': 'MIME-Version: 1.0',\n",
       "   'date': 'Date: Tue, 6 May 2025 23:45:34 +0530',\n",
       "   'message-id': 'Message-ID: <CANtADnOfcNc2pYAzczq7Ckg_sGXNenXB_9a1Q3jCO8jXo7rfwg@mail.gmail.com>',\n",
       "   'subject': 'Subject: Status Update | PathLink | 06/05/2025',\n",
       "   'from': 'From: Vikas Sanwal <vikas.sanwal1@oodles.io>',\n",
       "   'to': 'To: Kundan Ray <kundan.ray@oodles.io>',\n",
       "   'cc': 'Cc: Mohit Virmani <mohit.virmani@oodles.io>',\n",
       "   'content-type': 'Content-Type: multipart/alternative; boundary=\"00000000000052db1f06347b9ad3\"'},\n",
       "  'html': '<div dir=\"ltr\"><div><div>Hi, Team,</div><div><br></div><div>Here is an update of the tasks done today:</div><div><br></div><div><b>Tasks Completed:</b></div><div><ol><li style=\"margin-left:15px\">Setting up pyenv to easily switch between python versions.</li><li style=\"margin-left:15px\">Setup OpenVoice v2 successfully.</li><li style=\"margin-left:15px\">Define table fields for ADT^A01 (Admit Message).</li><li style=\"margin-left:15px\">Took an initial call with Chris regarding the n8n project.</li></ol></div><div><br></div><div><strong>In-Progress/Next Tasks:</strong></div><div><ol><li style=\"margin-left:15px\">Go through the requirements doc sent by Chris.</li></ol></div><div><b><br></b></div><div><strong>Issues/Queries:\\xa0</strong>None<b></b></div><div><br></div><div><br></div><div><br></div><div>Thanks and Regards,</div><div>Vikas Sanwal</div></div><div><br></div><div><div dir=\"ltr\" class=\"gmail_signature\" data-smartmail=\"gmail_signature\"><div dir=\"ltr\"><table width=\"300\" cellpadding=\"0\" cellspacing=\"0\" style=\"font-family:&quot;OpenSans Regular&quot;,sans-serif;width:750px;font-size:10pt;color:rgb(0,0,0)\"><tbody><tr><td valign=\"top\" style=\"padding:0px;line-height:27px;vertical-align:top;font-size:14pt\"><a href=\"https://www.oodlestechnologies.com/\" target=\"_blank\"><img src=\"https://s3.amazonaws.com/oodles-public/signature/technologies.png\" style=\"border:0px;width:298px;margin-bottom:10px\"></a></td></tr><tr><td valign=\"top\" style=\"padding:0px 0px 14px;line-height:27px;vertical-align:top;border-bottom:1px solid rgb(143,140,140)\"><span style=\"border-left:1px solid;margin-left:6px;padding-left:5px;font-size:20px\"><font color=\"#2f83c5\"><b>Vikas Sanwal</b></font></span></td><td valign=\"top\" style=\"padding:0px 0px 14px;line-height:27px;vertical-align:top;border-bottom:1px solid rgb(143,140,140)\"><font color=\"#8c8c8c\"><span style=\"font-size:18.6667px\">Associate Consultant L2 -</span></font></td><td valign=\"top\" style=\"padding:0px 0px 14px;line-height:27px;vertical-align:top;border-bottom:1px solid rgb(143,140,140)\"><font color=\"#8c8c8c\"><span style=\"font-size:18.6667px\">Development</span></font></td></tr><tr><td valign=\"top\" style=\"padding:20px 0px 0px;line-height:18px;font-size:10pt;vertical-align:top\"><h4 style=\"display:flex;margin:0px 0px 3px;color:rgb(47,131,197)\"><img src=\"https://s3.amazonaws.com/oodles-public/signature/Call.png\" alt=\"\" style=\"width:20px;height:20px\"><span style=\"font-size:9pt;margin:3px 10px\"><a href=\"tel:+91+7983587936\" style=\"color:rgb(47,131,197)\" target=\"_blank\">+91\\xa0</a>8476062458</span></h4><h4 style=\"display:flex;margin:0px 0px 3px;color:rgb(47,131,197)\"><img src=\"https://s3.amazonaws.com/oodles-public/signature/Skype.png\" alt=\"\" style=\"width:20px;height:20px\"><span style=\"font-size:9pt;margin:3px 10px\">vikas.sanwal1</span></h4><h4 style=\"display:flex;margin:0px 0px 3px;color:rgb(47,131,197)\"><img src=\"https://s3.amazonaws.com/oodles-public/signature/wesbite.png\" alt=\"\" style=\"width:20px;height:20px\"><span style=\"font-size:9pt;margin:3px 10px\"><a href=\"https://www.oodlestechnologies.com/\" style=\"color:rgb(47,131,197);display:inline-block\" target=\"_blank\">www.oodlestechnologies.com</a>\\xa0|\\xa0<a href=\"https://www.oodlesmarketing.com/\" style=\"color:rgb(47,131,197);display:inline-block\" target=\"_blank\">www.oodlesmarketing.com</a>\\xa0|\\xa0<a href=\"https://www.oodlesstudio.com/\" style=\"color:rgb(47,131,197);display:inline-block\" target=\"_blank\">www.oodlesstudio.com</a></span></h4><h4 style=\"display:flex;margin:0px 0px 3px;color:rgb(140,140,140)\"><img src=\"https://s3.amazonaws.com/oodles-public/signature/location.png\" alt=\"\" style=\"width:20px;height:20px\"><span style=\"font-size:9pt;margin:3px 10px\">Unit No. 117- 120, Welldone Tech Park, Sector 48, Sohna Road, Gurugram, Haryana- 122018, IN.</span></h4></td></tr><tr><td valign=\"top\" style=\"padding:5px 0px 0px;vertical-align:top\"><a href=\"https://www.linkedin.com/company/oodles-technologies-pvt-ltd\" target=\"_blank\"><img alt=\"Facebook icon\" src=\"https://s3.amazonaws.com/oodles-public/signature/linkdin.png\" style=\"margin:0px 30px 0px 3px;width:20px;height:20px\"></a>\\xa0<a href=\"https://www.facebook.com/OodlesTech\" target=\"_blank\"><img alt=\"Youtbue icon\" src=\"https://s3.amazonaws.com/oodles-public/signature/facebook.png\" style=\"margin:0px 30px 0px 3px;width:20px;height:20px\"></a>\\xa0<a href=\"https://twitter.com/oodlestech\" target=\"_blank\"><img alt=\"LinkedIn icon\" src=\"https://s3.amazonaws.com/oodles-public/signature/twitter.png\" style=\"margin:0px 30px 0px 3px;width:20px;height:20px\"></a><p style=\"color:rgb(140,140,140)\">This e-mail message may contain confidential or legally privileged information and is intended only for the use of the intended recipient(s). Any unauthorized disclosure, dissemination, distribution, copying or the taking of any action in reliance on the information herein is prohibited. E-mails are not secure and cannot be guaranteed to be error free as they can be intercepted, amended, or contain viruses. Anyone who communicates with us by e-mail is deemed to have accepted these risks. Oodles Technologies is not responsible for errors or omissions in this message and denies any responsibility for any damage arising from the use of e-mail. Any opinion and other statement contained in this message and any attachment are solely those of the author and do not necessarily represent those of the company</p></td></tr></tbody></table></div></div></div></div>\\n',\n",
       "  'text': 'Hi, Team,\\n\\nHere is an update of the tasks done today:\\n\\n*Tasks Completed:*\\n\\n   1. Setting up pyenv to easily switch between python versions.\\n   2. Setup OpenVoice v2 successfully.\\n   3. Define table fields for ADT^A01 (Admit Message).\\n   4. Took an initial call with Chris regarding the n8n project.\\n\\n\\n*In-Progress/Next Tasks:*\\n\\n   1. Go through the requirements doc sent by Chris.\\n\\n\\n*Issues/Queries: *None\\n\\n\\n\\nThanks and Regards,\\nVikas Sanwal\\n\\n<https://www.oodlestechnologies.com/>\\n*Vikas Sanwal* Associate Consultant L2 - Development\\n+91  <+91+7983587936>8476062458vikas.sanwal1www.oodlestechnologies.com |\\nwww.oodlesmarketing.com | www.oodlesstudio.comUnit No. 117- 120, Welldone\\nTech Park, Sector 48, Sohna Road, Gurugram, Haryana- 122018, IN.\\n[image: Facebook icon]\\n<https://www.linkedin.com/company/oodles-technologies-pvt-ltd> [image:\\nYoutbue icon] <https://www.facebook.com/OodlesTech> [image: LinkedIn icon]\\n<https://twitter.com/oodlestech>\\n\\nThis e-mail message may contain confidential or legally privileged\\ninformation and is intended only for the use of the intended recipient(s).\\nAny unauthorized disclosure, dissemination, distribution, copying or the\\ntaking of any action in reliance on the information herein is prohibited.\\nE-mails are not secure and cannot be guaranteed to be error free as they\\ncan be intercepted, amended, or contain viruses. Anyone who communicates\\nwith us by e-mail is deemed to have accepted these risks. Oodles\\nTechnologies is not responsible for errors or omissions in this message and\\ndenies any responsibility for any damage arising from the use of e-mail.\\nAny opinion and other statement contained in this message and any\\nattachment are solely those of the author and do not necessarily represent\\nthose of the company\\n',\n",
       "  'textAsHtml': '<p>Hi, Team,</p><p>Here is an update of the tasks done today:</p><p>*Tasks Completed:*</p><p>   1. Setting up pyenv to easily switch between python versions.<br/>   2. Setup OpenVoice v2 successfully.<br/>   3. Define table fields for ADT^A01 (Admit Message).<br/>   4. Took an initial call with Chris regarding the n8n project.</p><p>*In-Progress/Next Tasks:*</p><p>   1. Go through the requirements doc sent by Chris.</p><p>*Issues/Queries: *None</p><p>Thanks and Regards,<br/>Vikas Sanwal</p><p>&lt;<a href=\"https://www.oodlestechnologies.com/\">https://www.oodlestechnologies.com/</a>&gt;<br/>*Vikas Sanwal* Associate Consultant L2 - Development<br/>+91  &lt;+91+7983587936&gt;<a href=\"http://8476062458vikas.sanwal1www.oodlestechnologies.com\">8476062458vikas.sanwal1www.oodlestechnologies.com</a> |<br/><a href=\"http://www.oodlesmarketing.com\">www.oodlesmarketing.com</a> | www.oodlesstudio.comUnit No. 117- 120, Welldone<br/>Tech Park, Sector 48, Sohna Road, Gurugram, Haryana- 122018, IN.<br/>[image: Facebook icon]<br/>&lt;<a href=\"https://www.linkedin.com/company/oodles-technologies-pvt-ltd\">https://www.linkedin.com/company/oodles-technologies-pvt-ltd</a>&gt; [image:<br/>Youtbue icon] &lt;<a href=\"https://www.facebook.com/OodlesTech\">https://www.facebook.com/OodlesTech</a>&gt; [image: LinkedIn icon]<br/>&lt;<a href=\"https://twitter.com/oodlestech\">https://twitter.com/oodlestech</a>&gt;</p><p>This e-mail message may contain confidential or legally privileged<br/>information and is intended only for the use of the intended recipient(s).<br/>Any unauthorized disclosure, dissemination, distribution, copying or the<br/>taking of any action in reliance on the information herein is prohibited.<br/>E-mails are not secure and cannot be guaranteed to be error free as they<br/>can be intercepted, amended, or contain viruses. Anyone who communicates<br/>with us by e-mail is deemed to have accepted these risks. Oodles<br/>Technologies is not responsible for errors or omissions in this message and<br/>denies any responsibility for any damage arising from the use of e-mail.<br/>Any opinion and other statement contained in this message and any<br/>attachment are solely those of the author and do not necessarily represent<br/>those of the company</p>',\n",
       "  'subject': 'Status Update | PathLink | 06/05/2025',\n",
       "  'date': '2025-05-06T18:15:34.000Z',\n",
       "  'to': {'value': [{'address': 'kundan.ray@oodles.io', 'name': 'Kundan Ray'}],\n",
       "   'html': '<span class=\"mp_address_group\"><span class=\"mp_address_name\">Kundan Ray</span> &lt;<a href=\"mailto:kundan.ray@oodles.io\" class=\"mp_address_email\">kundan.ray@oodles.io</a>&gt;</span>',\n",
       "   'text': '\"Kundan Ray\" <kundan.ray@oodles.io>'},\n",
       "  'from': {'value': [{'address': 'vikas.sanwal1@oodles.io',\n",
       "     'name': 'Vikas Sanwal'}],\n",
       "   'html': '<span class=\"mp_address_group\"><span class=\"mp_address_name\">Vikas Sanwal</span> &lt;<a href=\"mailto:vikas.sanwal1@oodles.io\" class=\"mp_address_email\">vikas.sanwal1@oodles.io</a>&gt;</span>',\n",
       "   'text': '\"Vikas Sanwal\" <vikas.sanwal1@oodles.io>'},\n",
       "  'cc': {'value': [{'address': 'mohit.virmani@oodles.io',\n",
       "     'name': 'Mohit Virmani'}],\n",
       "   'html': '<span class=\"mp_address_group\"><span class=\"mp_address_name\">Mohit Virmani</span> &lt;<a href=\"mailto:mohit.virmani@oodles.io\" class=\"mp_address_email\">mohit.virmani@oodles.io</a>&gt;</span>',\n",
       "   'text': '\"Mohit Virmani\" <mohit.virmani@oodles.io>'},\n",
       "  'messageId': '<CANtADnOfcNc2pYAzczq7Ckg_sGXNenXB_9a1Q3jCO8jXo7rfwg@mail.gmail.com>'},\n",
       " {'id': '1969ff8fbf5d7825',\n",
       "  'threadId': '1969ff899ca5e0ca',\n",
       "  'labelIds': ['SENT'],\n",
       "  'sizeEstimate': 10432810,\n",
       "  'headers': {'mime-version': 'MIME-Version: 1.0',\n",
       "   'date': 'Date: Mon, 5 May 2025 15:53:32 +0530',\n",
       "   'message-id': 'Message-ID: <CANtADnNh_40kG__zykbnEeuvdnei0-tr=xOoCh0EACmquPXy8Q@mail.gmail.com>',\n",
       "   'subject': 'Subject: HL7 doc',\n",
       "   'from': 'From: Vikas Sanwal <vikas.sanwal1@oodles.io>',\n",
       "   'to': 'To: Molu Tyagi <molu.tyagi@oodles.io>',\n",
       "   'content-type': 'Content-Type: multipart/mixed; boundary=\"000000000000737b24063460e405\"'},\n",
       "  'html': '<div dir=\"ltr\"><div><br clear=\"all\"></div><div><div dir=\"ltr\" class=\"gmail_signature\" data-smartmail=\"gmail_signature\"><div dir=\"ltr\"><table width=\"300\" cellpadding=\"0\" cellspacing=\"0\" style=\"font-family:&quot;OpenSans Regular&quot;,sans-serif;width:750px;font-size:10pt;color:rgb(0,0,0)\"><tbody><tr><td valign=\"top\" style=\"padding:0px;line-height:27px;vertical-align:top;font-size:14pt\"><a href=\"https://www.oodlestechnologies.com/\" target=\"_blank\"><img src=\"https://s3.amazonaws.com/oodles-public/signature/technologies.png\" style=\"border:0px;width:298px;margin-bottom:10px\"></a></td></tr><tr><td valign=\"top\" style=\"padding:0px 0px 14px;line-height:27px;vertical-align:top;border-bottom:1px solid rgb(143,140,140)\"><span style=\"border-left:1px solid;margin-left:6px;padding-left:5px;font-size:20px\"><font color=\"#2f83c5\"><b>Vikas Sanwal</b></font></span></td><td valign=\"top\" style=\"padding:0px 0px 14px;line-height:27px;vertical-align:top;border-bottom:1px solid rgb(143,140,140)\"><font color=\"#8c8c8c\"><span style=\"font-size:18.6667px\">Associate Consultant L2 -</span></font></td><td valign=\"top\" style=\"padding:0px 0px 14px;line-height:27px;vertical-align:top;border-bottom:1px solid rgb(143,140,140)\"><font color=\"#8c8c8c\"><span style=\"font-size:18.6667px\">Development</span></font></td></tr><tr><td valign=\"top\" style=\"padding:20px 0px 0px;line-height:18px;font-size:10pt;vertical-align:top\"><h4 style=\"display:flex;margin:0px 0px 3px;color:rgb(47,131,197)\"><img src=\"https://s3.amazonaws.com/oodles-public/signature/Call.png\" alt=\"\" style=\"width:20px;height:20px\"><span style=\"font-size:9pt;margin:3px 10px\"><a href=\"tel:+91+7983587936\" style=\"color:rgb(47,131,197)\" target=\"_blank\">+91\\xa0</a>8476062458</span></h4><h4 style=\"display:flex;margin:0px 0px 3px;color:rgb(47,131,197)\"><img src=\"https://s3.amazonaws.com/oodles-public/signature/Skype.png\" alt=\"\" style=\"width:20px;height:20px\"><span style=\"font-size:9pt;margin:3px 10px\">vikas.sanwal1</span></h4><h4 style=\"display:flex;margin:0px 0px 3px;color:rgb(47,131,197)\"><img src=\"https://s3.amazonaws.com/oodles-public/signature/wesbite.png\" alt=\"\" style=\"width:20px;height:20px\"><span style=\"font-size:9pt;margin:3px 10px\"><a href=\"https://www.oodlestechnologies.com/\" style=\"color:rgb(47,131,197);display:inline-block\" target=\"_blank\">www.oodlestechnologies.com</a>\\xa0|\\xa0<a href=\"https://www.oodlesmarketing.com/\" style=\"color:rgb(47,131,197);display:inline-block\" target=\"_blank\">www.oodlesmarketing.com</a>\\xa0|\\xa0<a href=\"https://www.oodlesstudio.com/\" style=\"color:rgb(47,131,197);display:inline-block\" target=\"_blank\">www.oodlesstudio.com</a></span></h4><h4 style=\"display:flex;margin:0px 0px 3px;color:rgb(140,140,140)\"><img src=\"https://s3.amazonaws.com/oodles-public/signature/location.png\" alt=\"\" style=\"width:20px;height:20px\"><span style=\"font-size:9pt;margin:3px 10px\">Unit No. 117- 120, Welldone Tech Park, Sector 48, Sohna Road, Gurugram, Haryana- 122018, IN.</span></h4></td></tr><tr><td valign=\"top\" style=\"padding:5px 0px 0px;vertical-align:top\"><a href=\"https://www.linkedin.com/company/oodles-technologies-pvt-ltd\" target=\"_blank\"><img alt=\"Facebook icon\" src=\"https://s3.amazonaws.com/oodles-public/signature/linkdin.png\" style=\"margin:0px 30px 0px 3px;width:20px;height:20px\"></a>\\xa0<a href=\"https://www.facebook.com/OodlesTech\" target=\"_blank\"><img alt=\"Youtbue icon\" src=\"https://s3.amazonaws.com/oodles-public/signature/facebook.png\" style=\"margin:0px 30px 0px 3px;width:20px;height:20px\"></a>\\xa0<a href=\"https://twitter.com/oodlestech\" target=\"_blank\"><img alt=\"LinkedIn icon\" src=\"https://s3.amazonaws.com/oodles-public/signature/twitter.png\" style=\"margin:0px 30px 0px 3px;width:20px;height:20px\"></a><p style=\"color:rgb(140,140,140)\">This e-mail message may contain confidential or legally privileged information and is intended only for the use of the intended recipient(s). Any unauthorized disclosure, dissemination, distribution, copying or the taking of any action in reliance on the information herein is prohibited. E-mails are not secure and cannot be guaranteed to be error free as they can be intercepted, amended, or contain viruses. Anyone who communicates with us by e-mail is deemed to have accepted these risks. Oodles Technologies is not responsible for errors or omissions in this message and denies any responsibility for any damage arising from the use of e-mail. Any opinion and other statement contained in this message and any attachment are solely those of the author and do not necessarily represent those of the company</p></td></tr></tbody></table></div></div></div></div>\\n',\n",
       "  'text': '<https://www.oodlestechnologies.com/>\\n*Vikas Sanwal* Associate Consultant L2 - Development\\n+91  <+91+7983587936>8476062458vikas.sanwal1www.oodlestechnologies.com |\\nwww.oodlesmarketing.com | www.oodlesstudio.comUnit No. 117- 120, Welldone\\nTech Park, Sector 48, Sohna Road, Gurugram, Haryana- 122018, IN.\\n[image: Facebook icon]\\n<https://www.linkedin.com/company/oodles-technologies-pvt-ltd> [image:\\nYoutbue icon] <https://www.facebook.com/OodlesTech> [image: LinkedIn icon]\\n<https://twitter.com/oodlestech>\\n\\nThis e-mail message may contain confidential or legally privileged\\ninformation and is intended only for the use of the intended recipient(s).\\nAny unauthorized disclosure, dissemination, distribution, copying or the\\ntaking of any action in reliance on the information herein is prohibited.\\nE-mails are not secure and cannot be guaranteed to be error free as they\\ncan be intercepted, amended, or contain viruses. Anyone who communicates\\nwith us by e-mail is deemed to have accepted these risks. Oodles\\nTechnologies is not responsible for errors or omissions in this message and\\ndenies any responsibility for any damage arising from the use of e-mail.\\nAny opinion and other statement contained in this message and any\\nattachment are solely those of the author and do not necessarily represent\\nthose of the company\\n',\n",
       "  'textAsHtml': '<p>&lt;<a href=\"https://www.oodlestechnologies.com/\">https://www.oodlestechnologies.com/</a>&gt;<br/>*Vikas Sanwal* Associate Consultant L2 - Development<br/>+91  &lt;+91+7983587936&gt;<a href=\"http://8476062458vikas.sanwal1www.oodlestechnologies.com\">8476062458vikas.sanwal1www.oodlestechnologies.com</a> |<br/><a href=\"http://www.oodlesmarketing.com\">www.oodlesmarketing.com</a> | www.oodlesstudio.comUnit No. 117- 120, Welldone<br/>Tech Park, Sector 48, Sohna Road, Gurugram, Haryana- 122018, IN.<br/>[image: Facebook icon]<br/>&lt;<a href=\"https://www.linkedin.com/company/oodles-technologies-pvt-ltd\">https://www.linkedin.com/company/oodles-technologies-pvt-ltd</a>&gt; [image:<br/>Youtbue icon] &lt;<a href=\"https://www.facebook.com/OodlesTech\">https://www.facebook.com/OodlesTech</a>&gt; [image: LinkedIn icon]<br/>&lt;<a href=\"https://twitter.com/oodlestech\">https://twitter.com/oodlestech</a>&gt;</p><p>This e-mail message may contain confidential or legally privileged<br/>information and is intended only for the use of the intended recipient(s).<br/>Any unauthorized disclosure, dissemination, distribution, copying or the<br/>taking of any action in reliance on the information herein is prohibited.<br/>E-mails are not secure and cannot be guaranteed to be error free as they<br/>can be intercepted, amended, or contain viruses. Anyone who communicates<br/>with us by e-mail is deemed to have accepted these risks. Oodles<br/>Technologies is not responsible for errors or omissions in this message and<br/>denies any responsibility for any damage arising from the use of e-mail.<br/>Any opinion and other statement contained in this message and any<br/>attachment are solely those of the author and do not necessarily represent<br/>those of the company</p>',\n",
       "  'subject': 'HL7 doc',\n",
       "  'date': '2025-05-05T10:23:32.000Z',\n",
       "  'to': {'value': [{'address': 'molu.tyagi@oodles.io', 'name': 'Molu Tyagi'}],\n",
       "   'html': '<span class=\"mp_address_group\"><span class=\"mp_address_name\">Molu Tyagi</span> &lt;<a href=\"mailto:molu.tyagi@oodles.io\" class=\"mp_address_email\">molu.tyagi@oodles.io</a>&gt;</span>',\n",
       "   'text': '\"Molu Tyagi\" <molu.tyagi@oodles.io>'},\n",
       "  'from': {'value': [{'address': 'vikas.sanwal1@oodles.io',\n",
       "     'name': 'Vikas Sanwal'}],\n",
       "   'html': '<span class=\"mp_address_group\"><span class=\"mp_address_name\">Vikas Sanwal</span> &lt;<a href=\"mailto:vikas.sanwal1@oodles.io\" class=\"mp_address_email\">vikas.sanwal1@oodles.io</a>&gt;</span>',\n",
       "   'text': '\"Vikas Sanwal\" <vikas.sanwal1@oodles.io>'},\n",
       "  'messageId': '<CANtADnNh_40kG__zykbnEeuvdnei0-tr=xOoCh0EACmquPXy8Q@mail.gmail.com>'},\n",
       " {'id': '19691c07bef48235',\n",
       "  'threadId': '19691c07bef48235',\n",
       "  'labelIds': ['CATEGORY_UPDATES', 'SENT'],\n",
       "  'sizeEstimate': 30589,\n",
       "  'headers': {'delivered-to': 'Delivered-To: drive-shares-dm-noreply@google.com',\n",
       "   'received': 'Received: by 2002:a05:7412:51c:b0:154:e554:a3c8 with SMTP id 28csp920052rdc;\\r\\n        Fri, 2 May 2025 09:07:13 -0700 (PDT)',\n",
       "   'dkim-signature': 'DKIM-Signature: v=1; a=rsa-sha256; c=relaxed/relaxed;\\r\\n        d=google.com; s=20230601; t=1746202034; x=1746806834; dara=google.com;\\r\\n        h=to:from:subject:date:message-id:references:reply-to:mime-version\\r\\n         :from:to:cc:subject:date:message-id:reply-to;\\r\\n        bh=WhZL+qS27ghsUpEbcHTDzshXIIQsAjm47eQvtqeZeTk=;\\r\\n        b=k2AS0phzfCEM0U5jdpxLQM+1omk3IT769Sx9Hzgu+/hgcN80LqRNtXdX+HhFKdGq3n\\r\\n         65fvgUY0h7+8IN3yiC3Kyl51dvXK+pF/V3nLRmXoAsZfYybR/FZPgnhEFHEMFeSLo1TH\\r\\n         IYTykmalq3r5vR3YEmZQwwrUuMRLgTBtpyusXiLtoeOvgRrdMpG6yKZQYmwZW3fPL3k8\\r\\n         nXnuAcflvDQe/lWcJmE8TbKAMaX8H66arjaazHfs4BFjmU71DR6avrABMcafT/8Zmapa\\r\\n         f5AxOHEgsBL/v3m87FWjPtFjKEgbi6Xt9JOOTtWyVeZq3DeumIDVLSm7hnk3xyScpBEc\\r\\n         /VyA==',\n",
       "   'x-google-dkim-signature': 'X-Google-DKIM-Signature: v=1; a=rsa-sha256; c=relaxed/relaxed;\\r\\n        d=1e100.net; s=20230601; t=1746202034; x=1746806834;\\r\\n        h=to:from:subject:date:message-id:references:reply-to:mime-version\\r\\n         :x-gm-message-state:from:to:cc:subject:date:message-id:reply-to;\\r\\n        bh=WhZL+qS27ghsUpEbcHTDzshXIIQsAjm47eQvtqeZeTk=;\\r\\n        b=PtsbFJ9BSSzt5rkYVLUHU+kebMYGBVXmu2Lr1/obAOARXWgthgzAzoihLtW/qU8BUx\\r\\n         r4PTwI9quw3ccW2CMDvBWAprx2bZ9e2o2+XTrU8kTKR3VXNryT77cxyba8PrYwJ7NRGo\\r\\n         p9jwdk3ROihQEHpt+mZGJFB96F3haH3E5koAS7D8yKtysSdk6lt3FrcTDwiRX1PQCocK\\r\\n         h0oeoTZixoVG19511fs8Z+b3Ncw5K61pZvB9sFSU+IAMCOFAb9FPZ+NFHfz9MHJQHnFe\\r\\n         SreZT4hI7izMXRM0m5nN6+G2xHorpYVOR0IEHBTJe6IY1gpKHzgJbO0nGeufFKRLxXIg\\r\\n         24CQ==',\n",
       "   'x-forwarded-encrypted': 'X-Forwarded-Encrypted: i=1; AJvYcCWgqGL5b1cZTLKRK0myBJWpLZ377IIgXeDAb2N7w0ovM0MUk2wp4Z/Lyedcx+rWTMo3ycLN6hYvn/eiWuWJDxsNa/LbQIwNBQ==@google.com',\n",
       "   'x-received': 'X-Received: by 2002:a05:6808:164a:b0:403:3973:23ca with SMTP id\\r\\n 5614622812f47-403414b6e88mr1641439b6e.33.1746202032775; Fri, 02 May 2025\\r\\n 09:07:12 -0700 (PDT)',\n",
       "   'x-gm-message-state': 'X-Gm-Message-State: AOJu0YwsBkSiN9qlcUGOtB+xW9hWiaMPTbNzsxBoE6700oK0CEN4Njn9\\r\\n\\tOsKZG9gj/7TV5PHkLzrDNW/S1oxOJFVjxBiZuaeLs/gS91xuZn11sz+i9axgDCHb6ZkyERK0hQW\\r\\n\\tVKo6V9+krxYi8vNhDFzngZvCUjWcb2xbYB9pZP80Q62nlcd8LaQJ8gGgbpHAqm0H5CCQ67g3Qmn\\r\\n\\t9nd7xS8jFkpl/OV/ibU8D2QFQxWKUcTeqyMKddvKSW',\n",
       "   'x-google-smtp-source': 'X-Google-Smtp-Source: AGHT+IF35kc2V+KLjNk6aaSBOP+m2qqyqsFbj7uWQxjVucMaM+dQ2lAqW8RjtWDGrcaqvWKWNbmz0Flo2qo=',\n",
       "   'mime-version': 'MIME-Version: 1.0',\n",
       "   'reply-to': 'Reply-To: Vikas Sanwal <vikas.sanwal1@oodles.io>',\n",
       "   'x-no-auto-attachment': 'X-No-Auto-Attachment: 1',\n",
       "   'references': 'References: <e83f259d-b9c8-4d07-820e-7c34dd5cdf1d@docs-share.google.com>',\n",
       "   'message-id': 'Message-ID: <autogen-java-ccce2691-8873-4ba4-b68d-0f19065bd188@google.com>',\n",
       "   'date': 'Date: Fri, 02 May 2025 16:07:12 +0000',\n",
       "   'subject': 'Subject: =?UTF-8?B?RG9jdW1lbnQgc2hhcmVkIHdpdGggeW91OiDigJhITDcgdjIuOS4x4oCZ?=',\n",
       "   'from': 'From: \"Vikas Sanwal (via Google Docs)\" <drive-shares-dm-noreply@google.com>',\n",
       "   'to': 'To: vikassnwl@gmail.com',\n",
       "   'content-type': 'Content-Type: multipart/alternative; boundary=\"000000000000debb980634295730\"'},\n",
       "  'html': '<html><head></head><body><table style=\"border-collapse: collapse; width: 100%; background-color: white; text-align: center;\" role=\"presentation\"><tr><td style=\"padding: 24px 0 16px 0;\"><table style=\"border-collapse: collapse;font-family: Roboto, Arial, Helvetica, sans-serif;hyphens: auto; overflow-wrap: break-word; word-wrap: break-word; word-break: break-word;width: 90%; margin: auto;max-width: 700px;min-width: 280px; text-align: left;\" role=\"presentation\"><tr><td style=\"padding: 0;\"><table style=\"width:100%; border: 1px solid #dadce0; border-radius: 8px; border-spacing: 0; table-layout:fixed; border-collapse: separate;\" role=\"presentation\"><tr><td style=\"padding: 4.5%;\" dir=\"ltr\"><div style=\"margin-bottom:32px;font-family: Google Sans, Roboto, Arial, Helvetica, sans-serif; font-style: normal; font-size: 28px; line-height: 36px; color: #3c4043;\">Vikas Sanwal shared a document</div><table style=\"border-collapse: collapse;font-family: Roboto, Arial, Helvetica, sans-serif; font-size:16px; line-height:24px; color:#202124; letter-spacing:0.1px; table-layout:fixed; width:100%; overflow-wrap: break-word;\" role=\"presentation\"><tr><td style=\"padding: 0; vertical-align:top; width:50px;\"><!--[if mso]><v:oval xmlns:v=\"urn:schemas-microsoft-com:vml\" xmlns:w=\"urn:schemas-microsoft-com:office:word\" style=\"height:50px;width:50px;\" fill=\"t\" stroke=\"f\"><v:fill type=\"frame\" src=\"https://lh3.googleusercontent.com/a/ACg8ocJlEgngzSWqtywRrnXWNoGhhAtpgpvzjSbsoC_g8FxGw0mF6g=s64\" alt=\"Header profile photo\" style=\"height:50px;width:50px;\"/></v:oval><![endif]--><div style=\"mso-hide:all;\"><img style=\"border-radius:50%; display:block;\" width=\"50\" height=\"50\" src=\"https://lh3.googleusercontent.com/a/ACg8ocJlEgngzSWqtywRrnXWNoGhhAtpgpvzjSbsoC_g8FxGw0mF6g=s64\" alt=\"Header profile photo\"></div></td><td style=\"padding: 0; vertical-align:top; padding-left:12px;\"><div style=\"padding-top:12px;\">Vikas Sanwal (<a href=\"mailto:vikas.sanwal1@oodles.io\" style=\"color:inherit;text-decoration:none\">vikas.sanwal1@oodles.io</a>) has invited you to <b>edit</b> the following document:</div></td></tr></table><table style=\"border-spacing:0 4px; table-layout:fixed; width:100%; overflow-wrap: break-word;\" role=\"presentation\"><tr style=\"height:28px;\"></tr><tr><td style=\"padding: 0;\"><a href=\"https://docs.google.com/document/d/1yeTjugVmJZ5TEQ-_6ys6l3rpCpuBYvMyGwDgfDh561I/edit?usp=sharing_eil&amp;ts=6814edb0\" target=\"_blank\" style=\"color: #3c4043; display: inline-block; max-width: 100%; text-decoration: none; vertical-align: top;border: 1px solid #DADCE0; border-radius: 16px; white-space: nowrap;\"><div style=\"line-height: 18px; overflow: hidden; text-overflow: ellipsis;padding: 6px 12px;\"><span style=\"display: inline-block; vertical-align: top; min-width: 26px; width: 26px;\"><img src=\"https://ssl.gstatic.com/docs/doclist/images/mediatype/icon_1_document_x64.png\" width=\"18\" height=\"18\" style=\"vertical-align: top;\" role=\"presentation\"></span><span style=\"font: 500 14px/18px Google Sans, Roboto, Arial, Helvetica, sans-serif; display: inline; letter-spacing: 0.2px;\">HL7 v2.9.1</span></div></a></td></tr></table><table style=\"border-collapse: collapse;\" role=\"presentation\"><tr style=\"height: 32px\"><td></td></tr></table><div><!--[if mso]><v:roundrect xmlns:v=\"urn:schemas-microsoft-com:vml\" xmlns:w=\"urn:schemas-microsoft-com:office:word\" href=\"https://docs.google.com/document/d/1yeTjugVmJZ5TEQ-_6ys6l3rpCpuBYvMyGwDgfDh561I/edit?usp=sharing_eip&amp;ts=6814edb0\" style=\"height:36px; width:100px; v-text-anchor:middle;\" arcsize=\"50%\" stroke=\"f\" fillcolor=\"#1a73e8\"><w:anchorlock/><center style=\"color:#ffffff;font-family:Arial,Helvetica,sans-serif;font-weight:500;font-size:14px;\">Open </center></v:roundrect><![endif]--><a href=\"https://docs.google.com/document/d/1yeTjugVmJZ5TEQ-_6ys6l3rpCpuBYvMyGwDgfDh561I/edit?usp=sharing_eip&amp;ts=6814edb0\" class=\"material-button material-button-filled\" target=\"_blank\" tabindex=\"0\" role=\"button\" style=\"mso-hide:all;padding: 0 24px;font: 500 14px/36px Google Sans, Roboto, Arial, Helvetica, sans-serif; border: none; border-radius: 18px; box-sizing: border-box; display: inline-block; letter-spacing: .25px; min-height: 36px; text-align: center; text-decoration: none;background-color: #1a73e8; color: #fff; cursor: pointer;\">Open</a></div></td></tr></table><table style=\"border-collapse: collapse; width: 100%;\" role=\"presentation\"><tr><td style=\"padding: 24px 4.5%\"><table style=\"border-collapse: collapse; width: 100%;\" dir=\"ltr\"><tr><td style=\"padding: 0;font-family: Roboto, Arial, Helvetica, sans-serif; color: #5F6368; width: 100%; font-size: 12px; line-height: 16px; min-height: 40px; letter-spacing: .3px;\"><div>Does this item look suspicious? <a href=\"https://drive.google.com/drive/blockuser?blockerEmail=vikassnwl@gmail.com&amp;blockeeEmail=vikas.sanwal1@oodles.io&amp;usp=sharing_eib\" target=\"_blank\" style=\"color: #1a73e8; text-decoration: underline;;\">Block sender</a></div> <br/>Google LLC, 1600 Amphitheatre Parkway, Mountain View, CA 94043, USA<br/> You have received this email because <a href=\"mailto:vikas.sanwal1@oodles.io\" style=\"color:inherit;text-decoration:none\">vikas.sanwal1@oodles.io</a> shared a document with you from Google Docs.</td><td style=\"padding: 0;padding-left: 20px; min-width: 96px\"><a href=\"https://workspace.google.com/\" target=\"_blank\" style=\"text-decoration: none\"><img src=\"https://www.gstatic.com/docs/documents/share/images/googleworkspace_logo_192x80.png\" width=\"96\" height=\"40\" alt=\"Google\" style=\"font-size:16px;font-weight:500;color:#5F6368\"></a></td></tr></table></td></tr></table></td></tr></table></td></tr></table></body></html>',\n",
       "  'text': \"I've shared an item with you:\\n\\nHL7 v2.9.1\\nhttps://docs.google.com/document/d/1yeTjugVmJZ5TEQ-_6ys6l3rpCpuBYvMyGwDgfDh561I/edit?usp=sharing&ts=6814edb0\\n\\nIt's not an attachment – it's stored online. To open this item, just click the link above.\\n\",\n",
       "  'textAsHtml': '<p>I&apos;ve shared an item with you:</p><p>HL7 v2.9.1<br/><a href=\"https://docs.google.com/document/d/1yeTjugVmJZ5TEQ-_6ys6l3rpCpuBYvMyGwDgfDh561I/edit?usp=sharing&ts=6814edb0\">https://docs.google.com/document/d/1yeTjugVmJZ5TEQ-_6ys6l3rpCpuBYvMyGwDgfDh561I/edit?usp=sharing&ts=6814edb0</a></p><p>It&apos;s not an attachment &ndash; it&apos;s stored online. To open this item, just click the link above.</p>',\n",
       "  'subject': 'Document shared with you: ‘HL7 v2.9.1’',\n",
       "  'references': '<e83f259d-b9c8-4d07-820e-7c34dd5cdf1d@docs-share.google.com>',\n",
       "  'date': '2025-05-02T16:07:12.000Z',\n",
       "  'to': {'value': [{'address': 'vikassnwl@gmail.com', 'name': ''}],\n",
       "   'html': '<span class=\"mp_address_group\"><a href=\"mailto:vikassnwl@gmail.com\" class=\"mp_address_email\">vikassnwl@gmail.com</a></span>',\n",
       "   'text': 'vikassnwl@gmail.com'},\n",
       "  'from': {'value': [{'address': 'drive-shares-dm-noreply@google.com',\n",
       "     'name': 'Vikas Sanwal (via Google Docs)'}],\n",
       "   'html': '<span class=\"mp_address_group\"><span class=\"mp_address_name\">Vikas Sanwal (via Google Docs)</span> &lt;<a href=\"mailto:drive-shares-dm-noreply@google.com\" class=\"mp_address_email\">drive-shares-dm-noreply@google.com</a>&gt;</span>',\n",
       "   'text': '\"Vikas Sanwal (via Google Docs)\" <drive-shares-dm-noreply@google.com>'},\n",
       "  'messageId': '<autogen-java-ccce2691-8873-4ba4-b68d-0f19065bd188@google.com>',\n",
       "  'replyTo': {'value': [{'address': 'vikas.sanwal1@oodles.io',\n",
       "     'name': 'Vikas Sanwal'}],\n",
       "   'html': '<span class=\"mp_address_group\"><span class=\"mp_address_name\">Vikas Sanwal</span> &lt;<a href=\"mailto:vikas.sanwal1@oodles.io\" class=\"mp_address_email\">vikas.sanwal1@oodles.io</a>&gt;</span>',\n",
       "   'text': '\"Vikas Sanwal\" <vikas.sanwal1@oodles.io>'}}]"
      ]
     },
     "execution_count": 20,
     "metadata": {},
     "output_type": "execute_result"
    }
   ],
   "source": [
    "fetched_emails_loaded"
   ]
  },
  {
   "cell_type": "code",
   "execution_count": 21,
   "id": "8dcbd783",
   "metadata": {},
   "outputs": [
    {
     "data": {
      "text/plain": [
       "3"
      ]
     },
     "execution_count": 21,
     "metadata": {},
     "output_type": "execute_result"
    }
   ],
   "source": [
    "num_emails_fetched = len(fetched_emails_loaded)\n",
    "num_emails_fetched"
   ]
  },
  {
   "cell_type": "code",
   "execution_count": 22,
   "id": "21abdc0a",
   "metadata": {},
   "outputs": [
    {
     "name": "stdout",
     "output_type": "stream",
     "text": [
      "Analyzing 0th item...\n",
      "-----------------------\n",
      "Item has type: <class 'dict'>\n",
      "Item has the following keys: ('cc', 'date', 'from', 'headers', 'html', 'id', 'labelIds', 'messageId', 'sizeEstimate', 'subject', 'text', 'textAsHtml', 'threadId', 'to')\n",
      "\n",
      "Analyzing 1th item...\n",
      "-----------------------\n",
      "Item has type: <class 'dict'>\n",
      "Item has the following keys: ('date', 'from', 'headers', 'html', 'id', 'labelIds', 'messageId', 'sizeEstimate', 'subject', 'text', 'textAsHtml', 'threadId', 'to')\n",
      "\n",
      "Analyzing 2th item...\n",
      "-----------------------\n",
      "Item has type: <class 'dict'>\n",
      "Item has the following keys: ('date', 'from', 'headers', 'html', 'id', 'labelIds', 'messageId', 'references', 'replyTo', 'sizeEstimate', 'subject', 'text', 'textAsHtml', 'threadId', 'to')\n",
      "\n"
     ]
    }
   ],
   "source": [
    "from pprint import pprint\n",
    "\n",
    "keys_of_items = set()\n",
    "\n",
    "for i in range(len(fetched_emails_loaded)):\n",
    "    print(f\"Analyzing {i}th item...\")\n",
    "    print(\"-----------------------\")\n",
    "    item = fetched_emails_loaded[i]\n",
    "    keys_of_item = tuple(sorted(item.keys()))\n",
    "    keys_of_items.add(keys_of_item)\n",
    "    print(f\"Item has type: {type(item)}\")\n",
    "    print(f\"Item has the following keys: {keys_of_item}\")\n",
    "    print()\n",
    "\n",
    "if len(keys_of_items) == 1:\n",
    "    print(\"All items contains exact same keys.\")"
   ]
  },
  {
   "cell_type": "code",
   "execution_count": 23,
   "id": "7231a37b",
   "metadata": {},
   "outputs": [
    {
     "data": {
      "text/plain": [
       "3"
      ]
     },
     "execution_count": 23,
     "metadata": {},
     "output_type": "execute_result"
    }
   ],
   "source": [
    "len(keys_of_items)"
   ]
  },
  {
   "cell_type": "code",
   "execution_count": 24,
   "id": "916d7892",
   "metadata": {},
   "outputs": [
    {
     "data": {
      "text/plain": [
       "{('cc',\n",
       "  'date',\n",
       "  'from',\n",
       "  'headers',\n",
       "  'html',\n",
       "  'id',\n",
       "  'labelIds',\n",
       "  'messageId',\n",
       "  'sizeEstimate',\n",
       "  'subject',\n",
       "  'text',\n",
       "  'textAsHtml',\n",
       "  'threadId',\n",
       "  'to'),\n",
       " ('date',\n",
       "  'from',\n",
       "  'headers',\n",
       "  'html',\n",
       "  'id',\n",
       "  'labelIds',\n",
       "  'messageId',\n",
       "  'references',\n",
       "  'replyTo',\n",
       "  'sizeEstimate',\n",
       "  'subject',\n",
       "  'text',\n",
       "  'textAsHtml',\n",
       "  'threadId',\n",
       "  'to'),\n",
       " ('date',\n",
       "  'from',\n",
       "  'headers',\n",
       "  'html',\n",
       "  'id',\n",
       "  'labelIds',\n",
       "  'messageId',\n",
       "  'sizeEstimate',\n",
       "  'subject',\n",
       "  'text',\n",
       "  'textAsHtml',\n",
       "  'threadId',\n",
       "  'to')}"
      ]
     },
     "execution_count": 24,
     "metadata": {},
     "output_type": "execute_result"
    }
   ],
   "source": [
    "keys_of_items"
   ]
  },
  {
   "cell_type": "code",
   "execution_count": 25,
   "id": "4a8311f1",
   "metadata": {},
   "outputs": [
    {
     "name": "stdout",
     "output_type": "stream",
     "text": [
      "All unique keys present across emails:\n",
      "---------------------------\n",
      "references\n",
      "cc\n",
      "to\n",
      "date\n",
      "headers\n",
      "sizeEstimate\n",
      "labelIds\n",
      "threadId\n",
      "replyTo\n",
      "id\n",
      "messageId\n",
      "subject\n",
      "textAsHtml\n",
      "from\n",
      "text\n",
      "html\n"
     ]
    }
   ],
   "source": [
    "keys1, keys2, keys3 = list(keys_of_items)\n",
    "keys1 = set(keys1)\n",
    "keys2 = set(keys2)\n",
    "keys3 = set(keys3)\n",
    "\n",
    "print(\"All unique keys present across emails:\")\n",
    "print(\"---------------------------\")\n",
    "print('\\n'.join(keys1|keys2|keys3))"
   ]
  },
  {
   "cell_type": "code",
   "execution_count": 35,
   "id": "1257d45b",
   "metadata": {},
   "outputs": [
    {
     "name": "stdout",
     "output_type": "stream",
     "text": [
      "html0.html saved successfully!\n",
      "html1.html saved successfully!\n",
      "html2.html saved successfully!\n"
     ]
    }
   ],
   "source": [
    "for i, email_data in enumerate(fetched_emails_loaded):\n",
    "    html = email_data[\"html\"]\n",
    "    # print(html)\n",
    "    filename = f\"html{i}.html\"\n",
    "    try:\n",
    "        open(filename, \"w\").write(html)\n",
    "        print(f\"{filename} saved successfully!\")\n",
    "    except Exception as e:\n",
    "        print(f\"Error saving {filename}\")"
   ]
  },
  {
   "cell_type": "code",
   "execution_count": 36,
   "id": "f447298f",
   "metadata": {},
   "outputs": [
    {
     "data": {
      "text/plain": [
       "{'cc',\n",
       " 'date',\n",
       " 'from',\n",
       " 'headers',\n",
       " 'html',\n",
       " 'id',\n",
       " 'labelIds',\n",
       " 'messageId',\n",
       " 'sizeEstimate',\n",
       " 'subject',\n",
       " 'text',\n",
       " 'textAsHtml',\n",
       " 'threadId',\n",
       " 'to'}"
      ]
     },
     "execution_count": 36,
     "metadata": {},
     "output_type": "execute_result"
    }
   ],
   "source": [
    "keys1"
   ]
  },
  {
   "cell_type": "code",
   "execution_count": 37,
   "id": "e8fce0ab",
   "metadata": {},
   "outputs": [
    {
     "data": {
      "text/plain": [
       "{'date',\n",
       " 'from',\n",
       " 'headers',\n",
       " 'html',\n",
       " 'id',\n",
       " 'labelIds',\n",
       " 'messageId',\n",
       " 'references',\n",
       " 'replyTo',\n",
       " 'sizeEstimate',\n",
       " 'subject',\n",
       " 'text',\n",
       " 'textAsHtml',\n",
       " 'threadId',\n",
       " 'to'}"
      ]
     },
     "execution_count": 37,
     "metadata": {},
     "output_type": "execute_result"
    }
   ],
   "source": [
    "keys2"
   ]
  },
  {
   "cell_type": "code",
   "execution_count": 38,
   "id": "ff6d18ca",
   "metadata": {},
   "outputs": [
    {
     "data": {
      "text/plain": [
       "{'date',\n",
       " 'from',\n",
       " 'headers',\n",
       " 'html',\n",
       " 'id',\n",
       " 'labelIds',\n",
       " 'messageId',\n",
       " 'sizeEstimate',\n",
       " 'subject',\n",
       " 'text',\n",
       " 'textAsHtml',\n",
       " 'threadId',\n",
       " 'to'}"
      ]
     },
     "execution_count": 38,
     "metadata": {},
     "output_type": "execute_result"
    }
   ],
   "source": [
    "keys3"
   ]
  },
  {
   "cell_type": "code",
   "execution_count": null,
   "id": "7b9d6bc8",
   "metadata": {},
   "outputs": [],
   "source": []
  }
 ],
 "metadata": {
  "kernelspec": {
   "display_name": "Python 3",
   "language": "python",
   "name": "python3"
  },
  "language_info": {
   "codemirror_mode": {
    "name": "ipython",
    "version": 3
   },
   "file_extension": ".py",
   "mimetype": "text/x-python",
   "name": "python",
   "nbconvert_exporter": "python",
   "pygments_lexer": "ipython3",
   "version": "3.10.12"
  }
 },
 "nbformat": 4,
 "nbformat_minor": 5
}
