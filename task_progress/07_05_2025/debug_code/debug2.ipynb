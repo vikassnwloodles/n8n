{
 "cells": [
  {
   "cell_type": "code",
   "execution_count": 1,
   "id": "5aad8a85",
   "metadata": {},
   "outputs": [],
   "source": [
    "import json"
   ]
  },
  {
   "cell_type": "code",
   "execution_count": 2,
   "id": "45789c2a",
   "metadata": {},
   "outputs": [],
   "source": [
    "fetched_emails_filepath = \"artifacts/sent_emails_fetched2.json\""
   ]
  },
  {
   "cell_type": "code",
   "execution_count": 3,
   "id": "d5ff20f3",
   "metadata": {},
   "outputs": [],
   "source": [
    "fetched_emails_loaded = json.load(open(fetched_emails_filepath))"
   ]
  },
  {
   "cell_type": "code",
   "execution_count": 4,
   "id": "a69a9b78",
   "metadata": {},
   "outputs": [
    {
     "data": {
      "text/plain": [
       "[{'id': '196aa05d29070634',\n",
       "  'threadId': '196aa05d29070634',\n",
       "  'snippet': 'n n8n Workflow mentioned you in Meeting Summary 2025-05-07T11:13:36.243+02:00 May 7, 2025, 2:43 PM ·Notizen, Konzepte, Mitschriften DB Attendees Sarthak Dixit V Vikas Sanwal Go to page Update',\n",
       "  'payload': {'mimeType': 'multipart/alternative'},\n",
       "  'sizeEstimate': 17371,\n",
       "  'historyId': '14806',\n",
       "  'internalDate': '1746609230000',\n",
       "  'labels': [{'id': 'INBOX', 'name': 'INBOX'},\n",
       "   {'id': 'IMPORTANT', 'name': 'IMPORTANT'},\n",
       "   {'id': 'CATEGORY_UPDATES', 'name': 'CATEGORY_UPDATES'},\n",
       "   {'id': 'UNREAD', 'name': 'UNREAD'}],\n",
       "  'Subject': 'n8n Workflow mentioned you in Meeting Summary 2025-05-07T11:13:36.243+02:00',\n",
       "  'From': 'Notion Team <notify@mail.notion.so>',\n",
       "  'To': 'vikas.sanwal1@oodles.io'},\n",
       " {'id': '196aa050a497a956',\n",
       "  'threadId': '196aa050a497a956',\n",
       "  'snippet': 'n n8n Workflow mentioned you in Meeting Summary 2025-05-07T11:12:34.167+02:00 May 7, 2025, 2:42 PM ·Notizen, Konzepte, Mitschriften DB Attendees Sarthak Dixit V Vikas Sanwal Go to page Update',\n",
       "  'payload': {'mimeType': 'multipart/alternative'},\n",
       "  'sizeEstimate': 17384,\n",
       "  'historyId': '14708',\n",
       "  'internalDate': '1746609179000',\n",
       "  'labels': [{'id': 'INBOX', 'name': 'INBOX'},\n",
       "   {'id': 'IMPORTANT', 'name': 'IMPORTANT'},\n",
       "   {'id': 'CATEGORY_UPDATES', 'name': 'CATEGORY_UPDATES'},\n",
       "   {'id': 'UNREAD', 'name': 'UNREAD'}],\n",
       "  'Subject': 'n8n Workflow mentioned you in Meeting Summary 2025-05-07T11:12:34.167+02:00',\n",
       "  'From': 'Notion Team <notify@mail.notion.so>',\n",
       "  'To': 'vikas.sanwal1@oodles.io'}]"
      ]
     },
     "execution_count": 4,
     "metadata": {},
     "output_type": "execute_result"
    }
   ],
   "source": [
    "fetched_emails_loaded"
   ]
  },
  {
   "cell_type": "code",
   "execution_count": 5,
   "id": "8dcbd783",
   "metadata": {},
   "outputs": [
    {
     "data": {
      "text/plain": [
       "2"
      ]
     },
     "execution_count": 5,
     "metadata": {},
     "output_type": "execute_result"
    }
   ],
   "source": [
    "num_emails_fetched = len(fetched_emails_loaded)\n",
    "num_emails_fetched"
   ]
  },
  {
   "cell_type": "code",
   "execution_count": 6,
   "id": "21abdc0a",
   "metadata": {},
   "outputs": [
    {
     "name": "stdout",
     "output_type": "stream",
     "text": [
      "Analyzing 0th item...\n",
      "-----------------------\n",
      "Item has type: <class 'dict'>\n",
      "Item has the following keys: ('From', 'Subject', 'To', 'historyId', 'id', 'internalDate', 'labels', 'payload', 'sizeEstimate', 'snippet', 'threadId')\n",
      "\n",
      "Analyzing 1th item...\n",
      "-----------------------\n",
      "Item has type: <class 'dict'>\n",
      "Item has the following keys: ('From', 'Subject', 'To', 'historyId', 'id', 'internalDate', 'labels', 'payload', 'sizeEstimate', 'snippet', 'threadId')\n",
      "\n",
      "All items contains exact same keys.\n"
     ]
    }
   ],
   "source": [
    "from pprint import pprint\n",
    "\n",
    "keys_of_items = set()\n",
    "\n",
    "for i in range(len(fetched_emails_loaded)):\n",
    "    print(f\"Analyzing {i}th item...\")\n",
    "    print(\"-----------------------\")\n",
    "    item = fetched_emails_loaded[i]\n",
    "    keys_of_item = tuple(sorted(item.keys()))\n",
    "    keys_of_items.add(keys_of_item)\n",
    "    print(f\"Item has type: {type(item)}\")\n",
    "    print(f\"Item has the following keys: {keys_of_item}\")\n",
    "    print()\n",
    "\n",
    "if len(keys_of_items) == 1:\n",
    "    print(\"All items contains exact same keys.\")"
   ]
  },
  {
   "cell_type": "code",
   "execution_count": 7,
   "id": "916d7892",
   "metadata": {},
   "outputs": [
    {
     "data": {
      "text/plain": [
       "{('From',\n",
       "  'Subject',\n",
       "  'To',\n",
       "  'historyId',\n",
       "  'id',\n",
       "  'internalDate',\n",
       "  'labels',\n",
       "  'payload',\n",
       "  'sizeEstimate',\n",
       "  'snippet',\n",
       "  'threadId')}"
      ]
     },
     "execution_count": 7,
     "metadata": {},
     "output_type": "execute_result"
    }
   ],
   "source": [
    "keys_of_items"
   ]
  },
  {
   "cell_type": "code",
   "execution_count": null,
   "id": "c9e09bed",
   "metadata": {},
   "outputs": [
    {
     "name": "stdout",
     "output_type": "stream",
     "text": [
      "n8n Workflow mentioned you in Meeting Summary 2025-05-07T11:13:36.243+02:00\n",
      "n8n Workflow mentioned you in Meeting Summary 2025-05-07T11:12:34.167+02:00\n"
     ]
    }
   ],
   "source": [
    "# Extracting and printing desired data from each email\n",
    "for email_data in fetched_emails_loaded:\n",
    "    print(email_data[\"Subject\"])"
   ]
  },
  {
   "cell_type": "code",
   "execution_count": null,
   "id": "1257d45b",
   "metadata": {},
   "outputs": [],
   "source": []
  }
 ],
 "metadata": {
  "kernelspec": {
   "display_name": "Python 3",
   "language": "python",
   "name": "python3"
  },
  "language_info": {
   "codemirror_mode": {
    "name": "ipython",
    "version": 3
   },
   "file_extension": ".py",
   "mimetype": "text/x-python",
   "name": "python",
   "nbconvert_exporter": "python",
   "pygments_lexer": "ipython3",
   "version": "3.10.12"
  }
 },
 "nbformat": 4,
 "nbformat_minor": 5
}
