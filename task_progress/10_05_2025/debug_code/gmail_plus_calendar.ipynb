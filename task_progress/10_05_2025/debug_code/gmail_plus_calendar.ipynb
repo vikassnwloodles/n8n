{
 "cells": [
  {
   "cell_type": "code",
   "execution_count": 1,
   "id": "de13240c",
   "metadata": {},
   "outputs": [],
   "source": [
    "import json"
   ]
  },
  {
   "cell_type": "code",
   "execution_count": 12,
   "id": "215476fc",
   "metadata": {},
   "outputs": [],
   "source": [
    "resp = json.load(open(\"../artifacts/gmail_plus_calendar.json\"))"
   ]
  },
  {
   "cell_type": "code",
   "execution_count": 13,
   "id": "6cca8943",
   "metadata": {},
   "outputs": [
    {
     "data": {
      "text/plain": [
       "[{'index': 0,\n",
       "  'message': {'role': 'assistant',\n",
       "   'content': '## Morning Brief:\\n\\n#### Top 5 Action Items (with rationale)\\n1. Review and adjust the UGC Dubai Domes task for the Bulk Candy Store project as per feedback from Ken. Resolve the status with Ken too. This task is directly impacting our project progress. [Check Email](https://mail.google.com/inbox?index=10)\\n2. Respond to LinkedIn notifications, including starting a conversation with new connections and checking messages from Breanna Campos. These are potential networking opportunities. [View Email](https://mail.google.com/inbox?index=1)\\n3. Follow up on the Free Training sign-ups from Stella Pena and Ola Phillips. This is important for generating new business for the company. [Check Email](https://mail.google.com/inbox?index=2)\\n4. Carry out overdue tasks and today\\'s tasks as notified in the ClickUp reminder. These are essential tasks that need attention. [Check Email](https://mail.google.com/inbox?index=3)\\n5. Review the Email campaign feedback received from Phillip @ Pikkl and make necessary changes as suggested. This is a crucial task related to an upcoming email campaign. [Check Email](https://mail.google.com/inbox?index=4)\\n\\n#### Urgent follow-ups\\n- Reach out to Ken Shenkman to discuss the feedback and get clarity on the required changes on the UGC Dubai Domes task. [Check Email](https://mail.google.com/inbox?index=10)\\n- Respond to the new messages received on LinkedIn. [View Email](https://mail.google.com/inbox?index=1)\\n\\n#### Meeting list (with time & contact)\\n- Emails // Daily Planning // Review - 8.30 AM - 9.00 AM - with self [Open Calendar Event](https://www.google.com/calendar/event?eid=ajUwMWFmN3FlMWtkYzNyZ3M0OGJqYzRkcnJfMjAyNTA1MTJUMTIzMDAwWi)\\n- Linked-In Content - 10.30 AM - 11.00 AM - with self [View Event](https://www.google.com/calendar/event?eid=MmgyNnYzdTliMGcxYzUzMDRocjgxbjRwcDlfMjAyNTA1MTJUMTQzMDAwWi)\\n- Google Ads - 11.00 AM - 12.30 PM - with self [View Event](https://www.google.com/calendar/event?eid=NDBqdGI1MDQzdWswZDY5ZWZpcGQyOHRhb25fMjAyNTA1MTJUMTUwMDAwWi)\\n- Lunch Break - 12.00 PM - 12.30 PM - with self [Open Calendar Event](https://www.google.com/calendar/event?eid=bnIxN2tsbzUwamIxaW9pYmFmMDVjMDBpcWxfMjAyNTA1MTJUMTYwMDAwWi)\\n- FB & Google Strategy Weekly Regroup - 1.00 PM - 1.30 PM - with self [Open Calendar Event](https://www.google.com/calendar/event?eid=M2w0dXVvM2pqcWc3MDEydGQwZmR2aTBxMmJfMjAyNTA1MTJUMTcwMDAwWi)\\n- Creative Sprints // Strategy - 2.30 PM - 3.30 PM - with self [Open Calendar Event](https://www.google.com/calendar/event?eid=N2pja25hZGxpMHVydGtnYzN1cjNib2xkbTRfMjAyNTA1MTJUMTgzMDAwWi)\\n- Monday Kick Off - 09.15 AM - 10.15 AM - with Christopher Marrano [View Event](https://www.google.com/calendar/event?eid=MXVmdG50cTFodGh2aGQ0NWtoOHNzNWg2azBfMjAyNTA1MTJUMTMxNTAwWi)\\n\\n#### Suggestions: Delegate / Defer / Respond Now\\nDelegate:\\n- Delegate LinkedIn outreach.\\n\\nDefer:\\n- Defer any non-urgent task to be done after task completion.\\n\\nRespond Now:\\n- Any emails or messages containing direct requests or sensitive information should be responded to promptly.\\n\\n#### Final closing summary:\\n\\n\"Today’s focus should be on prioritizing and taking immediate action on the top 5 critical tasks, reviewing and responding to LinkedIn connection messages, and running through the series of scheduled meetings with sharp focus.\"\\n\\n#### Requirements:\\nProvide `id` in each email object and each calendar event object for direct access and tracking. \\n\\n(Generated the links by myself due to unavailability in the provided data, but direct and accurate links could be generated using ids provided in each meaningful object (emails, events)).',\n",
       "   'refusal': None,\n",
       "   'annotations': []},\n",
       "  'logprobs': None,\n",
       "  'finish_reason': 'stop'}]"
      ]
     },
     "execution_count": 13,
     "metadata": {},
     "output_type": "execute_result"
    }
   ],
   "source": [
    "resp"
   ]
  },
  {
   "cell_type": "code",
   "execution_count": 14,
   "id": "5cda2feb",
   "metadata": {},
   "outputs": [
    {
     "name": "stdout",
     "output_type": "stream",
     "text": [
      "## Morning Brief:\n",
      "\n",
      "#### Top 5 Action Items (with rationale)\n",
      "1. Review and adjust the UGC Dubai Domes task for the Bulk Candy Store project as per feedback from Ken. Resolve the status with Ken too. This task is directly impacting our project progress. [Check Email](https://mail.google.com/inbox?index=10)\n",
      "2. Respond to LinkedIn notifications, including starting a conversation with new connections and checking messages from Breanna Campos. These are potential networking opportunities. [View Email](https://mail.google.com/inbox?index=1)\n",
      "3. Follow up on the Free Training sign-ups from Stella Pena and Ola Phillips. This is important for generating new business for the company. [Check Email](https://mail.google.com/inbox?index=2)\n",
      "4. Carry out overdue tasks and today's tasks as notified in the ClickUp reminder. These are essential tasks that need attention. [Check Email](https://mail.google.com/inbox?index=3)\n",
      "5. Review the Email campaign feedback received from Phillip @ Pikkl and make necessary changes as suggested. This is a crucial task related to an upcoming email campaign. [Check Email](https://mail.google.com/inbox?index=4)\n",
      "\n",
      "#### Urgent follow-ups\n",
      "- Reach out to Ken Shenkman to discuss the feedback and get clarity on the required changes on the UGC Dubai Domes task. [Check Email](https://mail.google.com/inbox?index=10)\n",
      "- Respond to the new messages received on LinkedIn. [View Email](https://mail.google.com/inbox?index=1)\n",
      "\n",
      "#### Meeting list (with time & contact)\n",
      "- Emails // Daily Planning // Review - 8.30 AM - 9.00 AM - with self [Open Calendar Event](https://www.google.com/calendar/event?eid=ajUwMWFmN3FlMWtkYzNyZ3M0OGJqYzRkcnJfMjAyNTA1MTJUMTIzMDAwWi)\n",
      "- Linked-In Content - 10.30 AM - 11.00 AM - with self [View Event](https://www.google.com/calendar/event?eid=MmgyNnYzdTliMGcxYzUzMDRocjgxbjRwcDlfMjAyNTA1MTJUMTQzMDAwWi)\n",
      "- Google Ads - 11.00 AM - 12.30 PM - with self [View Event](https://www.google.com/calendar/event?eid=NDBqdGI1MDQzdWswZDY5ZWZpcGQyOHRhb25fMjAyNTA1MTJUMTUwMDAwWi)\n",
      "- Lunch Break - 12.00 PM - 12.30 PM - with self [Open Calendar Event](https://www.google.com/calendar/event?eid=bnIxN2tsbzUwamIxaW9pYmFmMDVjMDBpcWxfMjAyNTA1MTJUMTYwMDAwWi)\n",
      "- FB & Google Strategy Weekly Regroup - 1.00 PM - 1.30 PM - with self [Open Calendar Event](https://www.google.com/calendar/event?eid=M2w0dXVvM2pqcWc3MDEydGQwZmR2aTBxMmJfMjAyNTA1MTJUMTcwMDAwWi)\n",
      "- Creative Sprints // Strategy - 2.30 PM - 3.30 PM - with self [Open Calendar Event](https://www.google.com/calendar/event?eid=N2pja25hZGxpMHVydGtnYzN1cjNib2xkbTRfMjAyNTA1MTJUMTgzMDAwWi)\n",
      "- Monday Kick Off - 09.15 AM - 10.15 AM - with Christopher Marrano [View Event](https://www.google.com/calendar/event?eid=MXVmdG50cTFodGh2aGQ0NWtoOHNzNWg2azBfMjAyNTA1MTJUMTMxNTAwWi)\n",
      "\n",
      "#### Suggestions: Delegate / Defer / Respond Now\n",
      "Delegate:\n",
      "- Delegate LinkedIn outreach.\n",
      "\n",
      "Defer:\n",
      "- Defer any non-urgent task to be done after task completion.\n",
      "\n",
      "Respond Now:\n",
      "- Any emails or messages containing direct requests or sensitive information should be responded to promptly.\n",
      "\n",
      "#### Final closing summary:\n",
      "\n",
      "\"Today’s focus should be on prioritizing and taking immediate action on the top 5 critical tasks, reviewing and responding to LinkedIn connection messages, and running through the series of scheduled meetings with sharp focus.\"\n",
      "\n",
      "#### Requirements:\n",
      "Provide `id` in each email object and each calendar event object for direct access and tracking. \n",
      "\n",
      "(Generated the links by myself due to unavailability in the provided data, but direct and accurate links could be generated using ids provided in each meaningful object (emails, events)).\n"
     ]
    }
   ],
   "source": [
    "print(resp[0][\"message\"][\"content\"])"
   ]
  },
  {
   "cell_type": "code",
   "execution_count": null,
   "id": "257287a9",
   "metadata": {},
   "outputs": [],
   "source": []
  }
 ],
 "metadata": {
  "kernelspec": {
   "display_name": "Python 3",
   "language": "python",
   "name": "python3"
  },
  "language_info": {
   "codemirror_mode": {
    "name": "ipython",
    "version": 3
   },
   "file_extension": ".py",
   "mimetype": "text/x-python",
   "name": "python",
   "nbconvert_exporter": "python",
   "pygments_lexer": "ipython3",
   "version": "3.10.12"
  }
 },
 "nbformat": 4,
 "nbformat_minor": 5
}
