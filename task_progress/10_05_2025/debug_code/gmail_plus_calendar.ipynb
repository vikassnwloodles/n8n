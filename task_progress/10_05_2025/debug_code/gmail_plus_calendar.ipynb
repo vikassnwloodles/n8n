{
 "cells": [
  {
   "cell_type": "code",
   "execution_count": 2,
   "id": "de13240c",
   "metadata": {},
   "outputs": [],
   "source": [
    "import json"
   ]
  },
  {
   "cell_type": "code",
   "execution_count": 12,
   "id": "215476fc",
   "metadata": {},
   "outputs": [],
   "source": [
    "resp = json.load(open(\"../artifacts/gmail_plus_calendar.json\"))"
   ]
  },
  {
   "cell_type": "code",
   "execution_count": 13,
   "id": "6cca8943",
   "metadata": {},
   "outputs": [
    {
     "data": {
      "text/plain": [
       "[{'index': 0,\n",
       "  'message': {'role': 'assistant',\n",
       "   'content': '**Top 5 action items:**\\n\\n1. **Google Ads Approval:** Review approved ad variations and approve recommended changes to Google Ads for Red Rooster Coffee. Once approved, begin scheduling in Google Ads. *Why?* These are high-priority tasks directly impacting campaign performance. [View Task](<Task_Link>)\\n\\n2. **Client Follow-ups:** Follow-up with new free training sign-ups from Samkit Kataria, Stella Pena, Ola Phillips, and Anthony Doan. *Why?* Building customer relationships is vital to the business. [View Task](<Task_Link>)\\n\\n3. **Content Review:** Review and make necessary edits to the content titled \"Why Lowering Your Google Ad Spend Can Boost Profits\" as per Chris Marrano\\'s feedback. *Why?* Ensures quality content that meets brand standards [View Task](<Task_Link>)\\n\\n4. **LinkedIn Connections:** Review LinkedIn connection requests from Gregory Gatti, Angel Ferrer, and Aviran Mulain. *Why?* Expanding the network could bring potential business opportunities or partnerships. [View Task](<Task_Link>)\\n\\n5. **Response to Survey Requests:** Respond to Google Ads Research Team survey and provide feedback on product usage. *Why?* This helps improve Google Ads\\' offerings and provides a $10 gift code reward. [View Task](<Task_Link>)\\n\\n**Urgent follow-ups:**\\n\\n1. **Review and Respond to Slack Admin Updates:** Review the updates in the email from no-reply@email.slackhq.com about new features and UI enhancements. Respond if necessary. [View Task](<Task_Link>)\\n\\n2. **Google Ads Performance Review:** Review the performance report from Google for Red Rooster Coffee and strategize on the solutions mentioned to improve ad performance. [View Task](<Task_Link>)\\n\\n**Meeting List:**\\n\\n- Event: Emails // Daily Planning // Review. [View Event](https://www.google.com/calendar/event?eid=ajUwMWFmN3FlMWtkYzNyZ3M0OGJqYzRkcnJfMjAyNTA1MTJUMTIzMDAwWiBtYXR0QGJsdWV3YXRlcm1hcmtldGluZy5jb20)\\n  Time: 8:30 - 09:00 \\n  Contact: matt@bluewatermarketing.com\\n\\n- Event: Monday Kick Off. [View Event](https://www.google.com/calendar/event?eid=MXVmdG50cTFodGh2aGQ0NWtoOHNzNWg2azBfMjAyNTA1MTJUMTMxNTAwWiBtYXR0QGJsdWV3YXRlcm1hcmtldGluZy5jb20)\\n  Time: 09:15 - 10:15\\n  Contact: chris@bluewatermarketing.com\\n\\n**Suggestions:**\\n\\n**Delegate**\\n- LinkedIn Network Expansion: Can be delegated to a team member to filter important and potentially beneficial connections. \\n\\n**Defer**\\n- Survey feedback: If other priorities are pressing, this can be deferred until the close of the business day.\\n\\n**Respond Now**\\n- New client sign-ups: Immediate response can show proactive communication, improving client satisfaction.\\n\\n**Today’s focus should be...**\\nOn strategizing the week\\'s work, approving Google Ads, and communicating actively with new clients from the training sign-ups. The focus should also be on managing the advertising campaign deliverables on LinkedIn and Google, while checking new feature updates on Slack to improve workflow.',\n",
       "   'refusal': None,\n",
       "   'annotations': []},\n",
       "  'logprobs': None,\n",
       "  'finish_reason': 'stop'}]"
      ]
     },
     "execution_count": 13,
     "metadata": {},
     "output_type": "execute_result"
    }
   ],
   "source": [
    "resp"
   ]
  },
  {
   "cell_type": "code",
   "execution_count": 14,
   "id": "5cda2feb",
   "metadata": {},
   "outputs": [
    {
     "name": "stdout",
     "output_type": "stream",
     "text": [
      "**Top 5 action items:**\n",
      "\n",
      "1. **Google Ads Approval:** Review approved ad variations and approve recommended changes to Google Ads for Red Rooster Coffee. Once approved, begin scheduling in Google Ads. *Why?* These are high-priority tasks directly impacting campaign performance. [View Task](<Task_Link>)\n",
      "\n",
      "2. **Client Follow-ups:** Follow-up with new free training sign-ups from Samkit Kataria, Stella Pena, Ola Phillips, and Anthony Doan. *Why?* Building customer relationships is vital to the business. [View Task](<Task_Link>)\n",
      "\n",
      "3. **Content Review:** Review and make necessary edits to the content titled \"Why Lowering Your Google Ad Spend Can Boost Profits\" as per Chris Marrano's feedback. *Why?* Ensures quality content that meets brand standards [View Task](<Task_Link>)\n",
      "\n",
      "4. **LinkedIn Connections:** Review LinkedIn connection requests from Gregory Gatti, Angel Ferrer, and Aviran Mulain. *Why?* Expanding the network could bring potential business opportunities or partnerships. [View Task](<Task_Link>)\n",
      "\n",
      "5. **Response to Survey Requests:** Respond to Google Ads Research Team survey and provide feedback on product usage. *Why?* This helps improve Google Ads' offerings and provides a $10 gift code reward. [View Task](<Task_Link>)\n",
      "\n",
      "**Urgent follow-ups:**\n",
      "\n",
      "1. **Review and Respond to Slack Admin Updates:** Review the updates in the email from no-reply@email.slackhq.com about new features and UI enhancements. Respond if necessary. [View Task](<Task_Link>)\n",
      "\n",
      "2. **Google Ads Performance Review:** Review the performance report from Google for Red Rooster Coffee and strategize on the solutions mentioned to improve ad performance. [View Task](<Task_Link>)\n",
      "\n",
      "**Meeting List:**\n",
      "\n",
      "- Event: Emails // Daily Planning // Review. [View Event](https://www.google.com/calendar/event?eid=ajUwMWFmN3FlMWtkYzNyZ3M0OGJqYzRkcnJfMjAyNTA1MTJUMTIzMDAwWiBtYXR0QGJsdWV3YXRlcm1hcmtldGluZy5jb20)\n",
      "  Time: 8:30 - 09:00 \n",
      "  Contact: matt@bluewatermarketing.com\n",
      "\n",
      "- Event: Monday Kick Off. [View Event](https://www.google.com/calendar/event?eid=MXVmdG50cTFodGh2aGQ0NWtoOHNzNWg2azBfMjAyNTA1MTJUMTMxNTAwWiBtYXR0QGJsdWV3YXRlcm1hcmtldGluZy5jb20)\n",
      "  Time: 09:15 - 10:15\n",
      "  Contact: chris@bluewatermarketing.com\n",
      "\n",
      "**Suggestions:**\n",
      "\n",
      "**Delegate**\n",
      "- LinkedIn Network Expansion: Can be delegated to a team member to filter important and potentially beneficial connections. \n",
      "\n",
      "**Defer**\n",
      "- Survey feedback: If other priorities are pressing, this can be deferred until the close of the business day.\n",
      "\n",
      "**Respond Now**\n",
      "- New client sign-ups: Immediate response can show proactive communication, improving client satisfaction.\n",
      "\n",
      "**Today’s focus should be...**\n",
      "On strategizing the week's work, approving Google Ads, and communicating actively with new clients from the training sign-ups. The focus should also be on managing the advertising campaign deliverables on LinkedIn and Google, while checking new feature updates on Slack to improve workflow.\n"
     ]
    }
   ],
   "source": [
    "print(resp[0][\"message\"][\"content\"])"
   ]
  },
  {
   "cell_type": "code",
   "execution_count": null,
   "id": "257287a9",
   "metadata": {},
   "outputs": [],
   "source": []
  }
 ],
 "metadata": {
  "kernelspec": {
   "display_name": "Python 3",
   "language": "python",
   "name": "python3"
  },
  "language_info": {
   "codemirror_mode": {
    "name": "ipython",
    "version": 3
   },
   "file_extension": ".py",
   "mimetype": "text/x-python",
   "name": "python",
   "nbconvert_exporter": "python",
   "pygments_lexer": "ipython3",
   "version": "3.10.12"
  }
 },
 "nbformat": 4,
 "nbformat_minor": 5
}
