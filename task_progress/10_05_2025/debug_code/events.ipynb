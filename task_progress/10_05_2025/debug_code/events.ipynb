{
 "cells": [
  {
   "cell_type": "code",
   "execution_count": 5,
   "id": "472a4334",
   "metadata": {},
   "outputs": [],
   "source": [
    "import json\n",
    "from pprint import pprint"
   ]
  },
  {
   "cell_type": "code",
   "execution_count": 2,
   "id": "dbc82f64",
   "metadata": {},
   "outputs": [],
   "source": [
    "events = json.load(open(\"../artifacts/events.json\"))"
   ]
  },
  {
   "cell_type": "code",
   "execution_count": 6,
   "id": "b3aee1d8",
   "metadata": {},
   "outputs": [
    {
     "name": "stdout",
     "output_type": "stream",
     "text": [
      "{'created': '2022-09-16T12:05:46.000Z',\n",
      " 'creator': {'email': 'matt@bluewatermarketing.com', 'self': True},\n",
      " 'end': {'date': '2025-05-13'},\n",
      " 'etag': '\"3412395527206000\"',\n",
      " 'eventType': 'workingLocation',\n",
      " 'htmlLink': 'https://www.google.com/calendar/event?eid=dnRlbzYwZTZoNm9nb3VlZjMxb242MmVycmNfMjAyNTA1MTIgbWF0dEBibHVld2F0ZXJtYXJrZXRpbmcuY29t',\n",
      " 'iCalUID': 'vteo60e6h6ogouef31on62errc@google.com',\n",
      " 'id': 'vteo60e6h6ogouef31on62errc_20250512',\n",
      " 'kind': 'calendar#event',\n",
      " 'organizer': {'email': 'matt@bluewatermarketing.com', 'self': True},\n",
      " 'originalStartTime': {'date': '2025-05-12'},\n",
      " 'recurringEventId': 'vteo60e6h6ogouef31on62errc',\n",
      " 'reminders': {'useDefault': False},\n",
      " 'sequence': 0,\n",
      " 'start': {'date': '2025-05-12'},\n",
      " 'status': 'confirmed',\n",
      " 'summary': 'Office',\n",
      " 'transparency': 'transparent',\n",
      " 'updated': '2024-01-25T15:49:23.603Z',\n",
      " 'visibility': 'public',\n",
      " 'workingLocationProperties': {'officeLocation': {}, 'type': 'officeLocation'}}\n"
     ]
    }
   ],
   "source": [
    "for event in events:\n",
    "    pprint(event)\n",
    "    break"
   ]
  },
  {
   "cell_type": "code",
   "execution_count": 10,
   "id": "18aca7e9",
   "metadata": {},
   "outputs": [],
   "source": [
    "events_summary = json.load(open(\"../artifacts/events_summary.json\"))"
   ]
  },
  {
   "cell_type": "code",
   "execution_count": 15,
   "id": "e09fd4c9",
   "metadata": {},
   "outputs": [
    {
     "name": "stdout",
     "output_type": "stream",
     "text": [
      "[\n",
      "{\n",
      "  \"summary\": \"Emails // Daily Planning // Review\",\n",
      "  \"classification\": \"Internal Team Block\",\n",
      "  \"reason\": \"This event involves emails and planning tasks that are typically internal activities.\"\n",
      "},\n",
      "{\n",
      "  \"summary\": \"Google Ads\",\n",
      "  \"classification\": \"Internal Team Block\",\n",
      "  \"reason\": \"The event title 'Google Ads' suggests internal work related to managing Google Ads.\"\n",
      "},\n",
      "{\n",
      "  \"summary\": \"Linked-In Content\",\n",
      "  \"classification\": \"Internal Team Block\",\n",
      "  \"reason\": \"The title 'Linked-In Content' implies work related to internally managing LinkedIn content.\"\n",
      "},\n",
      "{\n",
      "  \"summary\": \"Lunch Break\",\n",
      "  \"classification\": \"Free Time Block\",\n",
      "  \"reason\": \"A 'Lunch Break' is a break for personal time, classifying it as Free Time Block.\"\n",
      "},\n",
      "{\n",
      "  \"summary\": \"FB & Google Strategy Weekly Regroup\",\n",
      "  \"classification\": \"Internal Team Block\",\n",
      "  \"reason\": \"This event with a title 'FB & Google Strategy Weekly Regroup' suggests internal strategic discussion, thus classified as Internal Team Block.\"\n",
      "},\n",
      "{\n",
      "  \"summary\": \"Monday Kick Off\",\n",
      "  \"classification\": \"Internal Team Block\",\n",
      "  \"reason\": \"The 'Monday Kick Off' event sounds like an internal meeting, thus it's labeled as Internal Team Block.\"\n",
      "}\n",
      "]\n"
     ]
    }
   ],
   "source": [
    "print(events_summary[0][\"message\"][\"content\"])"
   ]
  },
  {
   "cell_type": "code",
   "execution_count": 16,
   "id": "df2932c2",
   "metadata": {},
   "outputs": [
    {
     "data": {
      "text/plain": [
       "str"
      ]
     },
     "execution_count": 16,
     "metadata": {},
     "output_type": "execute_result"
    }
   ],
   "source": [
    "type(events_summary[0][\"message\"][\"content\"])"
   ]
  },
  {
   "cell_type": "code",
   "execution_count": 19,
   "id": "8e063ca7",
   "metadata": {},
   "outputs": [],
   "source": [
    "import pandas as pd"
   ]
  },
  {
   "cell_type": "code",
   "execution_count": 20,
   "id": "a52a3722",
   "metadata": {},
   "outputs": [],
   "source": [
    "df = pd.DataFrame(json.loads(events_summary[0][\"message\"][\"content\"]))"
   ]
  },
  {
   "cell_type": "code",
   "execution_count": 21,
   "id": "bdd9e2d1",
   "metadata": {},
   "outputs": [
    {
     "data": {
      "text/html": [
       "<div>\n",
       "<style scoped>\n",
       "    .dataframe tbody tr th:only-of-type {\n",
       "        vertical-align: middle;\n",
       "    }\n",
       "\n",
       "    .dataframe tbody tr th {\n",
       "        vertical-align: top;\n",
       "    }\n",
       "\n",
       "    .dataframe thead th {\n",
       "        text-align: right;\n",
       "    }\n",
       "</style>\n",
       "<table border=\"1\" class=\"dataframe\">\n",
       "  <thead>\n",
       "    <tr style=\"text-align: right;\">\n",
       "      <th></th>\n",
       "      <th>summary</th>\n",
       "      <th>classification</th>\n",
       "      <th>reason</th>\n",
       "    </tr>\n",
       "  </thead>\n",
       "  <tbody>\n",
       "    <tr>\n",
       "      <th>0</th>\n",
       "      <td>Emails // Daily Planning // Review</td>\n",
       "      <td>Internal Team Block</td>\n",
       "      <td>This event involves emails and planning tasks ...</td>\n",
       "    </tr>\n",
       "    <tr>\n",
       "      <th>1</th>\n",
       "      <td>Google Ads</td>\n",
       "      <td>Internal Team Block</td>\n",
       "      <td>The event title 'Google Ads' suggests internal...</td>\n",
       "    </tr>\n",
       "    <tr>\n",
       "      <th>2</th>\n",
       "      <td>Linked-In Content</td>\n",
       "      <td>Internal Team Block</td>\n",
       "      <td>The title 'Linked-In Content' implies work rel...</td>\n",
       "    </tr>\n",
       "    <tr>\n",
       "      <th>3</th>\n",
       "      <td>Lunch Break</td>\n",
       "      <td>Free Time Block</td>\n",
       "      <td>A 'Lunch Break' is a break for personal time, ...</td>\n",
       "    </tr>\n",
       "    <tr>\n",
       "      <th>4</th>\n",
       "      <td>FB &amp; Google Strategy Weekly Regroup</td>\n",
       "      <td>Internal Team Block</td>\n",
       "      <td>This event with a title 'FB &amp; Google Strategy ...</td>\n",
       "    </tr>\n",
       "    <tr>\n",
       "      <th>5</th>\n",
       "      <td>Monday Kick Off</td>\n",
       "      <td>Internal Team Block</td>\n",
       "      <td>The 'Monday Kick Off' event sounds like an int...</td>\n",
       "    </tr>\n",
       "  </tbody>\n",
       "</table>\n",
       "</div>"
      ],
      "text/plain": [
       "                               summary       classification  \\\n",
       "0   Emails // Daily Planning // Review  Internal Team Block   \n",
       "1                           Google Ads  Internal Team Block   \n",
       "2                    Linked-In Content  Internal Team Block   \n",
       "3                          Lunch Break      Free Time Block   \n",
       "4  FB & Google Strategy Weekly Regroup  Internal Team Block   \n",
       "5                      Monday Kick Off  Internal Team Block   \n",
       "\n",
       "                                              reason  \n",
       "0  This event involves emails and planning tasks ...  \n",
       "1  The event title 'Google Ads' suggests internal...  \n",
       "2  The title 'Linked-In Content' implies work rel...  \n",
       "3  A 'Lunch Break' is a break for personal time, ...  \n",
       "4  This event with a title 'FB & Google Strategy ...  \n",
       "5  The 'Monday Kick Off' event sounds like an int...  "
      ]
     },
     "execution_count": 21,
     "metadata": {},
     "output_type": "execute_result"
    }
   ],
   "source": [
    "df"
   ]
  },
  {
   "cell_type": "code",
   "execution_count": null,
   "id": "c71f65a3",
   "metadata": {},
   "outputs": [],
   "source": []
  }
 ],
 "metadata": {
  "kernelspec": {
   "display_name": "Python 3",
   "language": "python",
   "name": "python3"
  },
  "language_info": {
   "codemirror_mode": {
    "name": "ipython",
    "version": 3
   },
   "file_extension": ".py",
   "mimetype": "text/x-python",
   "name": "python",
   "nbconvert_exporter": "python",
   "pygments_lexer": "ipython3",
   "version": "3.10.12"
  }
 },
 "nbformat": 4,
 "nbformat_minor": 5
}
