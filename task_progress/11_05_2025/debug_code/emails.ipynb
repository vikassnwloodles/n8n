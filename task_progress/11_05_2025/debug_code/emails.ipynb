{
 "cells": [
  {
   "cell_type": "code",
   "execution_count": 7,
   "id": "7f27ce95",
   "metadata": {},
   "outputs": [],
   "source": [
    "import json\n",
    "from pprint import pprint"
   ]
  },
  {
   "cell_type": "code",
   "execution_count": 9,
   "id": "546c9a18",
   "metadata": {},
   "outputs": [],
   "source": [
    "emails = json.load(open(\"../artifacts/emails.json\"))"
   ]
  },
  {
   "cell_type": "code",
   "execution_count": 14,
   "id": "5faf5a7a",
   "metadata": {},
   "outputs": [
    {
     "name": "stdout",
     "output_type": "stream",
     "text": [
      "'196bf49f1f218708'\n",
      "'196bf437c8cec98d'\n",
      "'196bf3ff15d68721'\n"
     ]
    }
   ],
   "source": [
    "for email in emails[:3]:\n",
    "    pprint(email[\"id\"])"
   ]
  },
  {
   "cell_type": "code",
   "execution_count": null,
   "id": "06ee7b7c",
   "metadata": {},
   "outputs": [],
   "source": [
    "https://mail.google.com/mail/u/0/#inbox/<id>\n",
    "https://mail.google.com/mail/u/0/#sent/<id>"
   ]
  }
 ],
 "metadata": {
  "kernelspec": {
   "display_name": "Python 3",
   "language": "python",
   "name": "python3"
  },
  "language_info": {
   "codemirror_mode": {
    "name": "ipython",
    "version": 3
   },
   "file_extension": ".py",
   "mimetype": "text/x-python",
   "name": "python",
   "nbconvert_exporter": "python",
   "pygments_lexer": "ipython3",
   "version": "3.10.12"
  }
 },
 "nbformat": 4,
 "nbformat_minor": 5
}
