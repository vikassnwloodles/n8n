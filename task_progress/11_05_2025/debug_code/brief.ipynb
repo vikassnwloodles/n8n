{
 "cells": [
  {
   "cell_type": "code",
   "execution_count": 44,
   "id": "e877cd69",
   "metadata": {},
   "outputs": [],
   "source": [
    "import json"
   ]
  },
  {
   "cell_type": "code",
   "execution_count": 65,
   "id": "eb79d9d3",
   "metadata": {},
   "outputs": [],
   "source": [
    "brief = json.load(open(\"../artifacts/brief.json\"))"
   ]
  },
  {
   "cell_type": "code",
   "execution_count": 66,
   "id": "25251e57",
   "metadata": {},
   "outputs": [
    {
     "name": "stdout",
     "output_type": "stream",
     "text": [
      "🌤️ *Morning Brief – 12 May 2025*\n",
      "\n",
      "---\n",
      "\n",
      "🧩 *Top 5 Action Items*  \n",
      "1. Check out LinkedIn profiles of new connections and start a conversation – _Networking is crucial for individual growth and gaining industry insights._\n",
      "2. Complete a 5-minute survey requested by Google Ads – _A $10 USD gift code will be provided as a token of appreciation._\n",
      "3. Respond to the task list from ClickUp related to different marketing campaigns and operations for clients 'Red Rooster Coffee' and 'Puppys R Us' – _Several actions are required including revised creative ad variations, finalizing approvals, and managing overdue tasks._\n",
      "4. Schedule a call with Akshat at heyrecruiting.com – _To discuss potential hiring of an executive assistant._\n",
      "5. Review the Executive Assistant's resume and intro video pitched by Elaine Delaney from Hey Recruiting – _The assistant is skilled in managing calendars, communications, and team logistics._\n",
      "\n",
      "---\n",
      "\n",
      "🚨 *Urgent Follow-Ups*  \n",
      "- ClickUp Email: _Tasks are due and overdue related to different marketing campaigns and operations for the clients 'Red Rooster Coffee' and 'Puppys R Us'._\n",
      "- Email from Elaine Delaney and Akshat Biyani of heyrecruiting.com: _The email is regarding the proposal of two candidate profiles for the position of an executive assistant._\n",
      "\n",
      "---\n",
      "\n",
      "📅 *Meeting list:*\n",
      "- Client meetings\n",
      "    - Event: Google Ads.  \n",
      "      Time: 11:00 AM – 12:30 PM  \n",
      "      Contact: matt@bluewatermarketing.com\n",
      "- Internal team blocks\n",
      "    - Event: Emails // Daily Planning // Review.  \n",
      "      Time: 8:30 AM – 9:00 AM  \n",
      "      Contact: matt@bluewatermarketing.com\n",
      "    - Event: Linked-In Content.  \n",
      "      Time: 10:30 AM – 11:00 AM  \n",
      "      Contact: matt@bluewatermarketing.com\n",
      "    - Event: Creative Sprints // Strategy.  \n",
      "      Time: 2:30 PM – 3:30 PM  \n",
      "      Contact: matt@bluewatermarketing.com\n",
      "    - Event: FB & Google Strategy Weekly Regroup.  \n",
      "      Time: 1:00 PM – 1:30 PM  \n",
      "      Contact: matt@bluewatermarketing.com\n",
      "    - Event: Monday Kick Off.  \n",
      "      Time: 9:15 AM – 10:15 AM  \n",
      "      Contact: chris@bluewatermarketing.com\n",
      "- Free time blocks\n",
      "    - Event: Lunch Break.  \n",
      "      Time: 12:00 PM – 12:30 PM  \n",
      "      Contact: matt@bluewatermarketing.com\n",
      "\n",
      "---\n",
      "\n",
      "💡 *Suggestions*  \n",
      "- *Delegate*: Handle overdue tasks related to onboarding processes (Phase 1 and 2) for the clients 'Red Rooster Coffee' and 'Puppys R Us'.\n",
      "- *Defer*: Shop the Etsy Edit for the new era of cosmic cool.\n",
      "- *Respond Now*: Complete the 5-minute Google Ads survey for a $10 USD gift code.\n",
      "\n",
      "---\n",
      "\n",
      "🎯 *Today’s focus should be:*  \n",
      "Prioritize the tasks from ClickUp for the clients, complete the Google Ads survey, and engage with potential connections on LinkedIn.\n",
      "\n"
     ]
    }
   ],
   "source": [
    "print(brief[0][\"choices\"][0][\"message\"][\"content\"])"
   ]
  },
  {
   "cell_type": "markdown",
   "id": "add66ee0",
   "metadata": {},
   "source": [
    "### Prompt Engineering"
   ]
  },
  {
   "cell_type": "markdown",
   "id": "19183f78",
   "metadata": {},
   "source": [
    "You are an executive assistant. Based on the following:\n",
    "1. Emails sent & received in the last 72h\n",
    "2. Today’s calendar events\n",
    "3. ClickUp task list with priorities\n",
    "Create a Slack-ready morning brief including:\n",
    "- Top 5 action items (with rationale)\n",
    "- Urgent follow-ups\n",
    "- Meeting list (with time & contact)\n",
    "- Suggestions: Delegate / Defer / Respond Now\n",
    "- Final closing summary: \"Today’s focus should be...\""
   ]
  },
  {
   "cell_type": "markdown",
   "id": "50f75221",
   "metadata": {},
   "source": [
    "##### Iteration 1"
   ]
  },
  {
   "cell_type": "markdown",
   "id": "2454959b",
   "metadata": {},
   "source": [
    "You are an executive assistant. Based on the following:\n",
    "1. Emails sent & received in the last 72h\n",
    "2. Today’s calendar events\n",
    "3. ClickUp task list with priorities\n",
    "Create a Slack-ready morning brief with the title \"# Morning Brief\" including:\n",
    "- Top 5 action items (with rationale)\n",
    "- Urgent follow-ups\n",
    "- Meeting list (with time & contact)\n",
    "- Suggestions: Delegate / Defer / Respond Now\n",
    "- Final closing summary: \"Today’s focus should be...\""
   ]
  }
 ],
 "metadata": {
  "kernelspec": {
   "display_name": "Python 3",
   "language": "python",
   "name": "python3"
  },
  "language_info": {
   "codemirror_mode": {
    "name": "ipython",
    "version": 3
   },
   "file_extension": ".py",
   "mimetype": "text/x-python",
   "name": "python",
   "nbconvert_exporter": "python",
   "pygments_lexer": "ipython3",
   "version": "3.10.12"
  }
 },
 "nbformat": 4,
 "nbformat_minor": 5
}
