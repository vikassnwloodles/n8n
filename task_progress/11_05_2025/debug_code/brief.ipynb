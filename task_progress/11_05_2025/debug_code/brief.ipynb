{
 "cells": [
  {
   "cell_type": "code",
   "execution_count": 1,
   "id": "e877cd69",
   "metadata": {},
   "outputs": [],
   "source": [
    "import json"
   ]
  },
  {
   "cell_type": "code",
   "execution_count": 16,
   "id": "eb79d9d3",
   "metadata": {},
   "outputs": [],
   "source": [
    "brief = json.load(open(\"../artifacts/brief.json\"))"
   ]
  },
  {
   "cell_type": "code",
   "execution_count": 17,
   "id": "25251e57",
   "metadata": {},
   "outputs": [
    {
     "name": "stdout",
     "output_type": "stream",
     "text": [
      "**Top 5 action items:**\n",
      "\n",
      "1. Contact new free training sign-ups - Stella Pena and Ola Philips to discuss their potential business requirements. This can potentially drive customer acquisition.\n",
      "2. Address four overdue ClickUp tasks related to the Red Rooster Coffee client urgently. This is critical to maintain service level agreement and the client relationship.\n",
      "3. Respond to Breanna Campos and new LinkedIn connections. This engagement can lead to further networking opportunities or new business.\n",
      "4. Decide if there is a need to participate in the Google Ads survey and the LinkedIn feature. This can improve the user experience and provide potential benefits.\n",
      "5. Review and confirm the allocated manual time by freelancer Fahad T., to avoid any discrepancy on Upwork.\n",
      "\n",
      "**Urgent follow-ups:**\n",
      " \n",
      "- Respond to and initiate conversation with new LinkedIn connection requests from Chip Cruea, Kyle Niedrich, and Patrick Prendergast.\n",
      "- Contact new free training sign-ups - Stella Pena and Ola Philips.\n",
      "- Take necessary action on overdue ClickUp tasks related to the Red Rooster Coffee client. \n",
      "   \n",
      "**Meeting list:**\n",
      "\n",
      "- Event: Emails // Daily Planning // Review. [View Event](https://www.google.com/calendar/event?eid=ajUwMWFmN3FlMWtkYzNyZ3M0OGJqYzRkcnJfMjAyNTA1MTJUMTIzMDAwWiBtYXR0QGJsdWV3YXRlcm1hcmtldGluZy5jb20)\n",
      "  Time: 2025-05-12 08:30:00 - 09:00:00 \n",
      "  Contact: matt@bluewatermarketing.com\n",
      "  \n",
      "- Event: Google Ads. [View Event](https://www.google.com/calendar/event?eid=NDBqdGI1MDQzdWswZDY5ZWZpcGQyOHRhb25fMjAyNTA1MTJUMTUwMDAwWiBtYXR0QGJsdWV3YXRlcm1hcmtldGluZy5jb20)\n",
      "  Time: 2025-05-12 11:00:00 - 12:30:00 \n",
      "  Contact: matt@bluewatermarketing.com\n",
      "  \n",
      "- Event: LinkedIn Content. [View Event](https://www.google.com/calendar/event?eid=MmgyNnYzdTliMGcxYzUzMDRocjgxbjRwcDlfMjAyNTA1MTJUMTQzMDAwWiBtYXR0QGJsdWV3YXRlcm1hcmtldGluZy5jb20)\n",
      "  Time: 2025-05-12 10:30:00 - 11:00:00 \n",
      "  Contact: matt@bluewatermarketing.com\n",
      "  \n",
      "- Event: Creative Sprints // Strategy. [View Event](https://www.google.com/calendar/event?eid=N2pja25hZGxpMHVydGtnYzN1cjNib2xkbTRfMjAyNTA1MTJUMTgzMDAwWiBtYXR0QGJsdWV3YXRlcm1hcmtldGluZy5jb20)\n",
      "  Time: 2025-05-12 14:30:00 - 15:30:00 \n",
      "  Contact: matt@bluewatermarketing.com\n",
      "  \n",
      "\n",
      "**Suggestions: Delegate / Defer / Respond Now**\n",
      "  \n",
      "- **Delegate**: Content task for Google Ads and Linkedin to your content team.\n",
      "- **Defer**: Decision on the LinkedIn feature, since it doesn't affect core business operations.\n",
      "- **Respond Now**: To LinkedIn messages and connection requests.\n",
      "\n",
      "**Final closing summary:**\n",
      "\n",
      "Today’s focus should be on pressing tasks related to the Red Rooster Coffee client, free training sign-ups, time confirmation with Fahad T and connecting with new LinkedIn connections. Predominantly most items are related to client relations, so maintaining and enhancing those relationships should be your focus. Though there are also important admin tasks that require attention.\n"
     ]
    }
   ],
   "source": [
    "print(brief[0][\"message\"][\"content\"])"
   ]
  },
  {
   "cell_type": "markdown",
   "id": "add66ee0",
   "metadata": {},
   "source": [
    "### Prompt Engineering"
   ]
  },
  {
   "cell_type": "markdown",
   "id": "19183f78",
   "metadata": {},
   "source": [
    "You are an executive assistant. Based on the following:\n",
    "1. Emails sent & received in the last 72h\n",
    "2. Today’s calendar events\n",
    "3. ClickUp task list with priorities\n",
    "Create a Slack-ready morning brief including:\n",
    "- Top 5 action items (with rationale)\n",
    "- Urgent follow-ups\n",
    "- Meeting list (with time & contact)\n",
    "- Suggestions: Delegate / Defer / Respond Now\n",
    "- Final closing summary: \"Today’s focus should be...\""
   ]
  },
  {
   "cell_type": "markdown",
   "id": "50f75221",
   "metadata": {},
   "source": [
    "##### Iteration 1"
   ]
  },
  {
   "cell_type": "markdown",
   "id": "2454959b",
   "metadata": {},
   "source": [
    "You are an executive assistant. Based on the following:\n",
    "1. Emails sent & received in the last 72h\n",
    "2. Today’s calendar events\n",
    "3. ClickUp task list with priorities\n",
    "Create a Slack-ready morning brief with the title \"# Morning Brief\" including:\n",
    "- Top 5 action items (with rationale)\n",
    "- Urgent follow-ups\n",
    "- Meeting list (with time & contact)\n",
    "- Suggestions: Delegate / Defer / Respond Now\n",
    "- Final closing summary: \"Today’s focus should be...\""
   ]
  }
 ],
 "metadata": {
  "kernelspec": {
   "display_name": "Python 3",
   "language": "python",
   "name": "python3"
  },
  "language_info": {
   "codemirror_mode": {
    "name": "ipython",
    "version": 3
   },
   "file_extension": ".py",
   "mimetype": "text/x-python",
   "name": "python",
   "nbconvert_exporter": "python",
   "pygments_lexer": "ipython3",
   "version": "3.10.12"
  }
 },
 "nbformat": 4,
 "nbformat_minor": 5
}
