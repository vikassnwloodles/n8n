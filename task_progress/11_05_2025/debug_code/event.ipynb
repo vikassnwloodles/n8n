{
 "cells": [
  {
   "cell_type": "code",
   "execution_count": 8,
   "id": "156592c5",
   "metadata": {},
   "outputs": [],
   "source": [
    "import json\n",
    "from pprint import pprint"
   ]
  },
  {
   "cell_type": "code",
   "execution_count": 2,
   "id": "010e032f",
   "metadata": {},
   "outputs": [],
   "source": [
    "event = json.load(open(\"../artifacts/event.json\"))"
   ]
  },
  {
   "cell_type": "code",
   "execution_count": 3,
   "id": "567fd672",
   "metadata": {},
   "outputs": [
    {
     "data": {
      "text/plain": [
       "{'id': 'j501af7qe1kdc3rgs48bjc4drr_20250512T123000Z',\n",
       " 'summary': 'Emails // Daily Planning // Review ',\n",
       " 'start': {'dateTime': '2025-05-12T08:30:00-04:00',\n",
       "  'timeZone': 'America/New_York'},\n",
       " 'end': {'dateTime': '2025-05-12T09:00:00-04:00',\n",
       "  'timeZone': 'America/New_York'},\n",
       " 'creator': {'email': 'matt@bluewatermarketing.com', 'self': True},\n",
       " 'organizer': {'email': 'matt@bluewatermarketing.com', 'self': True},\n",
       " 'created': '2024-06-14T01:16:29.000Z',\n",
       " 'updated': '2024-12-30T16:08:05.033Z',\n",
       " 'colorId': '2',\n",
       " 'etag': '\"3471149770066000\"',\n",
       " 'eventType': 'default',\n",
       " 'htmlLink': 'https://www.google.com/calendar/event?eid=ajUwMWFmN3FlMWtkYzNyZ3M0OGJqYzRkcnJfMjAyNTA1MTJUMTIzMDAwWiBtYXR0QGJsdWV3YXRlcm1hcmtldGluZy5jb20',\n",
       " 'iCalUID': 'j501af7qe1kdc3rgs48bjc4drr@google.com',\n",
       " 'kind': 'calendar#event',\n",
       " 'originalStartTime': {'dateTime': '2025-05-12T08:30:00-04:00',\n",
       "  'timeZone': 'America/New_York'},\n",
       " 'recurringEventId': 'j501af7qe1kdc3rgs48bjc4drr',\n",
       " 'reminders': {'useDefault': True},\n",
       " 'sequence': 1,\n",
       " 'status': 'confirmed'}"
      ]
     },
     "execution_count": 3,
     "metadata": {},
     "output_type": "execute_result"
    }
   ],
   "source": [
    "event"
   ]
  },
  {
   "cell_type": "code",
   "execution_count": 10,
   "id": "1d1f2925",
   "metadata": {},
   "outputs": [
    {
     "name": "stdout",
     "output_type": "stream",
     "text": [
      "['id',\n",
      " 'summary',\n",
      " 'start',\n",
      " 'end',\n",
      " 'creator',\n",
      " 'organizer',\n",
      " 'created',\n",
      " 'updated',\n",
      " 'colorId',\n",
      " 'etag',\n",
      " 'eventType',\n",
      " 'htmlLink',\n",
      " 'iCalUID',\n",
      " 'kind',\n",
      " 'originalStartTime',\n",
      " 'recurringEventId',\n",
      " 'reminders',\n",
      " 'sequence',\n",
      " 'status']\n"
     ]
    }
   ],
   "source": [
    "pprint(list(event.keys()))"
   ]
  },
  {
   "cell_type": "code",
   "execution_count": null,
   "id": "14deb10f",
   "metadata": {},
   "outputs": [],
   "source": []
  }
 ],
 "metadata": {
  "kernelspec": {
   "display_name": "Python 3",
   "language": "python",
   "name": "python3"
  },
  "language_info": {
   "codemirror_mode": {
    "name": "ipython",
    "version": 3
   },
   "file_extension": ".py",
   "mimetype": "text/x-python",
   "name": "python",
   "nbconvert_exporter": "python",
   "pygments_lexer": "ipython3",
   "version": "3.10.12"
  }
 },
 "nbformat": 4,
 "nbformat_minor": 5
}
