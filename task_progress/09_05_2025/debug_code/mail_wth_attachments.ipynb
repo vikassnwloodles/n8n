{
 "cells": [
  {
   "cell_type": "code",
   "execution_count": 25,
   "id": "5aad8a85",
   "metadata": {},
   "outputs": [],
   "source": [
    "import json\n",
    "from datetime import datetime\n",
    "from pprint import pprint"
   ]
  },
  {
   "cell_type": "code",
   "execution_count": 18,
   "id": "45789c2a",
   "metadata": {},
   "outputs": [],
   "source": [
    "mail_wth_attachments_filepath = \"../artifacts/mail_wth_attachments.json\""
   ]
  },
  {
   "cell_type": "code",
   "execution_count": 19,
   "id": "d5ff20f3",
   "metadata": {},
   "outputs": [],
   "source": [
    "mail_wth_attachments = json.load(open(mail_wth_attachments_filepath))"
   ]
  },
  {
   "cell_type": "code",
   "execution_count": 20,
   "id": "a69a9b78",
   "metadata": {},
   "outputs": [
    {
     "data": {
      "text/plain": [
       "[{'id': '19690aecfb9f8459',\n",
       "  'threadId': '19690ae0da4b6547',\n",
       "  'labelIds': ['SENT'],\n",
       "  'sizeEstimate': 139439,\n",
       "  'headers': {'mime-version': 'MIME-Version: 1.0',\n",
       "   'date': 'Date: Fri, 2 May 2025 16:38:16 +0530',\n",
       "   'message-id': 'Message-ID: <CANtADnNdrkJkEmTv-1BysCzFHzB+JX8ygv3QpNJh=XWCExMgsA@mail.gmail.com>',\n",
       "   'subject': 'Subject: EVIF Form',\n",
       "   'from': 'From: Vikas Sanwal <vikas.sanwal1@oodles.io>',\n",
       "   'to': 'To: Vikas Sanwal <vikassnwl@gmail.com>',\n",
       "   'content-type': 'Content-Type: multipart/mixed; boundary=\"000000000000d1d1f30634252aac\"'},\n",
       "  'html': '<div dir=\"ltr\"><div><br clear=\"all\"></div><div><div dir=\"ltr\" class=\"gmail_signature\" data-smartmail=\"gmail_signature\"><div dir=\"ltr\"><table width=\"300\" cellpadding=\"0\" cellspacing=\"0\" style=\"font-family:&quot;OpenSans Regular&quot;,sans-serif;width:750px;font-size:10pt;color:rgb(0,0,0)\"><tbody><tr><td valign=\"top\" style=\"padding:0px;line-height:27px;vertical-align:top;font-size:14pt\"><a href=\"https://www.oodlestechnologies.com/\" target=\"_blank\"><img src=\"https://s3.amazonaws.com/oodles-public/signature/technologies.png\" style=\"border:0px;width:298px;margin-bottom:10px\"></a></td></tr><tr><td valign=\"top\" style=\"padding:0px 0px 14px;line-height:27px;vertical-align:top;border-bottom:1px solid rgb(143,140,140)\"><span style=\"border-left:1px solid;margin-left:6px;padding-left:5px;font-size:20px\"><font color=\"#2f83c5\"><b>Vikas Sanwal</b></font></span></td><td valign=\"top\" style=\"padding:0px 0px 14px;line-height:27px;vertical-align:top;border-bottom:1px solid rgb(143,140,140)\"><font color=\"#8c8c8c\"><span style=\"font-size:18.6667px\">Associate Consultant L2 -</span></font></td><td valign=\"top\" style=\"padding:0px 0px 14px;line-height:27px;vertical-align:top;border-bottom:1px solid rgb(143,140,140)\"><font color=\"#8c8c8c\"><span style=\"font-size:18.6667px\">Development</span></font></td></tr><tr><td valign=\"top\" style=\"padding:20px 0px 0px;line-height:18px;font-size:10pt;vertical-align:top\"><h4 style=\"display:flex;margin:0px 0px 3px;color:rgb(47,131,197)\"><img src=\"https://s3.amazonaws.com/oodles-public/signature/Call.png\" alt=\"\" style=\"width:20px;height:20px\"><span style=\"font-size:9pt;margin:3px 10px\"><a href=\"tel:+91+7983587936\" style=\"color:rgb(47,131,197)\" target=\"_blank\">+91\\xa0</a>8476062458</span></h4><h4 style=\"display:flex;margin:0px 0px 3px;color:rgb(47,131,197)\"><img src=\"https://s3.amazonaws.com/oodles-public/signature/Skype.png\" alt=\"\" style=\"width:20px;height:20px\"><span style=\"font-size:9pt;margin:3px 10px\">vikas.sanwal1</span></h4><h4 style=\"display:flex;margin:0px 0px 3px;color:rgb(47,131,197)\"><img src=\"https://s3.amazonaws.com/oodles-public/signature/wesbite.png\" alt=\"\" style=\"width:20px;height:20px\"><span style=\"font-size:9pt;margin:3px 10px\"><a href=\"https://www.oodlestechnologies.com/\" style=\"color:rgb(47,131,197);display:inline-block\" target=\"_blank\">www.oodlestechnologies.com</a>\\xa0|\\xa0<a href=\"https://www.oodlesmarketing.com/\" style=\"color:rgb(47,131,197);display:inline-block\" target=\"_blank\">www.oodlesmarketing.com</a>\\xa0|\\xa0<a href=\"https://www.oodlesstudio.com/\" style=\"color:rgb(47,131,197);display:inline-block\" target=\"_blank\">www.oodlesstudio.com</a></span></h4><h4 style=\"display:flex;margin:0px 0px 3px;color:rgb(140,140,140)\"><img src=\"https://s3.amazonaws.com/oodles-public/signature/location.png\" alt=\"\" style=\"width:20px;height:20px\"><span style=\"font-size:9pt;margin:3px 10px\">Unit No. 117- 120, Welldone Tech Park, Sector 48, Sohna Road, Gurugram, Haryana- 122018, IN.</span></h4></td></tr><tr><td valign=\"top\" style=\"padding:5px 0px 0px;vertical-align:top\"><a href=\"https://www.linkedin.com/company/oodles-technologies-pvt-ltd\" target=\"_blank\"><img alt=\"Facebook icon\" src=\"https://s3.amazonaws.com/oodles-public/signature/linkdin.png\" style=\"margin:0px 30px 0px 3px;width:20px;height:20px\"></a>\\xa0<a href=\"https://www.facebook.com/OodlesTech\" target=\"_blank\"><img alt=\"Youtbue icon\" src=\"https://s3.amazonaws.com/oodles-public/signature/facebook.png\" style=\"margin:0px 30px 0px 3px;width:20px;height:20px\"></a>\\xa0<a href=\"https://twitter.com/oodlestech\" target=\"_blank\"><img alt=\"LinkedIn icon\" src=\"https://s3.amazonaws.com/oodles-public/signature/twitter.png\" style=\"margin:0px 30px 0px 3px;width:20px;height:20px\"></a><p style=\"color:rgb(140,140,140)\">This e-mail message may contain confidential or legally privileged information and is intended only for the use of the intended recipient(s). Any unauthorized disclosure, dissemination, distribution, copying or the taking of any action in reliance on the information herein is prohibited. E-mails are not secure and cannot be guaranteed to be error free as they can be intercepted, amended, or contain viruses. Anyone who communicates with us by e-mail is deemed to have accepted these risks. Oodles Technologies is not responsible for errors or omissions in this message and denies any responsibility for any damage arising from the use of e-mail. Any opinion and other statement contained in this message and any attachment are solely those of the author and do not necessarily represent those of the company</p></td></tr></tbody></table></div></div></div></div>\\n',\n",
       "  'text': '<https://www.oodlestechnologies.com/>\\n*Vikas Sanwal* Associate Consultant L2 - Development\\n+91  <+91+7983587936>8476062458vikas.sanwal1www.oodlestechnologies.com |\\nwww.oodlesmarketing.com | www.oodlesstudio.comUnit No. 117- 120, Welldone\\nTech Park, Sector 48, Sohna Road, Gurugram, Haryana- 122018, IN.\\n[image: Facebook icon]\\n<https://www.linkedin.com/company/oodles-technologies-pvt-ltd> [image:\\nYoutbue icon] <https://www.facebook.com/OodlesTech> [image: LinkedIn icon]\\n<https://twitter.com/oodlestech>\\n\\nThis e-mail message may contain confidential or legally privileged\\ninformation and is intended only for the use of the intended recipient(s).\\nAny unauthorized disclosure, dissemination, distribution, copying or the\\ntaking of any action in reliance on the information herein is prohibited.\\nE-mails are not secure and cannot be guaranteed to be error free as they\\ncan be intercepted, amended, or contain viruses. Anyone who communicates\\nwith us by e-mail is deemed to have accepted these risks. Oodles\\nTechnologies is not responsible for errors or omissions in this message and\\ndenies any responsibility for any damage arising from the use of e-mail.\\nAny opinion and other statement contained in this message and any\\nattachment are solely those of the author and do not necessarily represent\\nthose of the company\\n',\n",
       "  'textAsHtml': '<p>&lt;<a href=\"https://www.oodlestechnologies.com/\">https://www.oodlestechnologies.com/</a>&gt;<br/>*Vikas Sanwal* Associate Consultant L2 - Development<br/>+91  &lt;+91+7983587936&gt;<a href=\"http://8476062458vikas.sanwal1www.oodlestechnologies.com\">8476062458vikas.sanwal1www.oodlestechnologies.com</a> |<br/><a href=\"http://www.oodlesmarketing.com\">www.oodlesmarketing.com</a> | www.oodlesstudio.comUnit No. 117- 120, Welldone<br/>Tech Park, Sector 48, Sohna Road, Gurugram, Haryana- 122018, IN.<br/>[image: Facebook icon]<br/>&lt;<a href=\"https://www.linkedin.com/company/oodles-technologies-pvt-ltd\">https://www.linkedin.com/company/oodles-technologies-pvt-ltd</a>&gt; [image:<br/>Youtbue icon] &lt;<a href=\"https://www.facebook.com/OodlesTech\">https://www.facebook.com/OodlesTech</a>&gt; [image: LinkedIn icon]<br/>&lt;<a href=\"https://twitter.com/oodlestech\">https://twitter.com/oodlestech</a>&gt;</p><p>This e-mail message may contain confidential or legally privileged<br/>information and is intended only for the use of the intended recipient(s).<br/>Any unauthorized disclosure, dissemination, distribution, copying or the<br/>taking of any action in reliance on the information herein is prohibited.<br/>E-mails are not secure and cannot be guaranteed to be error free as they<br/>can be intercepted, amended, or contain viruses. Anyone who communicates<br/>with us by e-mail is deemed to have accepted these risks. Oodles<br/>Technologies is not responsible for errors or omissions in this message and<br/>denies any responsibility for any damage arising from the use of e-mail.<br/>Any opinion and other statement contained in this message and any<br/>attachment are solely those of the author and do not necessarily represent<br/>those of the company</p>',\n",
       "  'subject': 'EVIF Form',\n",
       "  'date': '2025-05-02T11:08:16.000Z',\n",
       "  'to': {'value': [{'address': 'vikassnwl@gmail.com', 'name': 'Vikas Sanwal'}],\n",
       "   'html': '<span class=\"mp_address_group\"><span class=\"mp_address_name\">Vikas Sanwal</span> &lt;<a href=\"mailto:vikassnwl@gmail.com\" class=\"mp_address_email\">vikassnwl@gmail.com</a>&gt;</span>',\n",
       "   'text': '\"Vikas Sanwal\" <vikassnwl@gmail.com>'},\n",
       "  'from': {'value': [{'address': 'vikas.sanwal1@oodles.io',\n",
       "     'name': 'Vikas Sanwal'}],\n",
       "   'html': '<span class=\"mp_address_group\"><span class=\"mp_address_name\">Vikas Sanwal</span> &lt;<a href=\"mailto:vikas.sanwal1@oodles.io\" class=\"mp_address_email\">vikas.sanwal1@oodles.io</a>&gt;</span>',\n",
       "   'text': '\"Vikas Sanwal\" <vikas.sanwal1@oodles.io>'},\n",
       "  'messageId': '<CANtADnNdrkJkEmTv-1BysCzFHzB+JX8ygv3QpNJh=XWCExMgsA@mail.gmail.com>'}]"
      ]
     },
     "execution_count": 20,
     "metadata": {},
     "output_type": "execute_result"
    }
   ],
   "source": [
    "mail_wth_attachments"
   ]
  },
  {
   "cell_type": "code",
   "execution_count": 21,
   "id": "6dcf508d",
   "metadata": {},
   "outputs": [
    {
     "data": {
      "text/plain": [
       "1"
      ]
     },
     "execution_count": 21,
     "metadata": {},
     "output_type": "execute_result"
    }
   ],
   "source": [
    "len(mail_wth_attachments)"
   ]
  },
  {
   "cell_type": "code",
   "execution_count": 22,
   "id": "eea355e7",
   "metadata": {},
   "outputs": [],
   "source": [
    "mail_wth_attachments = mail_wth_attachments[0]"
   ]
  },
  {
   "cell_type": "code",
   "execution_count": 30,
   "id": "f9cba160",
   "metadata": {},
   "outputs": [
    {
     "name": "stdout",
     "output_type": "stream",
     "text": [
      "['id',\n",
      " 'threadId',\n",
      " 'labelIds',\n",
      " 'sizeEstimate',\n",
      " 'headers',\n",
      " 'html',\n",
      " 'text',\n",
      " 'textAsHtml',\n",
      " 'subject',\n",
      " 'date',\n",
      " 'to',\n",
      " 'from',\n",
      " 'messageId']\n"
     ]
    }
   ],
   "source": [
    "pprint(list(mail_wth_attachments.keys()))"
   ]
  },
  {
   "cell_type": "code",
   "execution_count": null,
   "id": "9cc743d1",
   "metadata": {},
   "outputs": [],
   "source": []
  }
 ],
 "metadata": {
  "kernelspec": {
   "display_name": "Python 3",
   "language": "python",
   "name": "python3"
  },
  "language_info": {
   "codemirror_mode": {
    "name": "ipython",
    "version": 3
   },
   "file_extension": ".py",
   "mimetype": "text/x-python",
   "name": "python",
   "nbconvert_exporter": "python",
   "pygments_lexer": "ipython3",
   "version": "3.10.12"
  }
 },
 "nbformat": 4,
 "nbformat_minor": 5
}
