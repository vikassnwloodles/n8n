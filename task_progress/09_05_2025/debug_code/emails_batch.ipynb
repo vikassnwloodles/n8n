{
 "cells": [
  {
   "cell_type": "code",
   "execution_count": 1,
   "id": "91309063",
   "metadata": {},
   "outputs": [],
   "source": [
    "import json\n",
    "import re"
   ]
  },
  {
   "cell_type": "code",
   "execution_count": 51,
   "id": "dc24d712",
   "metadata": {},
   "outputs": [],
   "source": [
    "email_batches = json.load(open(\"../artifacts/emails_batch2.json\"))[\"batch\"]"
   ]
  },
  {
   "cell_type": "code",
   "execution_count": 53,
   "id": "65804d1c",
   "metadata": {},
   "outputs": [
    {
     "data": {
      "text/plain": [
       "4"
      ]
     },
     "execution_count": 53,
     "metadata": {},
     "output_type": "execute_result"
    }
   ],
   "source": [
    "len(email_batches)"
   ]
  },
  {
   "cell_type": "code",
   "execution_count": 54,
   "id": "58fd064b",
   "metadata": {},
   "outputs": [
    {
     "name": "stdout",
     "output_type": "stream",
     "text": [
      "Token count: 7\n"
     ]
    }
   ],
   "source": [
    "import tiktoken\n",
    "\n",
    "def num_tokens_from_text(text, model=\"gpt-4\"):\n",
    "    encoding = tiktoken.encoding_for_model(model)\n",
    "    tokens = encoding.encode(text)\n",
    "    return len(tokens)\n",
    "\n",
    "# Example usage\n",
    "text = \"Hello, how are you today?\"\n",
    "token_count = num_tokens_from_text(text)\n",
    "print(f\"Token count: {token_count}\")"
   ]
  },
  {
   "cell_type": "code",
   "execution_count": 55,
   "id": "4981ebe7",
   "metadata": {},
   "outputs": [
    {
     "name": "stdout",
     "output_type": "stream",
     "text": [
      "<class 'str'>\n"
     ]
    }
   ],
   "source": [
    "for batch in email_batches:\n",
    "    print(type(json.dumps(batch)))\n",
    "    break"
   ]
  },
  {
   "cell_type": "code",
   "execution_count": 58,
   "id": "64c97916",
   "metadata": {},
   "outputs": [
    {
     "name": "stdout",
     "output_type": "stream",
     "text": [
      "1104\n",
      "1196\n",
      "805\n",
      "1013\n"
     ]
    }
   ],
   "source": [
    "token_lens = []\n",
    "for batch_idx, batch in enumerate(email_batches):\n",
    "    token_len = num_tokens_from_text(json.dumps(batch))\n",
    "    token_lens.append((token_len, batch_idx))\n",
    "    print(token_len)"
   ]
  },
  {
   "cell_type": "code",
   "execution_count": 57,
   "id": "8ab5ec95",
   "metadata": {},
   "outputs": [
    {
     "name": "stdout",
     "output_type": "stream",
     "text": [
      "(1196, 1)\n"
     ]
    }
   ],
   "source": [
    "print(max(token_lens))"
   ]
  },
  {
   "cell_type": "code",
   "execution_count": 76,
   "id": "29c5261e",
   "metadata": {},
   "outputs": [
    {
     "data": {
      "text/plain": [
       "3"
      ]
     },
     "execution_count": 76,
     "metadata": {},
     "output_type": "execute_result"
    }
   ],
   "source": [
    "num_tokens_from_text(\"hello\"+\"\\n\"*12+\"world\")"
   ]
  },
  {
   "cell_type": "code",
   "execution_count": null,
   "id": "fb62ae32",
   "metadata": {},
   "outputs": [],
   "source": []
  },
  {
   "cell_type": "code",
   "execution_count": null,
   "id": "89345841",
   "metadata": {},
   "outputs": [],
   "source": []
  },
  {
   "cell_type": "code",
   "execution_count": 8,
   "id": "487d0ff4",
   "metadata": {},
   "outputs": [
    {
     "data": {
      "text/plain": [
       "{'batch': [{'type': 'received',\n",
       "   'subject': 'Red Rooster Coffee, your performance for April 2025',\n",
       "   'from': 'googlebase-noreply@google.com',\n",
       "   'to': 'matt@bluewatermarketing.com',\n",
       "   'date': '2025-05-08T16:03:49.000Z',\n",
       "   'content': \"\\n\\n\\n\\n\\n\\n\\n\\n\\n\\nYour customer ID: 603232330\\n\\nYour business performance for April 2025\\n\\n\\n\\n\\n\\n\\n\\nHow your products performed (ads only)\\nClicks\\n282\\n-51.3%*\\n\\nImpressions\\n62.62K\\n-45.5%*\\n\\nCTR\\n0.5%\\n-10.6%*\\n\\n\\nManage campaigns <https://notifications.google.com/g/p/ANiao5p3ia-SeXXH6DD5_o9EMiDpsTG8_4IeiuiwDqjR4G97cJ1QmolP-oxN4lQnttX_GJClvGaihKmwXSPSgcsdmFSRjr5V9gR6N2uN0SYAMeJo13DlTRFPFMNZ9EaznFJKFF4d1-Yq-4cw8eA9vz-D51o8oPc-o6OEoALhh72JjXUnudKmChC6phKod1Db5T-hSUVpCeyRHn_r_4NKAhJ1BuVJb8oayLqOOA7QwMrrhPopTpK5DNJFqXuLZzkNlwM-XHPPixGymcYaDEMHPAp7JZnS3hIb90wnWlisxB_Oe-xVzd4DYaNNcfBjNck>\\n\\n\\n\\n\\n\\n\\nHow your products performed (organic & ads)\\nClicks\\n670\\n-31.4%*\\n\\nImpressions\\n89.26K\\n-34.1%*\\n\\nCTR\\n0.8%\\n+4.1%*\\n\\n\\n\\n\\n*Compared to March 2025\\n\\n\\nYour popular products\\nRed Rooster Ethiopia Worka Sakaro - Anaerobic Natural Berry & Floral Whole Bean (12OZ)\\n130 clicks\\n\\nRed Rooster Organic Floyd Farmhouse Breakfast Blend - Almond & Cacao Medium Roast Whole Bean (12OZ)\\n29 clicks\\n\\nEthiopia Worka Sakaro Anaerobic Natural 2LB / French Press\\n25 clicks\\n\\n\\n\\nSee performance <https://notifications.google.com/g/p/ANiao5roTFl_710-FastQZ-ymhk_1Hiijk8uQs2CW51y4uVpeyfzf7Ek6fdSM-gWcB8trSxKiMGW5VmFny09MoCdyTPy6CWARBiMc-OEZFybIJSGWEa9tNpaZ71DhK5pOCd1xOYZIzaq7Dp3nj5x6nIJdfGvrOH3AFGLvZf1iWM-ecKnz0B1KSMa2LCLbubswY0-uJFpmg_yzjagghPrvxJjGL3S2eFHxKkOObI4nTDe7_p7asfldtEnLNJvlAcokTfmp3QXinyzO_UU6OIP_ntiD1ZXPIpZQ6QsSKcp-Uug3nt-_BYYODBwIEpiWy5G54ziRGRpHwXKVX-KuxidozLjjURMWvE>\\n\\n\\nProduct status\\nSome of your products aren't showing to customers. Fix product issues to show them on Google.\\n\\nNot approved\\n37\\n\\nLimited\\n0\\n\\nApproved\\n706\\n\\nUnder review\\n0\\n\\nFix issues in Shopify <https://notifications.google.com/g/p/ANiao5qzl7jHO3MNcgmGTdgUpPg5xKLddu8lPnYXfkn7mUkvuMl3MDmSuFX-PP7Ei9_sqwGp9CAXyc0knL50B3W8d2maT1OdO3pcfLfgd0mza5U19Wqfi0kum5U4grcNyqTKs2zUuZrHHcjWLFQgeqCivPTM7H4v9Lkaczg_c5j2v60Ss7ikjBiKhweKL6GzdhcpPAWPsu1zRHZ67vOwzbEj0qQRZrB_-WuKgQ>\\n\\n\\n\\n\\n\\n\\n\\n\\n\\n\\n\\n\\n\\n\\n\\n\\n\\n\\nYour store quality scorecard in United States in April\\n\\nExceptional\\n\\nTop Quality Store\\n\\nLow\\n\\nFair\\n\\nGood\\n\\nGreat\\n\\nExceptional\\n\\nYou are a Top Quality Store\\n\\nFind out more <https://notifications.google.com/g/p/ANiao5rDVymo4hk-PfJ93H52cevN8hGu1Uqyd9uzt93nyAMOpnUGH0a31-kAIJoaYClfZqJBvGrs41cL8xaeoa4_Ox2c7QwJGcqq9G4osQjH8YWQpLth103kyl999a2UTVYjq4FI5O7-D7ZzqerTgCmuYh98oMCfpbhC3_3go1S2pcSJf2LLx03vX0sL2I8>\\n\\n\\n\\n\\n\\n\\n\\nImprove your performance in May 2025\\n\\n\\n\\n\\n\\n\\n\\n\\n\\n\\n\\n\\nMake fixes so customers can find your products\\n\\n123 of your products might have missing or inaccurate product details. Review and fix what needs attention.\\n\\n\\n\\nFix issues in Shopify <https://notifications.google.com/g/p/ANiao5qmnp7vopQRX0fI_5N0xKNeOOh1M4nr_N4jQyiBPkij2P1mHgN4mMFofuv9gSoxXRRzSA4sonieNNBLiRxAWZQopFzXLKV0yttfG_E7xsZakBNBI_SZmbVsvX3F7WtOV_ALiEd4aW5S2c17ftVrDJxxz8KQX2rJ3j8jv35WvCBrE9cZ7PJZ2OQQ84n4yYnQa_2mbt4VarAqwyH2r_CBQRMK04BZtUuudWy1I2ywOOK6CrhlSIQDbbePk6zCBZgnLXU>\\n\\n\\n\\n\\n\\n\\n\\n\\n\\n\\n\\n\\n\\n\\n\\n\\nImprove your product images with generative AI\\n\\nQuickly generate lifestyle scenes, increase image resolution, and edit backgrounds to attract customers. Learn more <https://notifications.google.com/g/p/ANiao5o7UksRsd4JRkeP3hmKB0r2hjv1_M6DgugHeGLmJ77j5p6uNVnpJrQ18InyruD50VtZe6PaJWRm6mwMLC9yoKzKm_ooFj2EnlmFNNaWB8KSCHrFREA5YhpXJjJqvQBEQ9_kR7fcvU2IiLGbGQ6Ho3Co1kaEBDTbxt4hx1xuRTlhYb0ofGLkmnXcmj0iLl35-bBDf7Uzf9u3CJcbYA>\\n\\n\\n\\nGo to Product Studio in Shopify <https://notifications.google.com/g/p/ANiao5qjfD9IkAl8eM_GD-reNQeTL0-8b9Wl5EP_2_fgCMUCxZFDSmO8fYWvMXpsZ_e7Np2ylyOF7hGwmoQxfOpNkN9Hqesw95kvokIFAD8_Xpc0ZmNkZ4wKULvM2CsTIrhjYPN-vxzR5qs_tANmQxnujxJDj82qwOF9AGK9TwH0jQsQxyUfDWMumFFH71DGM38KGr75io2VLpCWfskAkiGGcWJq822i--OYjeBzlzKq9UE_X4O5_CURBZ04ixORcNyZ-4r4vxqmx46XHNUrKOGisqYHO4r_h7sguhqEPfaetoggKGb7GicDNXXA>\\n\\n\\n\\n\\nSee more recommendations <https://notifications.google.com/g/p/ANiao5qKNFZdBBH1Qpyp-fm1nK0cVY7ZB6bLIEYQA7_owYJwbMhn_st6X2S5ntBLXHyVp0b4QNHaXIFI4IRKi0aRVho308y6qRHJAWQI3HaXJhCXNtONN2OcIlt63ZKc07ubXUkoyHuL92hVcFzJfiW3NZ2M-TZlbD6VzSPKS32Bd-eahL07jTbTb-ZfHg> in Merchant Center.\\n\\n\\n(c) 2025 Google LLC\\n1600 Amphitheatre Parkway,\\nMountain View, CA 94043\\nwww.google.com <https://notifications.google.com/g/p/ANiao5qVmZPCbTpZcx58jxe4dIEgQe_rYlj4MJJtHgBsSh0fcYb_2QhAvnOfPrzlZZLJHGtkV3CNy8P1uAnEYXKct9r0pQ8bumzs5RhLXPw0O-a23A_W8eaNZIV9vr7S318IBNQ-iLE>\\n\\nYou have received this email because you opted to receive reporting updates from Google Merchant Center. If you do not wish to receive such emails in the future, you can unsubscribe here <https://myaccount.google.com/communication-preferences/unsubscribe/gt/ANiao5r2T6BKVvaTs7OcH8ZzFOhovakaiNg5KHx-PQyffHXsQLLv8j88MAy63qiT1Wc0Rq1EoUs7rQmtYZ5CQkqz3I7Otk6qqdIrPvqoejth34w5rVWvQM9bzCl1WaGNooQIg_nLJhAmH6xnM9WZBoaiGAsitkyHAjWx4LfCB6pSNGdZb5kr0DfW2s9HVio7lqoqHVud_spnqh8W6p51t_bME3M5mftUPMesw0u1AnAKrgsJias8pvXIoUpFQ5osszg14GJUeojVmsV7L9lmUoNccZU91prUQmYmnyc8zNabSckz54jeQ0bNhg?utm_source=gm&utm_medium=email&auto=true>.\\n\"},\n",
       "  {'type': 'received',\n",
       "   'subject': 'Monthly Glow Up: Organize your ideas in just 5 minutes',\n",
       "   'from': 'marketing@engage.canva.com',\n",
       "   'to': 'matt@bluewatermarketing.com',\n",
       "   'date': '2025-05-08T15:06:11.000Z',\n",
       "   'content': 'Get inspired by real people using Canva at work\\n͏ \\u200c \\xa0 \\u2007 \\ufeff ͏ \\u200c \\xa0 \\u2007 \\ufeff ͏ \\u200c \\xa0 \\u2007 \\ufeff ͏ \\u200c \\xa0 \\u2007 \\ufeff ͏ \\u200c \\xa0 \\u2007 \\ufeff ͏ \\u200c \\xa0 \\u2007 \\ufeff ͏ \\u200c \\xa0 \\u2007 \\ufeff ͏ \\u200c \\xa0 \\u2007 \\ufeff\\n͏ \\u200c \\xa0 \\u2007 \\ufeff ͏ \\u200c \\xa0 \\u2007 \\ufeff ͏ \\u200c \\xa0 \\u2007 \\ufeff ͏ \\u200c \\xa0 \\u2007 \\ufeff ͏ \\u200c \\xa0 \\u2007 \\ufeff ͏ \\u200c \\xa0 \\u2007 \\ufeff ͏ \\u200c \\xa0 \\u2007 \\ufeff ͏ \\u200c \\xa0 \\u2007 \\ufeff\\n͏ \\u200c \\xa0 \\u2007 \\ufeff ͏ \\u200c \\xa0 \\u2007 \\ufeff ͏ \\u200c \\xa0 \\u2007 \\ufeff ͏ \\u200c \\xa0 \\u2007 \\ufeff ͏ \\u200c \\xa0 \\u2007 \\ufeff ͏ \\u200c \\xa0 \\u2007 \\ufeff ͏ \\u200c \\xa0 \\u2007 \\ufeff ͏ \\u200c \\xa0 \\u2007 \\ufeff\\n͏ \\u200c \\xa0 \\u2007 \\ufeff ͏ \\u200c \\xa0 \\u2007 \\ufeff ͏ \\u200c \\xa0 \\u2007 \\ufeff ͏ \\u200c \\xa0 \\u2007 \\ufeff ͏ \\u200c \\xa0 \\u2007 \\ufeff ͏ \\u200c \\xa0 \\u2007 \\ufeff ͏ \\u200c \\xa0 \\u2007 \\ufeff ͏ \\u200c \\xa0 \\u2007 \\ufeff\\n͏ \\u200c \\xa0 \\u2007 \\ufeff ͏ \\u200c \\xa0 \\u2007 \\ufeff ͏ \\u200c \\xa0 \\u2007 \\ufeff ͏ \\u200c \\xa0 \\u2007 \\ufeff ͏ \\u200c \\xa0 \\u2007 \\ufeff ͏ \\u200c \\xa0 \\u2007 \\ufeff ͏ \\u200c \\xa0 \\u2007 \\ufeff ͏ \\u200c \\xa0 \\u2007 \\ufeff\\n͏ \\u200c \\xa0 \\u2007 \\ufeff ͏ \\u200c \\xa0 \\u2007 \\ufeff ͏ \\u200c \\xa0 \\u2007 \\ufeff ͏ \\u200c \\xa0 \\u2007 \\ufeff ͏ \\u200c \\xa0 \\u2007 \\ufeff ͏ \\u200c \\xa0 \\u2007 \\ufeff ͏ \\u200c \\xa0 \\u2007 \\ufeff ͏ \\u200c \\xa0 \\u2007 \\ufeff\\n͏ \\u200c \\xa0 \\u2007 \\ufeff ͏ \\u200c \\xa0 \\u2007 \\ufeff ͏ \\u200c \\xa0 \\u2007 \\ufeff ͏ \\u200c \\xa0 \\u2007 \\ufeff ͏ \\u200c \\xa0 \\u2007 \\ufeff ͏ \\u200c \\xa0 \\u2007 \\ufeff ͏ \\u200c \\xa0 \\u2007 \\ufeff ͏ \\u200c \\xa0 \\u2007 \\ufeff\\n͏ \\u200c \\xa0 \\u2007 \\ufeff ͏ \\u200c \\xa0 \\u2007 \\ufeff ͏ \\u200c \\xa0 \\u2007 \\ufeff ͏ \\u200c \\xa0 \\u2007 \\ufeff ͏ \\u200c \\xa0 \\u2007 \\ufeff ͏ \\u200c \\xa0 \\u2007 \\ufeff ͏ \\u200c \\xa0 \\u2007 \\ufeff ͏ \\u200c \\xa0 \\u2007 \\ufeff\\n͏ \\u200c \\xa0 \\u2007 \\ufeff ͏ \\u200c \\xa0 \\u2007 \\ufeff ͏ \\u200c \\xa0 \\u2007 \\ufeff ͏ \\u200c \\xa0 \\u2007 \\ufeff ͏ \\u200c \\xa0 \\u2007 \\ufeff ͏ \\u200c \\xa0 \\u2007 \\ufeff ͏ \\u200c \\xa0 \\u2007 \\ufeff ͏ \\u200c \\xa0 \\u2007 \\ufeff\\n͏ \\u200c \\xa0 \\u2007 \\ufeff ͏ \\u200c \\xa0 \\u2007 \\ufeff ͏ \\u200c \\xa0 \\u2007 \\ufeff ͏ \\u200c \\xa0 \\u2007 \\ufeff ͏ \\u200c \\xa0 \\u2007 \\ufeff ͏ \\u200c \\xa0 \\u2007 \\ufeff ͏ \\u200c \\xa0 \\u2007 \\ufeff ͏ \\u200c \\xa0 \\u2007 \\ufeff\\n͏ \\u200c \\xa0 \\u2007 \\ufeff ͏ \\u200c \\xa0 \\u2007 \\ufeff ͏ \\u200c \\xa0 \\u2007 \\ufeff ͏ \\u200c \\xa0 \\u2007 \\ufeff ͏ \\u200c \\xa0 \\u2007 \\ufeff ͏ \\u200c \\xa0 \\u2007 \\ufeff ͏ \\u200c \\xa0 \\u2007 \\ufeff ͏ \\u200c \\xa0 \\u2007 \\ufeff\\n͏ \\u200c \\xa0 \\u2007 \\ufeff ͏ \\u200c \\xa0 \\u2007 \\ufeff ͏ \\u200c \\xa0 \\u2007 \\ufeff ͏ \\u200c \\xa0 \\u2007 \\ufeff ͏ \\u200c \\xa0 \\u2007 \\ufeff ͏ \\u200c \\xa0 \\u2007 \\ufeff ͏ \\u200c \\xa0 \\u2007 \\ufeff ͏ \\u200c \\xa0 \\u2007 \\ufeff\\n͏ \\u200c \\xa0 \\u2007 \\ufeff ͏ \\u200c \\xa0 \\u2007 \\ufeff ͏ \\u200c \\xa0 \\u2007 \\ufeff ͏ \\u200c \\xa0 \\u2007 \\ufeff\\n\\n\\xa0\\n\\n\\xa0\\n\\n\\xa0\\n\\nCanva\\n[https://braze-images.com/appboy/communication/assets/image_assets/images/63a101405133236aa0b76b77/original.png?1671496000]\\nhttps://l.engage.canva.com/ss/c/u001.Note3it1gaozj0PIggVG9tplar3juom3GwdJknmjC23TKVA9-NZd78yLrUlX5ouQm0vDa5e536iFXQHgTABpwLUH_NXzj84B8LV-lK4qnatwL94AhBjUi5rcq_yWuwQDl2X73oRRy-nehLNnF9WNElpYKhMJfPhvQlP95F4IigrIeXy_i1D3W4-3BC0bTOtPn-2lG4VNL49gsvQMVfjGAaqFcm1DMUReJQm-tLmMe4k/4gb/k-qhSDGCRIqywM999jbh_A/h0/h001.t8UHVrvgQQyRzwksaQ7Cemd5mPJs4vswzrsjklc5HHw\\n\\xa0\\n\\nDesign with Canva\\n[https://l.engage.canva.com/ss/c/u001.Note3it1gaozj0PIggVG9tplar3juom3GwdJknmjC23O0g4EnZ6xni6gVX2b7BGLC7YFZciIevAAooFHLClhWjEyrBBZlybs_uU_zTEGppN1dO2RnpGnPhxPuB479rl-RzN7kR7AzgJwnsssoysitsyUtck6IiUknZpV_vnPRA23CZt-WGHcdsLFxtDip-Xj-12Z8n6TDSHBx4vYVuUTHh7pxCKsW0O8mHqrS__wTc8/4gb/k-qhSDGCRIqywM999jbh_A/h1/h001.9xSwrucR98Z6n_fWgjRBhsCXIvIzAIPN27NFHFidVAk]\\n\\n\\xa0\\n\\n\\xa0\\n\\n\\xa0\\n\\n[https://braze-images.com/appboy/communication/assets/image_assets/images/64814292028aea3b2892cb3b/original.png?1686192786]\\n[http://braze-images.com/spacer.gif]\\nMonthly\\xa0Glow\\xa0Up\\n\\n\\xa0\\n\\n\\xa0\\nHow Erin transforms ideas into organized plans\\n\\n\\xa0\\n\\n[https://braze-images.com/appboy/communication/assets/image_assets/images/67cf7fcc2ad9fc0065fe200a/original.gif?1741651915]https://l.engage.canva.com/ss/c/u001.CfOoif63IrzNhQPL6_V0ehW5ipa2eOexan7znVMeXS5ha4cMjXVcC6MIb-hazzZV/4gb/k-qhSDGCRIqywM999jbh_A/h2/h001._RWBomr_hCMNgs--qzcz2y6ccMK2Dkkim80-xADxKR4\\n\\n\\xa0\\nThis month, let Erin show you how to go from vision to execution in less than 5\\nminutes. Check out our Top 4 AI Hacks\\n[https://l.engage.canva.com/ss/c/u001.Note3it1gaozj0PIggVG9htgmxXo2GY2NJNEM-BT12sgcELBMR4yuNXXcoKYC87NdbbwPALfCyWouREM_tSPnA/4gb/k-qhSDGCRIqywM999jbh_A/h3/h001.cwWkXVxiGMQOwvqRvBIRA1XMXccGID4jlkSSs6VvyaE]\\nand watch how she transforms notes from a brainstorming session into an\\norganized action plan with just a few clicks.\\n\\nWatch the video\\n[https://l.engage.canva.com/ss/c/u001.CfOoif63IrzNhQPL6_V0ehW5ipa2eOexan7znVMeXS5ha4cMjXVcC6MIb-hazzZV/4gb/k-qhSDGCRIqywM999jbh_A/h4/h001.-KVYH1RncGrDS8RCA92-4BQgB111BpPQov4dkMmV8q8]\\n\\n\\xa0\\n\\n\\xa0\\n\\n[http://braze-images.com/spacer.gif]\\n\\n\\xa0\\n\\n\\nHOW SHE DOES IT (AND HOW YOU CAN TOO)\\n\\n[https://braze-images.com/appboy/communication/assets/image_assets/images/67cfa570a9655700665cacff/original.png?1741661551]https://l.engage.canva.com/ss/c/u001.Note3it1gaozj0PIggVG9mCt0SmagOSlEf99ai5xz4RuVZZ36fEjjSng2aAIeOw_zp31K7T0sFB7zfn6haQUw5KoEdhMuIbAg2zFPE_JNow2zXGuxVIWmgZ6yssVYBwKfmR7KzUTUomRUN3fXbpL8ajZg1VTDy771THFt0sCdZpD1_RNOnd_o1YgwKpZ66fCErHYNnKHsrEHm_pBLcw3kaM4U5h7JZeUCQFdXiS29-BaPj9EITm-1iap26KTEMEhp2yW0Xuy3vCbQacQNDiIFg/4gb/k-qhSDGCRIqywM999jbh_A/h5/h001.rbbkFbRxjN2kr2qZeGcY5ySHTgeF0-UkA5yXENhBI5U\\n\\n[https://braze-images.com/appboy/communication/assets/image_assets/images/67cfa5efa6642900645d2e6a/original.png?1741661679]https://l.engage.canva.com/ss/c/u001.Note3it1gaozj0PIggVG9mCt0SmagOSlEf99ai5xz4RuVZZ36fEjjSng2aAIeOw_YfaC5Ran_HcpwXOnLTOTuWAKokPON7-jGnmarv3YllA9OjV5a0gS2J8BOS56ZdKhVuYnVOkLNW8yWC-ttpltNi864uLIs3j2Zj4gVrBMZ-uoD4g9OAwEcnco7u8XE2MpnwTELmCZ2InxMmgJoD-MEDLGz1Kk2rpyf8TZUcjgnT7K1YBBe6KZ2e272rJimaNL7ijvZNStrIgXb3JbYDgbMQ/4gb/k-qhSDGCRIqywM999jbh_A/h6/h001.EI3HYG-Tbg7yKY5_EVaR8blOXnivFNa56rCjUFhXK9s\\n\\n\\nSORT NOTES WITH ONE CLICK\\n\\n\\u200a\\n\\nOrganize sticky notes by name, topic, color, or reactions for instant clarity\\n\\n[https://braze-images.com/appboy/communication/assets/image_assets/images/67cfa618d639db0064886451/original.png?1741661720]https://l.engage.canva.com/ss/c/u001.Note3it1gaozj0PIggVG9mCt0SmagOSlEf99ai5xz4RuVZZ36fEjjSng2aAIeOw_ppiotwgzVhKdbSfSVZtTJbynB005w49A2qI5v3uu70OKF3PimBp2FIaCBUehtkQdPMfJ8yJ-oQKrvkgPQU-WwkgLqFSPIJ7Wm-RC25YAZnLeU-LWzkVrQPf3CSXvLkJhgWD9xoZ2x6syJ4xJFIumIckL5OdVRZ7TsQoNbGuFkh0Ny6R7ONaenf-AT3uPprVHCdDKWP_RRNieT0q1ouUpSA/4gb/k-qhSDGCRIqywM999jbh_A/h7/h001.QKX--vzwKKO1UzsGMJ97z7Da5D8dyeXIcMHNk7a29qM\\n\\n\\nSUMMARIZE MESSY BRAINSTORMS\\n\\n\\n\\u200a\\n\\nQuickly identify key points in your whiteboard with Magic Write\\n\\n[https://braze-images.com/appboy/communication/assets/image_assets/images/67cfa649c94c8900663d9fdf/original.png?1741661769]https://l.engage.canva.com/ss/c/u001.Note3it1gaozj0PIggVG9mCt0SmagOSlEf99ai5xz4RuVZZ36fEjjSng2aAIeOw_XcfEX2A05nLVMM3C2UMx3O6Fazb0Lisg9q098COGioG-789Wh894t_GX2GYR34s9f2VwOgSKuUb-9Nu7EKTF-wcTToPldKIitC3T3H_zhmRuHF8e-eH2bhXhJ0OyJd9b1EII2jkqrYdvtdSNieNgYLLWlb2elX6j7GNZahjrsDYOXnmw63-_DQ5XlBTlIsv1uQokG9G1vBTxqP2urTsGpw/4gb/k-qhSDGCRIqywM999jbh_A/h8/h001.j5Rud9oH6smBcbT4QYzgErBW0_8-KSiV12sRhj-2pRY\\n\\n\\nCONDENSE IDEAS INTO A DOC\\n\\n\\u200a\\n\\nUse Magic Switch to turn your whiteboard into a rollout plan in seconds\\n\\nTry it now\\n[https://l.engage.canva.com/ss/c/u001.Note3it1gaozj0PIggVG9mCt0SmagOSlEf99ai5xz4RuVZZ36fEjjSng2aAIeOw_IZZEDc2W3kqTLqO7UTe09VgPPBOFwlCs-nM68NByhse44IBTXrF6PoiXHM5HLS9GVeFcvXrxKLMXnfdK1yOHjPhSWtO_kFEuKjfFjL7EisYYDm6CLE14Pg1tlcVkBi2gXUp628mcelwIXpQBXLtrh2N4s9pLk7Z60ERrQRarm_bH1g7yGXvl7VNKR9elpZkaivTgUjGuNvh-VRqMRKU1jw/4gb/k-qhSDGCRIqywM999jbh_A/h9/h001.eSD8gEdnyvWfM-DToAErcVojU0JXzem7p2-Zg5nIlac]\\n\\n\\xa0\\n\\n\\xa0 \\xa0\\nYou are receiving this email because you signed up to Canva.\\n\\xa0 \\xa0 \\xa0\\nGet Canva for:\\niPhone\\n[https://l.engage.canva.com/ss/c/u001.Note3it1gaozj0PIggVG9inNSLfUvwU6C00u-AIKuxJbJScSwy3bGVw3CV1a7cwxt2T3zj1KubXeVLkZFixHZfXHp8FV0bxxIFvsEX_-bDLvEtOR4VYWGsOMWlL55UaEGXtqZMPABhcWrKkB3cCxYn8EbodbCfZqhJ2zf4WwaB_2HdduDH77nWMnhemQN0r-o0CiyVt7ql98eajx87KKHkXRtN1OPGq8BQHl-HkOT1crWPnYmfqtgGMq993xn7fz/4gb/k-qhSDGCRIqywM999jbh_A/h10/h001.VlAH6YMF4MiVs2Tf8hHYZQxHBEh9qHJ6lQJqMbBg2Jk]\\niPad\\n[https://l.engage.canva.com/ss/c/u001.Note3it1gaozj0PIggVG9inNSLfUvwU6C00u-AIKuxIsmnrwavfj0yp_CtyS2mjnLyOgcC0PCLbv-SZClNpNWI1W5fd8Iph3icdIsvbapk-iyXHmjrt4ntxKTjL3aLuhI5Xdq5BjF179M95IJJAdvbZ0I0mYRqKGLLVroos1ZGMocWw11gZhQawjpNFjeBsLpl9G7gDLY-LyBX7mOG5c1VWtZonvp8J_-JffKHDAwuKA8EaFfPfdqv-aHzq92dwn/4gb/k-qhSDGCRIqywM999jbh_A/h11/h001.OFPCYD0qLalVGz19m8GcZK3bLpSbcc2hA97Rrv441Lw]\\nAndroid\\n[https://l.engage.canva.com/ss/c/u001.Note3it1gaozj0PIggVG9inNSLfUvwU6C00u-AIKuxJ0huWxsBizj11xBs5Tf8pzjikg5EtsbsBt9cyqQYnnYtJLV4XF2IW-M9xrzCqHPB2WJiomjAPPtNOh4LljqJPvs2GXur-rNzX6vLoZZtAAPfSFdO21enS-ypanJ6DC1S5TiAQ31NcoKDSmVRlGtotOAW7S1UGqxl4jLc7PWc9XqDUVwvWjwEybXJ6Sz_1No8YftW9WjXNRJKueka6rF91n/4gb/k-qhSDGCRIqywM999jbh_A/h12/h001.C2PALa70i_q0xZ3B6nwz9rT9Ay4n28zfFo6alVFwOeg]\\nMac\\n[https://l.engage.canva.com/ss/c/u001.Note3it1gaozj0PIggVG9inNSLfUvwU6C00u-AIKuxLbmXECfHtKaoesTN0r8aOh-lIodLPu2oJdHtDQBM78fWCFgICsU1u5dVy0MLmQJOL_kHk_54MksfjmVM65_E_QXo_WxE6Wx4r2qvl4FTaBYq6PcHAT-pUV_d5AC7cmrCpmKESOJTQf32OqK9gUbVH6L4mzpvLx4_zLTp-zd85cLM8Y8YF6sh2kZmuT1dN-9oB-HgmyVU0iCvs07ErsNhWh/4gb/k-qhSDGCRIqywM999jbh_A/h13/h001.dRKEsKwRb3YtkWQpG75Cy4Wp6ZcidruxinoFL2RaBAc]\\nWindows\\n[https://l.engage.canva.com/ss/c/u001.Note3it1gaozj0PIggVG9inNSLfUvwU6C00u-AIKuxIgwxa6pVAlidlWdrQ6dk-MyqV1j3VNyu8aBP9PG5ZyGL9ve0QqkmZ5LnsYFp2CLu_5QEawZ2ulxazzT8Vww6-PTex36RWzawXblOD4fLgFH0Cu5UegLiWaWuSVTH8y0vVTIlIrVfhzeGUyLnjy6e41GA_A9Wq5nA_8vzgcSS9K-Q6zMWsbkp5a5Rqf0Nio_3CqHKUaEOB8sC11a9nKUYTC/4gb/k-qhSDGCRIqywM999jbh_A/h14/h001.JjhQy3N0djvxi6CvyeziaGh245Lw-ASRWj0-th7jQis]\\n\\nDownload the Canva app\\n\\napp store\\n[https://braze-images.com/appboy/communication/assets/image_assets/images/62de020f5e33394d45222a2b/original.png?1658716687]https://l.engage.canva.com/uni/ss/c/u001.Note3it1gaozj0PIggVG9tplar3juom3GwdJknmjC20BLU8ORf_XevNTdVS4EXAiQw8u6wJU70BsRg0cBdhzRbJIVP0L0rnzWNzh3XL79ueylvTXdCgYOuDXKu6-V8VUs1muQbrLj3lSyHE7I4IU1ryAdys9BZ3IdK10tc8-3Qwpxyl1Asft2DHc1gDGutrHZp4tuXMX-YT1v1OvK73It6Ws26gWFqtGGFdyF7Txufs/4gb/k-qhSDGCRIqywM999jbh_A/h15/h001.eRwZz2nAbV1yg1wzOUZxdp8v5VAR_aP949DENz-RaP8\\ngoogle play\\n[https://braze-images.com/appboy/communication/assets/image_assets/images/62de020fef2b102f48236331/original.png?1658716687]https://l.engage.canva.com/uni/ss/c/u001.Note3it1gaozj0PIggVG9tplar3juom3GwdJknmjC22pN2QhH7jEul9FewUK4yuM5opqdUAR0TvI_yg0kamv7IINNTdT0jPKPgL3sxYl4pEG_Iugb7X6FXZ4mQi6RPUUVZywdIkSQv7MS7WUzGKJ0UuBG231ZkLaw_8KroWgwcb_FD5bVbA34o1GRfjcsaGx92BPvLpQxgkvMMyskKIiKTXtDmJlmaXBU2Ax2JmwN5o/4gb/k-qhSDGCRIqywM999jbh_A/h16/h001.ZFItygIcjYwaj2ev7gRi7caCy1_ivGpM5ibhsvLB91g\\n\\n\\xa0 \\xa0 \\xa0\\nThis advertisement is made for you with\\xa0love\\n[https://braze-images.com/appboy/communication/assets/image_assets/images/62dde73399539f763df89c34/original.png?1658709811]\\xa0from\\nCanva\\nCanva Pty Ltd, 110 Kippax St, NSW 2010, Australia. ABN 80 158 929 938\\nIf you need assistance, get in touch with us via our Help Center\\n[https://l.engage.canva.com/ss/c/u001.Note3it1gaozj0PIggVG9koHec2e2LlCYgohCOBBuqE1-HDgjc4giVgVN9vTl2sa/4gb/k-qhSDGCRIqywM999jbh_A/h17/h001.ogqUJLyAw4j1WYp1Fxqr0B3tsFa4jlnaAxmzs55yzbw].\\n\\xa0\\nVisit canva.com\\n[https://l.engage.canva.com/ss/c/u001.Note3it1gaozj0PIggVG9tplar3juom3GwdJknmjC22Obey3pCskxyr48nOo1susViLA3UCzm9mBJTCkEV_JXC_VNcE5fiKtiomBhzMmx1E0PNPdBMyS2TOOg4PUaG0VpDsiKGk7d7azOqwOGovM6ES0FdPxeKsN_ofKXIP2K-TCHWHVMxe-VJJ0ADwclLcSfpeslKGqY9qRYbORECrKn1eG08Jb9O6vEtPW7bto0BY/4gb/k-qhSDGCRIqywM999jbh_A/h18/h001.F_IJgNF1bTG9Zyrm0b1dB-U0jJH2p5Pa2t-bjSreNt8]\\nUnsubscribe\\n[https://l.engage.canva.com/ss/c/u001.JArFo7LeP-8OYD3Jv5wfvQo5nNUGyHE4_827Ez4zVFQc6G1BnrVsh12rUWXVadM2A7M8F-fxwAwbGdXWMCG-JApuYdz3ffC5pfU0ok9MjPb7LR-jMgATnTIuzl-_eQEm2SAQ4v_xNGLjHq92DPz6YUnk4yqLGUL1TWO5CFVqXCmMrUnx4-pSHAV0TE2gM-CEsgDeAYEWJGZ95oMrur3q8bI7IKvcGqhdNLp19uoEkS6Z80iLcHCbNdE0B5w3ujUUxWiN-e_YMVc2NrNH9fZlzIJ0bbqOKY-ksmZMNl-bImnsexwq4ivsx8IuVFcM35xR4GecMevPwTjOZ38q4dTPGj40UQ0wstqvhir1S1if52i6GN1QNayzKdC01D4E84e3z4MQdfy8_5r2Y03xWEFpVmY1CbGCdNxX9F_9zOooHrtChe5ZcSj-1PhhbvCnPPlvda-h1JZMhVog5CL-bnKz_1msgMPhNbOr1w-FIz317aoOxpv5Ed089GJIJ93iVAhXycsCleF39t6IM7KXASXsCcGukULFSXTybngTmKWVK9wEUx1M6dCeZasBRtBnArSlQRtnbYGxbucXn9J1p8MYklJMaqMQuKn2IoVZZ_mDdaCOQu_3XwcAkYhsNAOgu748hp1zjXTt2ZU144U1m-Erdzqf9TCg9Dzrdn3xpudj7ZAkojqWFgsyVl4d3tfYilVhQR6I5MIp0TdawSCLRZ4LmA/4gb/k-qhSDGCRIqywM999jbh_A/h19/h001.fsDykWyivBnF7JEPNmTll4hADy_G1RfQQcu89cjpUcE]\\n\\nMessage Preferences\\n[https://l.engage.canva.com/ss/c/u001.Note3it1gaozj0PIggVG9t1o6OOPWBTK2sz3h-0nOIbQyLvBmKKHsNPdhh_PATD2_w7G0HRpB4_KEw88qaRfzJFIxYpEZqU0ia9zq3WZUuhGc8qS4nYOGv0-Ucxl2ajaPK4uDY7F4ML0_1C0JviOU1EJ37X1qULoQcZra0P2VedY66JOFN8bOcV_yx5sL1OuHIonAu3ve52sLrZuwaKPK0SrqZbkj29bjjFzVGxkT8ImnxsUvf6ujwIZ7voTVUY0ebL6NlEf5AmAK0ACDdTE6g/4gb/k-qhSDGCRIqywM999jbh_A/h20/h001.BaJFAqtpaRTdeGLOMSYFzmYX4jXjPYhZx9Cj15BxaLk]\\n\\nfacebook\\n[https://braze-images.com/appboy/communication/assets/image_assets/images/667131cfeafa420059574801/original.png?1718694350]\\nhttps://l.engage.canva.com/ss/c/u001.Note3it1gaozj0PIggVG9j0BmJ_K3iBo2XW6cJQznU2KHY17FKxSdf2bBC9PduS6JQmF92WsNzOh8jrMoYxotS8OGcBZGex5M9ovu3wHJcCJJeZCtzCHEuAWMHsJ0t9TFusBqpzr0meNOG9lhOQfPohSWhVK37XhVL1Cio6eGBksw5NZeZWJSs5cXFOjHkXyBWF18cNSgos6T2U3FbjwCb61h_7RoNi2ot9YCTaWkWMVyPDMBouIyFZdm_1lugUA/4gb/k-qhSDGCRIqywM999jbh_A/h21/h001.7W2zRy_vwrSkkoUdVsJxccpQcfKApSJJ9bvalKyhVxU\\nx\\n[https://braze-images.com/appboy/communication/assets/image_assets/images/668e0678c1885a00630cd3c5/original.png?1720583800]\\nhttps://l.engage.canva.com/ss/c/u001.A0R9ivDp7nMTirpND5087ldr335FNEezgJV_kCZmCeQpFIOmqxa5cq84eHG0srLFoTx0qLGjPSIhGOsINY925dVaFa9WFiUWoFi1_VIA6we_PiddgKMqDtwVOGljHmXvt8rt2ng1XKkl1nU4E9ApDjuQawcDVD64Veg2gAADHneJHHqT5k_238A0IX_Q_4R4qlH9DjyvzTvbd0qQZUgPf2D6Z0tZQ9Q_A0uzP6F5Luc/4gb/k-qhSDGCRIqywM999jbh_A/h22/h001.qF1Bd1UrqzZ_Z0FyqlqaftsttbRodnVtZ6u1_C39oIM\\npinterest\\n[https://braze-images.com/appboy/communication/assets/image_assets/images/667131cf73b4d70059488502/original.png?1718694350]\\nhttps://l.engage.canva.com/ss/c/u001.Note3it1gaozj0PIggVG9pePWUsjBCA39SYanfHwG9ZQtlRsiXyvAPRZy3A68cnJJHDkfQ4LT7bUBytH0i6Yap6YOtoWVVYTc6kxR85gi_f3GQM9yFryrfNnb1375MdGnUyGERg7UWtytZ5iCSy4Jyr69-CIs7fK8aE3lNfNWr47GGwyfp77sSQo7_nuvG5wwPrtwF7Spk8jMEDQSDbY6VJSI4MJjR6l_pHiIRwVt18DcaY7bbsiUYRbJAYPlllC/4gb/k-qhSDGCRIqywM999jbh_A/h23/h001.D_8HHJzTK7_5THAJffCueguWYKPniXSbcbw6dz5ASp8\\ninstagram\\n[https://braze-images.com/appboy/communication/assets/image_assets/images/667131cf1e78a400581142b7/original.png?1718694350]\\nhttps://l.engage.canva.com/ss/c/u001.wkwfS08RYRjEtO3m2n_PfMIXhnxcvSbXh0yODKywel2VIodxkQNcEE4h_kS5rkzzlUjDnio5NT9t2Eo11FR4arGWZmKlyo1PY0grGKA49t46lz9T4vJ1yH9JJn2MR8xLHf8aFaGBjoLiuRvQ6j5zNTgiq58cZkmao1noAa-hBOZblzlrvPrmEMlvgb3QWZW64BpYLQL7gUcdKMpoRFxiOFSQBUmmaeGuhAqnAZy0lA2BK6s2Wyv4QhYnyH-Lf9Oc/4gb/k-qhSDGCRIqywM999jbh_A/h24/h001.7-mCSO5tpxsOGarzhDNHG2cKWqP3zqP_L8GHYV8C_yw\\n\\n[https://l.engage.canva.com/ss/o/u001.PFkhS6zghJKXhjpIJq9gQw/4gb/k-qhSDGCRIqywM999jbh_A/ho.gif]'},\n",
       "  {'type': 'received',\n",
       "   'subject': 'Confirmed: Benefits Renewal Consultation',\n",
       "   'from': 'LaTanyaRogersADPIA@adponline.onmicrosoft.com',\n",
       "   'to': 'matt@bluewatermarketing.com',\n",
       "   'date': '2025-05-08T14:32:14.000Z',\n",
       "   'content': ''},\n",
       "  {'type': 'received',\n",
       "   'subject': '\"Why Lowering Your Google Ad Spend Can Boost Profits\"',\n",
       "   'from': 'notifications@tasks.clickup.com',\n",
       "   'to': 'matt@bluewatermarketing.com',\n",
       "   'date': '2025-05-08T13:49:13.000Z',\n",
       "   'content': '\\xa0\\n\\nClickUp\\n[https://clickup.com/emails/images/brand/v2/logo.png]https://link-inbox.clickup.com/CL0/https:%2F%2Fclickup.com%2F/1/01000196b0284cce-1aaadfcf-bba0-4562-9fac-e4e0ea8dc613-000000/V6sYRltXumIUWKOvEcayt1veyiyvw4WmkrKToN80_BM=404\\n\\n\\xa0\\n\\n\\xa0\\n\\nCM\\n\\n\\xa0\\n\\nStatus has been changed\\n\\n\\xa0\\n\\nby Chris Marrano\\n\\n\\xa0\\n\\n\\xa0\\n\\nMatt\\'s Content > Video Content\\n\\n\\xa0\\n\\n\"Why Lowering Your Google Ad Spend Can Boost Profits\"\\n\\n\\xa0\\n\\ncaption approved\\n\\n[https://clickup.com/emails/images/arrow-right-black.png]\\n\\nneeds edits\\n\\n\\xa0\\n\\n\\xa0\\n\\nView task\\n[https://link-inbox.clickup.com/CL0/https:%2F%2Fapp.clickup.com%2Ft%2F868djj55q%3Futm_source=email-notifications%26utm_type=1%26utm_field=status/1/01000196b0284cce-1aaadfcf-bba0-4562-9fac-e4e0ea8dc613-000000/7ODat1YaQRAAgenLkr-ubV4AoXEn8cBZ7vomKneyDBw=404]\\n\\n\\xa0\\n\\n\\xa0\\n\\nReplies to this email will be added as comments\\n\\n\\n\\n\\xa0\\n\\n©\\xa02025\\xa0ClickUp\\xa0| San Diego, CA\\n[https://link-inbox.clickup.com/CL0/https:%2F%2Fclickup.com/1/01000196b0284cce-1aaadfcf-bba0-4562-9fac-e4e0ea8dc613-000000/re91p_o_ivxUX39osJW1tIhAPlZ-NYiMLvxxQJOxDAU=404]\\n\\n\\xa0\\n\\nChange email settings\\n[https://link-inbox.clickup.com/CL0/https:%2F%2Fapp.clickup.com%2F2369883%2Fsettings%2Fnotifications/1/01000196b0284cce-1aaadfcf-bba0-4562-9fac-e4e0ea8dc613-000000/lUJHjJ3TKTHt9Aauv5etgLStHqqOmqu7-LZN8gZDSH0=404]\\n\\n\\xa0\\n\\n[http://link-inbox.clickup.com/CI0/01000196b0284cce-1aaadfcf-bba0-4562-9fac-e4e0ea8dc613-000000/5jDWyLIWkwZ2rnGRgEOh-tyLz8ipzVcLz3LtFOaKz_4=404]'}]}"
      ]
     },
     "execution_count": 8,
     "metadata": {},
     "output_type": "execute_result"
    }
   ],
   "source": [
    "email_batches[11]"
   ]
  },
  {
   "cell_type": "code",
   "execution_count": 40,
   "id": "7c6906fa",
   "metadata": {},
   "outputs": [
    {
     "name": "stdout",
     "output_type": "stream",
     "text": [
      "4831\n",
      "{'type': 'received', 'subject': 'Red Rooster Coffee, your performance for April 2025', 'from': 'googlebase-noreply@google.com', 'to': 'matt@bluewatermarketing.com', 'date': '2025-05-08T16:03:49.000Z', 'content': \"\\n\\n\\n\\n\\n\\n\\n\\n\\n\\nYour customer ID: 603232330\\n\\nYour business performance for April 2025\\n\\n\\n\\n\\n\\n\\n\\nHow your products performed (ads only)\\nClicks\\n282\\n-51.3%*\\n\\nImpressions\\n62.62K\\n-45.5%*\\n\\nCTR\\n0.5%\\n-10.6%*\\n\\n\\nManage campaigns <https://notifications.google.com/g/p/ANiao5p3ia-SeXXH6DD5_o9EMiDpsTG8_4IeiuiwDqjR4G97cJ1QmolP-oxN4lQnttX_GJClvGaihKmwXSPSgcsdmFSRjr5V9gR6N2uN0SYAMeJo13DlTRFPFMNZ9EaznFJKFF4d1-Yq-4cw8eA9vz-D51o8oPc-o6OEoALhh72JjXUnudKmChC6phKod1Db5T-hSUVpCeyRHn_r_4NKAhJ1BuVJb8oayLqOOA7QwMrrhPopTpK5DNJFqXuLZzkNlwM-XHPPixGymcYaDEMHPAp7JZnS3hIb90wnWlisxB_Oe-xVzd4DYaNNcfBjNck>\\n\\n\\n\\n\\n\\n\\nHow your products performed (organic & ads)\\nClicks\\n670\\n-31.4%*\\n\\nImpressions\\n89.26K\\n-34.1%*\\n\\nCTR\\n0.8%\\n+4.1%*\\n\\n\\n\\n\\n*Compared to March 2025\\n\\n\\nYour popular products\\nRed Rooster Ethiopia Worka Sakaro - Anaerobic Natural Berry & Floral Whole Bean (12OZ)\\n130 clicks\\n\\nRed Rooster Organic Floyd Farmhouse Breakfast Blend - Almond & Cacao Medium Roast Whole Bean (12OZ)\\n29 clicks\\n\\nEthiopia Worka Sakaro Anaerobic Natural 2LB / French Press\\n25 clicks\\n\\n\\n\\nSee performance <https://notifications.google.com/g/p/ANiao5roTFl_710-FastQZ-ymhk_1Hiijk8uQs2CW51y4uVpeyfzf7Ek6fdSM-gWcB8trSxKiMGW5VmFny09MoCdyTPy6CWARBiMc-OEZFybIJSGWEa9tNpaZ71DhK5pOCd1xOYZIzaq7Dp3nj5x6nIJdfGvrOH3AFGLvZf1iWM-ecKnz0B1KSMa2LCLbubswY0-uJFpmg_yzjagghPrvxJjGL3S2eFHxKkOObI4nTDe7_p7asfldtEnLNJvlAcokTfmp3QXinyzO_UU6OIP_ntiD1ZXPIpZQ6QsSKcp-Uug3nt-_BYYODBwIEpiWy5G54ziRGRpHwXKVX-KuxidozLjjURMWvE>\\n\\n\\nProduct status\\nSome of your products aren't showing to customers. Fix product issues to show them on Google.\\n\\nNot approved\\n37\\n\\nLimited\\n0\\n\\nApproved\\n706\\n\\nUnder review\\n0\\n\\nFix issues in Shopify <https://notifications.google.com/g/p/ANiao5qzl7jHO3MNcgmGTdgUpPg5xKLddu8lPnYXfkn7mUkvuMl3MDmSuFX-PP7Ei9_sqwGp9CAXyc0knL50B3W8d2maT1OdO3pcfLfgd0mza5U19Wqfi0kum5U4grcNyqTKs2zUuZrHHcjWLFQgeqCivPTM7H4v9Lkaczg_c5j2v60Ss7ikjBiKhweKL6GzdhcpPAWPsu1zRHZ67vOwzbEj0qQRZrB_-WuKgQ>\\n\\n\\n\\n\\n\\n\\n\\n\\n\\n\\n\\n\\n\\n\\n\\n\\n\\n\\nYour store quality scorecard in United States in April\\n\\nExceptional\\n\\nTop Quality Store\\n\\nLow\\n\\nFair\\n\\nGood\\n\\nGreat\\n\\nExceptional\\n\\nYou are a Top Quality Store\\n\\nFind out more <https://notifications.google.com/g/p/ANiao5rDVymo4hk-PfJ93H52cevN8hGu1Uqyd9uzt93nyAMOpnUGH0a31-kAIJoaYClfZqJBvGrs41cL8xaeoa4_Ox2c7QwJGcqq9G4osQjH8YWQpLth103kyl999a2UTVYjq4FI5O7-D7ZzqerTgCmuYh98oMCfpbhC3_3go1S2pcSJf2LLx03vX0sL2I8>\\n\\n\\n\\n\\n\\n\\n\\nImprove your performance in May 2025\\n\\n\\n\\n\\n\\n\\n\\n\\n\\n\\n\\n\\nMake fixes so customers can find your products\\n\\n123 of your products might have missing or inaccurate product details. Review and fix what needs attention.\\n\\n\\n\\nFix issues in Shopify <https://notifications.google.com/g/p/ANiao5qmnp7vopQRX0fI_5N0xKNeOOh1M4nr_N4jQyiBPkij2P1mHgN4mMFofuv9gSoxXRRzSA4sonieNNBLiRxAWZQopFzXLKV0yttfG_E7xsZakBNBI_SZmbVsvX3F7WtOV_ALiEd4aW5S2c17ftVrDJxxz8KQX2rJ3j8jv35WvCBrE9cZ7PJZ2OQQ84n4yYnQa_2mbt4VarAqwyH2r_CBQRMK04BZtUuudWy1I2ywOOK6CrhlSIQDbbePk6zCBZgnLXU>\\n\\n\\n\\n\\n\\n\\n\\n\\n\\n\\n\\n\\n\\n\\n\\n\\nImprove your product images with generative AI\\n\\nQuickly generate lifestyle scenes, increase image resolution, and edit backgrounds to attract customers. Learn more <https://notifications.google.com/g/p/ANiao5o7UksRsd4JRkeP3hmKB0r2hjv1_M6DgugHeGLmJ77j5p6uNVnpJrQ18InyruD50VtZe6PaJWRm6mwMLC9yoKzKm_ooFj2EnlmFNNaWB8KSCHrFREA5YhpXJjJqvQBEQ9_kR7fcvU2IiLGbGQ6Ho3Co1kaEBDTbxt4hx1xuRTlhYb0ofGLkmnXcmj0iLl35-bBDf7Uzf9u3CJcbYA>\\n\\n\\n\\nGo to Product Studio in Shopify <https://notifications.google.com/g/p/ANiao5qjfD9IkAl8eM_GD-reNQeTL0-8b9Wl5EP_2_fgCMUCxZFDSmO8fYWvMXpsZ_e7Np2ylyOF7hGwmoQxfOpNkN9Hqesw95kvokIFAD8_Xpc0ZmNkZ4wKULvM2CsTIrhjYPN-vxzR5qs_tANmQxnujxJDj82qwOF9AGK9TwH0jQsQxyUfDWMumFFH71DGM38KGr75io2VLpCWfskAkiGGcWJq822i--OYjeBzlzKq9UE_X4O5_CURBZ04ixORcNyZ-4r4vxqmx46XHNUrKOGisqYHO4r_h7sguhqEPfaetoggKGb7GicDNXXA>\\n\\n\\n\\n\\nSee more recommendations <https://notifications.google.com/g/p/ANiao5qKNFZdBBH1Qpyp-fm1nK0cVY7ZB6bLIEYQA7_owYJwbMhn_st6X2S5ntBLXHyVp0b4QNHaXIFI4IRKi0aRVho308y6qRHJAWQI3HaXJhCXNtONN2OcIlt63ZKc07ubXUkoyHuL92hVcFzJfiW3NZ2M-TZlbD6VzSPKS32Bd-eahL07jTbTb-ZfHg> in Merchant Center.\\n\\n\\n(c) 2025 Google LLC\\n1600 Amphitheatre Parkway,\\nMountain View, CA 94043\\nwww.google.com <https://notifications.google.com/g/p/ANiao5qVmZPCbTpZcx58jxe4dIEgQe_rYlj4MJJtHgBsSh0fcYb_2QhAvnOfPrzlZZLJHGtkV3CNy8P1uAnEYXKct9r0pQ8bumzs5RhLXPw0O-a23A_W8eaNZIV9vr7S318IBNQ-iLE>\\n\\nYou have received this email because you opted to receive reporting updates from Google Merchant Center. If you do not wish to receive such emails in the future, you can unsubscribe here <https://myaccount.google.com/communication-preferences/unsubscribe/gt/ANiao5r2T6BKVvaTs7OcH8ZzFOhovakaiNg5KHx-PQyffHXsQLLv8j88MAy63qiT1Wc0Rq1EoUs7rQmtYZ5CQkqz3I7Otk6qqdIrPvqoejth34w5rVWvQM9bzCl1WaGNooQIg_nLJhAmH6xnM9WZBoaiGAsitkyHAjWx4LfCB6pSNGdZb5kr0DfW2s9HVio7lqoqHVud_spnqh8W6p51t_bME3M5mftUPMesw0u1AnAKrgsJias8pvXIoUpFQ5osszg14GJUeojVmsV7L9lmUoNccZU91prUQmYmnyc8zNabSckz54jeQ0bNhg?utm_source=gm&utm_medium=email&auto=true>.\\n\"}\n"
     ]
    }
   ],
   "source": [
    "for email in email_batches[11][\"batch\"]:\n",
    "    print(len(email[\"content\"]))\n",
    "    print(email)\n",
    "    break"
   ]
  },
  {
   "cell_type": "code",
   "execution_count": null,
   "id": "1edd5357",
   "metadata": {},
   "outputs": [],
   "source": []
  },
  {
   "cell_type": "code",
   "execution_count": 9,
   "id": "6c53e4a2",
   "metadata": {},
   "outputs": [
    {
     "data": {
      "text/plain": [
       "9098"
      ]
     },
     "execution_count": 9,
     "metadata": {},
     "output_type": "execute_result"
    }
   ],
   "source": [
    "num_tokens_from_text(json.dumps(email_batches[11][\"batch\"][1]))"
   ]
  },
  {
   "cell_type": "code",
   "execution_count": 10,
   "id": "56616b63",
   "metadata": {},
   "outputs": [],
   "source": [
    "content_len=4831\n",
    "token_len=2492"
   ]
  },
  {
   "cell_type": "code",
   "execution_count": 11,
   "id": "01f67909",
   "metadata": {},
   "outputs": [
    {
     "name": "stdout",
     "output_type": "stream",
     "text": [
      "work\n",
      "Canva\n"
     ]
    }
   ],
   "source": [
    "import re\n",
    "\n",
    "text = r'work\\\\n\\\\\\\\\\\\\\\\\\\\n\\\\\\\\\\\\\\\\\\\\n\\\\\\\\\\\\\\\\\\\\n\\\\\\\\\\\\\\\\\\\\n\\\\\\\\\\\\\\\\\\\\n\\\\\\\\\\\\\\\\\\\\n\\\\\\\\\\\\\\\\\\\\n\\\\\\\\\\\\\\\\\\\\n\\\\\\\\\\\\\\\\\\\\n\\\\\\\\\\\\\\\\\\\\n\\\\\\\\\\\\\\\\\\\\n\\\\\\\\\\\\\\\\\\\\n\\\\\\\\\\\\nCanva'\n",
    "def clean_text(text):\n",
    "    # Step 1: Replace all sequences of backslashes followed by n with a single \\n\n",
    "    cleaned_text = re.sub(r'\\\\+n', r'\\n', text)\n",
    "\n",
    "    # Step 2: Remove any remaining standalone backslashes\n",
    "    cleaned_text = re.sub(r'\\\\+', '', cleaned_text)\n",
    "\n",
    "    # Step 3: Replace multiple newlines with a single newline\n",
    "    cleaned_text = re.sub(r'\\n+', r'\\n', cleaned_text)\n",
    "\n",
    "    return cleaned_text\n",
    "\n",
    "print(clean_text(text))"
   ]
  },
  {
   "cell_type": "code",
   "execution_count": 12,
   "id": "c9333d67",
   "metadata": {},
   "outputs": [],
   "source": [
    "import re\n",
    "import codecs\n",
    "\n",
    "def clean_email_text(text):\n",
    "    # 1. Decode escaped unicode (e.g., \\\\u034f -> \\u034f)\n",
    "    try:\n",
    "        text = codecs.decode(text, 'unicode_escape')\n",
    "    except Exception:\n",
    "        pass\n",
    "\n",
    "    # 2. Remove invisible/control characters\n",
    "    text = re.sub(r'[\\u200c\\u200b\\u200d\\u034f\\u202c\\u202d\\u00a0\\ufeff]+', '', text)\n",
    "\n",
    "    # 3. Remove URLs (http, https, www)\n",
    "    text = re.sub(r'https?://\\S+|www\\.\\S+', '', text)\n",
    "\n",
    "    # 4. Collapse multiple newlines, even with junk/invisible chars in between\n",
    "    text = re.sub(r'(\\n[\\s\\u200c\\u034f\\ufeff\\u00a0]*){2,}', '\\n', text)\n",
    "\n",
    "    # 5. Normalize internal whitespace and strip leading/trailing spaces\n",
    "    text = re.sub(r'[ \\t]+', ' ', text)\n",
    "    text = re.sub(r' *\\n *', '\\n', text).strip()\n",
    "\n",
    "    return text\n"
   ]
  },
  {
   "cell_type": "code",
   "execution_count": 13,
   "id": "20c913c2",
   "metadata": {},
   "outputs": [
    {
     "name": "stdout",
     "output_type": "stream",
     "text": [
      "content_len=1205\n",
      "token_len=356\n",
      "\n",
      "\"Get inspired by real people using Canva at work\n",
      "Canva\n",
      "[\n",
      "Design with Canva\n",
      "[\n",
      "[\n",
      "[\n",
      "MonthlyGlowUp\n",
      "How Erin transforms ideas into organized plans\n",
      "[\n",
      "This month, let Erin show you how to go from vision to execution in less than 5\n",
      "minutes. Check out our Top 4 AI Hacks\n",
      "[\n",
      "and watch how she transforms notes from a brainstorming session into an\n",
      "organized action plan with just a few clicks.\n",
      "Watch the video\n",
      "[\n",
      "[\n",
      "HOW SHE DOES IT (AND HOW YOU CAN TOO)\n",
      "[\n",
      "[\n",
      "SORT NOTES WITH ONE CLICK\n",
      "Organize sticky notes by name, topic, color, or reactions for instant clarity\n",
      "[\n",
      "SUMMARIZE MESSY BRAINSTORMS\n",
      "Quickly identify key points in your whiteboard with Magic Write\n",
      "[\n",
      "CONDENSE IDEAS INTO A DOC\n",
      "Use Magic Switch to turn your whiteboard into a rollout plan in seconds\n",
      "Try it now\n",
      "[\n",
      "You are receiving this email because you signed up to Canva.\n",
      "Get Canva for:\n",
      "iPhone\n",
      "[\n",
      "iPad\n",
      "[\n",
      "Android\n",
      "[\n",
      "Mac\n",
      "[\n",
      "Windows\n",
      "[\n",
      "Download the Canva app\n",
      "app store\n",
      "[\n",
      "google play\n",
      "[\n",
      "This advertisement is made for you withlove\n",
      "[\n",
      "Canva\n",
      "Canva Pty Ltd, 110 Kippax St, NSW 2010, Australia. ABN 80 158 929 938\n",
      "If you need assistance, get in touch with us via our Help Center\n",
      "[\n",
      "Visit canva.com\n",
      "[\n",
      "Unsubscribe\n",
      "[\n",
      "Message Preferences\n",
      "[\n",
      "facebook\n",
      "[\n",
      "x\n",
      "[\n",
      "pinterest\n",
      "[\n",
      "instagram\n",
      "[\n",
      "[\n"
     ]
    }
   ],
   "source": [
    "i = 1\n",
    "content = email_batches[11][\"batch\"][i][\"content\"]\n",
    "cleaned_content = clean_email_text(json.dumps(content))\n",
    "content_len = len(cleaned_content)\n",
    "token_len = num_tokens_from_text(json.dumps(cleaned_content))\n",
    "print(f\"{content_len=}\\n{token_len=}\")\n",
    "print()\n",
    "print(cleaned_content)"
   ]
  },
  {
   "cell_type": "code",
   "execution_count": 14,
   "id": "eaef392f",
   "metadata": {},
   "outputs": [],
   "source": [
    "import pyperclip"
   ]
  },
  {
   "cell_type": "code",
   "execution_count": 15,
   "id": "96b828ea",
   "metadata": {},
   "outputs": [],
   "source": [
    "pyperclip.copy(email_batches[11][\"batch\"][i])"
   ]
  },
  {
   "cell_type": "code",
   "execution_count": 18,
   "id": "849f3125",
   "metadata": {},
   "outputs": [],
   "source": [
    "cleaned_content = [\n",
    "    {\n",
    "        \"type\": \"received\",\n",
    "        \"subject\": \"Monthly Glow Up: Organize your ideas in just 5 minutes\",\n",
    "        \"from\": \"marketing@engage.canva.com\",\n",
    "        \"to\": \"matt@bluewatermarketing.com\",\n",
    "        \"date\": \"2025-05-08T15:06:11.000Z\",\n",
    "        \"content\": \"Get inspired by real people using Canva at work\\nCanva\\n[\\nDesign with Canva\\n[\\n[\\n[\\nMonthlyGlowUp\\nHow Erin transforms ideas into organized plans\\n[\\nThis month, let Erin show you how to go from vision to execution in less than 5\\nminutes. Check out our Top 4 AI Hacks\\n[\\nand watch how she transforms notes from a brainstorming session into an\\norganized action plan with just a few clicks.\\nWatch the video\\n[\\n[\\nHOW SHE DOES IT (AND HOW YOU CAN TOO)\\n[\\n[\\nSORT NOTES WITH ONE CLICK\\nOrganize sticky notes by name, topic, color, or reactions for instant clarity\\n[\\nSUMMARIZE MESSY BRAINSTORMS\\nQuickly identify key points in your whiteboard with Magic Write\\n[\\nCONDENSE IDEAS INTO A DOC\\nUse Magic Switch to turn your whiteboard into a rollout plan in seconds\\nTry it now\\n[\\nYou are receiving this email because you signed up to Canva.\\nGet Canva for:\\niPhone\\n[\\niPad\\n[\\nAndroid\\n[\\nMac\\n[\\nWindows\\n[\\nDownload the Canva app\\napp store\\n[\\ngoogle play\\n[\\nThis advertisement is made for you withlove\\n[\\nCanva\\nCanva Pty Ltd, 110 Kippax St, NSW 2010, Australia. ABN 80 158 929 938\\nIf you need assistance, get in touch with us via our Help Center\\n[\\nVisit canva.com\\n[\\nUnsubscribe\\n[\\nMessage Preferences\\n[\\nfacebook\\n[\\nx\\n[\\npinterest\\n[\\ninstagram\\n[\\n[\"\n",
    "    }\n",
    "]"
   ]
  },
  {
   "cell_type": "code",
   "execution_count": 20,
   "id": "29098ce4",
   "metadata": {},
   "outputs": [
    {
     "name": "stdout",
     "output_type": "stream",
     "text": [
      "Get inspired by real people using Canva at work\n",
      "Canva\n",
      "[\n",
      "Design with Canva\n",
      "[\n",
      "[\n",
      "[\n",
      "MonthlyGlowUp\n",
      "How Erin transforms ideas into organized plans\n",
      "[\n",
      "This month, let Erin show you how to go from vision to execution in less than 5\n",
      "minutes. Check out our Top 4 AI Hacks\n",
      "[\n",
      "and watch how she transforms notes from a brainstorming session into an\n",
      "organized action plan with just a few clicks.\n",
      "Watch the video\n",
      "[\n",
      "[\n",
      "HOW SHE DOES IT (AND HOW YOU CAN TOO)\n",
      "[\n",
      "[\n",
      "SORT NOTES WITH ONE CLICK\n",
      "Organize sticky notes by name, topic, color, or reactions for instant clarity\n",
      "[\n",
      "SUMMARIZE MESSY BRAINSTORMS\n",
      "Quickly identify key points in your whiteboard with Magic Write\n",
      "[\n",
      "CONDENSE IDEAS INTO A DOC\n",
      "Use Magic Switch to turn your whiteboard into a rollout plan in seconds\n",
      "Try it now\n",
      "[\n",
      "You are receiving this email because you signed up to Canva.\n",
      "Get Canva for:\n",
      "iPhone\n",
      "[\n",
      "iPad\n",
      "[\n",
      "Android\n",
      "[\n",
      "Mac\n",
      "[\n",
      "Windows\n",
      "[\n",
      "Download the Canva app\n",
      "app store\n",
      "[\n",
      "google play\n",
      "[\n",
      "This advertisement is made for you withlove\n",
      "[\n",
      "Canva\n",
      "Canva Pty Ltd, 110 Kippax St, NSW 2010, Australia. ABN 80 158 929 938\n",
      "If you need assistance, get in touch with us via our Help Center\n",
      "[\n",
      "Visit canva.com\n",
      "[\n",
      "Unsubscribe\n",
      "[\n",
      "Message Preferences\n",
      "[\n",
      "facebook\n",
      "[\n",
      "x\n",
      "[\n",
      "pinterest\n",
      "[\n",
      "instagram\n",
      "[\n",
      "[\n"
     ]
    }
   ],
   "source": [
    "print(cleaned_content[0][\"content\"])"
   ]
  },
  {
   "cell_type": "code",
   "execution_count": 26,
   "id": "85ecbd37",
   "metadata": {},
   "outputs": [],
   "source": [
    "received_emails = json.load(open(\"../artifacts/received_emails2.json\"))"
   ]
  },
  {
   "cell_type": "code",
   "execution_count": 41,
   "id": "07aef48e",
   "metadata": {},
   "outputs": [
    {
     "name": "stdout",
     "output_type": "stream",
     "text": [
      "44\n"
     ]
    }
   ],
   "source": [
    "for i, email in enumerate(received_emails):\n",
    "    if email[\"subject\"] == \"Red Rooster Coffee, your performance for April 2025\":\n",
    "        print(i)\n",
    "        break"
   ]
  },
  {
   "cell_type": "code",
   "execution_count": 43,
   "id": "a9205daf",
   "metadata": {},
   "outputs": [
    {
     "data": {
      "text/plain": [
       "{'id': '196b0a3b9709100c',\n",
       " 'threadId': '196b0a3b9709100c',\n",
       " 'labelIds': ['Label_7954421186598713333', 'CATEGORY_UPDATES', 'INBOX'],\n",
       " 'sizeEstimate': 87006,\n",
       " 'headers': {'delivered-to': 'Delivered-To: matt@bluewatermarketing.com',\n",
       "  'received': 'Received: from mail-sor-f69.google.com (mail-sor-f69.google.com. [209.85.220.69])\\r\\n        by mx.google.com with SMTPS id 5614622812f47-403484c7222sor1629207b6e.15.2025.05.08.09.04.01\\r\\n        for <matt@bluewatermarketing.com>\\r\\n        (Google Transport Security);\\r\\n        Thu, 08 May 2025 09:04:01 -0700 (PDT)',\n",
       "  'x-received': 'X-Received: by 2002:a05:6214:f28:b0:6e5:bc9:95f8 with SMTP id\\r\\n 6a1803df08f44-6f542a1988bmr135648086d6.17.1746720229952; Thu, 08 May 2025\\r\\n 09:03:49 -0700 (PDT)',\n",
       "  'arc-seal': 'ARC-Seal: i=1; a=rsa-sha256; t=1746720241; cv=none;\\r\\n        d=google.com; s=arc-20240605;\\r\\n        b=EXDoVaYq1FKRwUvEuT7IpJ1fx7M0RN+3UNmjYwwULEvffnL4GKrS0UcMsFBj0qOMev\\r\\n         3LuWsAkKs+r2hiNU3YGV7sradhKbZz/DJyQFv8rLufYNyZ4iU2v/74Ybxcqkq1CF11mH\\r\\n         WH8s40aVLwaDYQOw5dihw3rxAh/vrPbpxu85COcfqjUFuYc7V7LzVfRxv2PWCnkvdSgu\\r\\n         3bzVu796bqylRWRU+dbGr71b2cxvA53aai+h4kR/hVYbA768XMqxUanFW1gR9lxJSFUD\\r\\n         Lv46XUPHhKenBhWoeHG4wZu5Y4ZoOGnkoFXHVJlbKuuRT3kURCCWQ7QVv+jlrtmp2hi3\\r\\n         SqdQ==',\n",
       "  'arc-message-signature': 'ARC-Message-Signature: i=1; a=rsa-sha256; c=relaxed/relaxed; d=google.com; s=arc-20240605;\\r\\n        h=to:from:subject:message-id:list-id:feedback-id:precedence\\r\\n         :list-unsubscribe:list-unsubscribe-post:reply-to:date:mime-version\\r\\n         :dkim-signature;\\r\\n        bh=pl/ERDOzA5+R+mnoSS4IdxQTnx9Vi9A+l48uhlFMdww=;\\r\\n        fh=ge/EUo3h4wSkf9jVt18W//Tpj6CX53/TNvoe5AwdUHA=;\\r\\n        b=lW4TpnsKWpZ+zSIzsGfX+HUbWvDknj2LxJ8TPdFFnxNS0UG/xGY3e2+5xIPDEpzwC6\\r\\n         X0qz4QeqbQvkvoNv5nJwjStjJBgBAoJkI+x5zaYUzw6tEZVVLZ2gbgCIv9499SlG7Mkb\\r\\n         3rWd8sQbjAMnhvGLSIFvj2tFvhE13epcDnnmyhG0TSALgCczx9mrmhhgOFELu0imSbsf\\r\\n         BM0gWkfSAtM72MU8YU8SLgSIavKj4blElQFc71ebP/sJBDgqyHfRZNKxmWH2ZlmZGwm4\\r\\n         qU7UAaqG4iDGzoJ6Z2VMupNmfnJzxs+O7rMs5Kkbs3veItg0+Gq9d6Z+VkbgQCBMSsrm\\r\\n         LNew==;\\r\\n        dara=google.com',\n",
       "  'arc-authentication-results': 'ARC-Authentication-Results: i=1; mx.google.com;\\r\\n       dkim=pass header.i=@google.com header.s=20230601 header.b=aJ6n+0YG;\\r\\n       spf=pass (google.com: domain of 35ducabikaewu22uzspo6s-125s3zcu22uzs.q20@scoutcamp.bounces.google.com designates 209.85.220.69 as permitted sender) smtp.mailfrom=35dUcaBIKAEwu22uzspo6s-125s3zCu22uzs.q20@scoutcamp.bounces.google.com;\\r\\n       dmarc=pass (p=REJECT sp=REJECT dis=NONE) header.from=google.com;\\r\\n       dara=pass header.i=@bluewatermarketing.com',\n",
       "  'return-path': 'Return-Path: <35dUcaBIKAEwu22uzspo6s-125s3zCu22uzs.q20@scoutcamp.bounces.google.com>',\n",
       "  'received-spf': 'Received-SPF: pass (google.com: domain of 35ducabikaewu22uzspo6s-125s3zcu22uzs.q20@scoutcamp.bounces.google.com designates 209.85.220.69 as permitted sender) client-ip=209.85.220.69;',\n",
       "  'authentication-results': 'Authentication-Results: mx.google.com;\\r\\n       dkim=pass header.i=@google.com header.s=20230601 header.b=aJ6n+0YG;\\r\\n       spf=pass (google.com: domain of 35ducabikaewu22uzspo6s-125s3zcu22uzs.q20@scoutcamp.bounces.google.com designates 209.85.220.69 as permitted sender) smtp.mailfrom=35dUcaBIKAEwu22uzspo6s-125s3zCu22uzs.q20@scoutcamp.bounces.google.com;\\r\\n       dmarc=pass (p=REJECT sp=REJECT dis=NONE) header.from=google.com;\\r\\n       dara=pass header.i=@bluewatermarketing.com',\n",
       "  'dkim-signature': 'DKIM-Signature: v=1; a=rsa-sha256; c=relaxed/relaxed;\\r\\n        d=google.com; s=20230601; t=1746720241; x=1747325041; darn=bluewatermarketing.com;\\r\\n        h=to:from:subject:message-id:list-id:feedback-id:precedence\\r\\n         :list-unsubscribe:list-unsubscribe-post:reply-to:date:mime-version\\r\\n         :from:to:cc:subject:date:message-id:reply-to;\\r\\n        bh=pl/ERDOzA5+R+mnoSS4IdxQTnx9Vi9A+l48uhlFMdww=;\\r\\n        b=aJ6n+0YGUwjo1Gjc2eriIqRJlqZIMfn79d51xWGGGy5OasWAHq2RHuREnZ8pOgPuxZ\\r\\n         rofuJwGs06StHhmWhLiHGvqCgFbVjiCHWWxQnvIJxFr/FpmBoGB/Og3lXN+eSQIRmpaZ\\r\\n         HxkSeOVN8xhieiaXc6ekjwcPjgi+BVrIsPta6/UbQkKwU8wQ8rInFJFfmE22AdZeW9/G\\r\\n         +DoZP0gvQgXaoBDUrk0g8gAqaTwyBsG/BaZ701JcaRx6h4v7XuVT8jGhAt1A7mQYG7aj\\r\\n         ORsjX5nMTtR2ga3zAP36RuuSixa9DvzI0oc1dunpkIDbFIbbLNnRMSAyBarX0RZLbUJT\\r\\n         XZ5g==',\n",
       "  'x-google-dkim-signature': 'X-Google-DKIM-Signature: v=1; a=rsa-sha256; c=relaxed/relaxed;\\r\\n        d=1e100.net; s=20230601; t=1746720241; x=1747325041;\\r\\n        h=to:from:subject:message-id:list-id:feedback-id:precedence\\r\\n         :list-unsubscribe:list-unsubscribe-post:reply-to:date:mime-version\\r\\n         :x-gm-message-state:from:to:cc:subject:date:message-id:reply-to;\\r\\n        bh=pl/ERDOzA5+R+mnoSS4IdxQTnx9Vi9A+l48uhlFMdww=;\\r\\n        b=YPiwgcqATD8toazTSo9hajUya0nwHA5ZrRd2e39eRmWZB8sFgutZRuN4Z/euHfKWsP\\r\\n         Mg+jzaNSIRRkOwdYbhZNp9WGWOtz2cXx0jtx+3iGxLkaC+eqkrhafF439zAPmeVikl2Q\\r\\n         b1k1q0sIX7jHB4D5ly58q6riQMq5210rS9/PTaKSM2qUmXVX/EAXqHffzI/q9RpA5aV4\\r\\n         XF9VSxLGjFFw1reyQ8f6jSnjs/4P4YrmFv6Uxhkm+t/9Ivt6qIYa6DWOJ9G6DC4F05IG\\r\\n         5XFRxScr8IWkSPVdMX20taZ57t16GEwFSnXAXh4gh5fbeTyxV1Qiv7HryZj5bD/xGDdo\\r\\n         jCYA==',\n",
       "  'x-gm-message-state': 'X-Gm-Message-State: AOJu0YwLivwXy0n5b5gv3uDYOKblIDnTgIwscZ+ySzxwIJ+E0iGbWdJM\\r\\n\\tgGos4KKk6YXsvXTlN/1JUiR8/+6BuSsKzhbZ+Km0jRqAPhbx89Py9//7',\n",
       "  'x-google-smtp-source': 'X-Google-Smtp-Source: AGHT+IFE/aK926IDVxHCoqKLIMMyFjuFep9s+Fp93AeajVIaLaoqLnKYSrG5PZhaZM8In73IZw6XP6s=',\n",
       "  'mime-version': 'MIME-Version: 1.0',\n",
       "  'date': 'Date: Thu, 08 May 2025 09:03:49 -0700',\n",
       "  'reply-to': 'Reply-To: Google Merchant Center <googlebase-noreply@google.com>',\n",
       "  'x-google-id': 'X-Google-Id: 4259087',\n",
       "  'list-unsubscribe-post': 'List-Unsubscribe-Post: List-Unsubscribe=One-Click',\n",
       "  'list-unsubscribe': 'List-Unsubscribe: <https://myaccount.google.com/communication-preferences/auto/unsubscribe/gt/ANiao5qPDjl1k_tk7Moz24TbPYYlag8GOVD9RD_WZKMASyNDBPQXNom6SDhNLpLQoFlPVCL-r9VpkAqDTfXeKMr9u3lWLrNIXynTZdWvRjw4OcClXCFIEMeyek2-YUMOhGwIs0V8VV6OJQsks8yN4FAEhyyfADfaRUw3WuSeXxB1Kgmzyn16vBkGl2PPONKzEeTTSmmKBr5Mw9Sj2UVcXz1hC6zcrFobIfxaTh7E9nB-2ANjoWLMj5T77nrwB5lor34n_MCD0Xsjneepcfi52QaP0sWy4WmIbWII6fP1jxmxZZ0Gj1U0bR4gckBP?utm_source=gm_header&utm_medium=email>',\n",
       "  'precedence': 'Precedence: bulk',\n",
       "  'feedback-id': 'Feedback-ID: P-44-3012:C20268176:M110701438-en-US:gamma',\n",
       "  'list-id': 'List-Id: <4720214faf5132b88442715d3e3b2c26344a0ce0.google.com>',\n",
       "  'x-notifications': 'X-Notifications: 6d9988720f4a0000',\n",
       "  'x-notifications-bounce-info': 'X-Notifications-Bounce-Info: AXXYx-KOaQZ-UjMS0HG2apEweE9Z2O29QFHh_4JptcqPrCFvaeUBxBl__JnPMfZT3he70uxRYB9TiBbqHCeDqXjfk1_lAGlWpYaPbQujJHl4bqiGGjf5Be0F3NwDao4uIU_kNmcWc3mDzbLn8SKCZwyjYUrxehfYvVJedd5NjBkqAnYaDpXMdWHrJ-AlkQJFyipE0o44rceSkq23FE_VbCmG2286nQeaBYQVk7ebxFt5k7dZfEQNKgGJPi7-2w5vl-W1BoAQxNHuFeQzNn2_4Umas9PPyw0OgemkVg6tJmayoOHnxh5rH4R5Zljnju9T4bj2c1bGCpix4FnfTH3h-K-AvquNP3wKGFXMDYaxUd-I-jNgO1LAoMf4jRq9qfwqhY4MJHTciIvcL87V2szvwDmlJww0pLJ8ZYiMyg-fBODZQ0egABT-CsDSxi1UmUlT8D3KZL_ZHYG8eb8oUlXYPQEuH-MEM8vyPOqjZpkf-cLJGyCoGIhg2FEjxb7bB8N_wNKwKz4qpHJQPcKk0XsnAa9_1liKlOP2I9tEbVKjg0ekyou3V1T_HkKbkOPDvwpVbiKZ-UE59BZF7J7TPdq9zdMvqw3K2mxqYxKjYdt0yRFZRSIyibrLKbhx0HL2T-UXwhCzIXVlYwELNg0cC7RcOhr9DrlpDYUFOqEoIoOp7ukHpqkNjAwNjA0MDQxNTM1NTk2OTMzMg',\n",
       "  'message-id': 'Message-ID: <e7b678796975492aefabf2359ecaf2a9fa419828-20268176-111454362@google.com>',\n",
       "  'subject': 'Subject: Red Rooster Coffee, your performance for April 2025',\n",
       "  'from': 'From: Google Merchant Center <googlebase-noreply@google.com>',\n",
       "  'to': 'To: matt@bluewatermarketing.com',\n",
       "  'content-type': 'Content-Type: multipart/alternative; boundary=\"000000000000d412a10634a1fe3a\"'},\n",
       " 'html': '\\n\\n\\n\\n\\n\\n\\n\\n\\n\\n<!doctype html public \"- / / w3c / / dtd xhtml 1.0 transitional / / en\" \"https: / / www.w3.org / tr / xhtml1 / dtd / xhtml1-transitional.dtd\">\\n<html xmlns=https://www.w3.org/1999/xhtml lang=en>\\n<head>\\n<title>Monthly performance report</title>\\n<meta http-equiv=Content-Type content=\"text/html; charset=utf-8\">\\n<!--[if !mso]><!-->\\n<meta http-equiv=X-UA-Compatible content=IE=edge>\\n<!--<![endif]-->\\n<meta name=viewport content=\"width=device-width, initial-scale=1.0\">\\n<meta name=robots content=\"no index\">\\n<!--[if mso | ie]>\\n<style>\\n.out_primary_cta{\\nborder-top: 13px solid #1A73E8 !important;\\nborder-right: 24px solid #1A73E8 !important;\\nborder-bottom: 11px solid #1A73E8 !important;\\nborder-left: 24px solid #1A73E8 !important;\\npadding: 0px !important;\\ncolor: #ffffff !important;\\n}\\n.out_secondary_cta{\\nborder-top: 13px solid #FFFFFF !important;\\nborder-right: 24px solid #FFFFFF !important;\\nborder-bottom: 11px solid #FFFFFF !important;\\nborder-left: 24px solid #FFFFFF !important;\\npadding: 0px !important;\\ncolor: #1A73E8 !important;\\n}\\n.out_pdt_17{padding-top: 17px !important;}\\n.rec-outlook-contentImpactMessage{line-height: 16px !important}\\n.rec-outlook-contentTitle{line-height: 26px !important}\\n.secondary_cta_other{height: 40px !important}\\n</style>\\n<![endif]-->\\n<style>\\nbody {\\nfont-family: Google Sans Text, Roboto, Helvetica Neue, Helvetica, Arial, sans-serif;\\nfont-size: 12px;\\ncolor: #000000;\\n-webkit-text-size-adjust: none !important;\\n-webkit-font-smoothing: antialiased !important;\\n-ms-text-size-adjust: none !important;\\n}\\ntable, tr, td {\\nmso-table-lspace: 0pt;\\nmso-table-rspace: 0pt;\\n}\\n.appleLinks a {\\ncolor: #000000 !important;\\ntext-decoration: none !important;\\n}\\nstrong {\\nfont-weight: bold !important;\\n}\\nem {\\nfont-style: italic !important;\\n}\\n.yshortcuts a span {\\ncolor: inherit !important;\\nborder-bottom: none !important;\\n}\\nhtml {\\n-webkit-text-size-adjust: none;\\n-ms-text-size-adjust: 100%;\\n}\\n.ReadMsgBody {\\nwidth: 100%;\\n}\\n.ExternalClass {\\nwidth: 100%;\\n}\\n.ExternalClass * {\\nline-height: 100%\\n}\\ntd {\\n-webkit-text-size-adjust: none;\\n}\\na[href^=tel] {\\ncolor: inherit;\\ntext-decoration: none;\\n}\\n.mob-hide {\\ndisplay: none !important;\\n}\\ndiv, p, a, li, td {\\n-webkit-text-size-adjust: none;\\n}\\ntd {\\ntext-decoration: none !important;\\n}\\na[x-apple-data-detectors] {\\ncolor: inherit !important;\\ntext-decoration: none !important;\\nfont-size: inherit !important;\\nfont-family: inherit !important;\\nfont-weight: inherit !important;\\nline-height: inherit !important;\\n}\\n.primary_cta{\\nbackground-color: #1A73E8;\\npadding: 13px 24px 11px;\\ncolor: #ffffff !important;\\n}\\n.primary_cta_other{\\nbackground-color: #1A73E8;\\ncolor: #ffffff;\\n}\\n.secondary_cta{\\nbackground-color: #FFFFFF;\\npadding: 13px 24px 11px;\\ncolor: #1A73E8 !important;\\n}\\n.secondary_cta_other{\\nbackground-color: #FFFFFF;\\ncolor: #1A73E8;\\nborder: 1px solid #1A73E8 !important;\\n}\\n@media only screen and (max-width: 950px) {\\n.width480{ width: 480px !important }\\n.width420{ width: 400px !important }\\n.dblock{ display: block !important; }\\n.dnone{ display: none !important; }\\n.tleft{ text-align: left !important; }\\n.width2{width: 2px !important}\\n.width72{width: 60px !important}\\n.width48{width: 48px !important}\\n.ht16{height: 16px !important; width: 1px !important}\\n.tcenter{ text-align: center !important; }\\n.mauto{margin: 0 auto !important;}\\n.ht26{height: 26px !important}\\n.width272{width: 272px !important}\\n.ht62{height: 62px !important}\\n.width100{width: 100% !important;}\\n.pd0{padding: 0px !important;}\\n.logo_pd{padding: 16px 40px !important; border-bottom: 1px solid #DADCE0;}\\n.mc_pd{padding: 9px 40px !important;}\\n.ht9{height: 9px !important;}\\n.footer_pd{padding: 0px 40px !important;}\\n.mc_fs14{font-size: 14px !important; line-height: 21px !important;}\\n.fs10ln15{font-size: 10px !important; line-height: 15px !important;}\\n.fs20ln30{font-size: 18px !important; line-height: 27px !important;}\\n.ht21{height: 21px !important}\\n.ht6{height: 6px !important}\\n.pd22{padding: 22px 0 29px 0 !important;}\\n.pdl5{padding-left: 5px !important}\\n.w328{width: 325px !important;}\\n.w65{width: 65px !important;}\\n.w78{width: 78px !important;}\\n.wd328{width: 328px !important;}\\n.wd400{width: 400px !important}\\n.wd100{width: 100px !important}\\n.wd65{width: 65px !important;}\\n.matric_fs24{font-size: 24px !important; line-height: 36px !important;}\\n}\\n.reco-contentPanel, .reco-imagePanel, .reco--mobile-only {}\\n@media all and (max-width: 950px) {\\n.reco-contentPanel {\\nwidth: 400px;\\n}\\n.reco-contentPanel, .reco-imagePanel, .reco--mobile-stack {\\ndisplay: block !important;\\n}\\n.reco, .reco-container, .reco--can-shrink {\\nwidth: 400px;\\n}\\n.reco--desktop-only {\\ndisplay: none !important;\\n}\\n.reco--mobile-only {\\ndisplay: block !important;\\n}\\n}\\n@media all and (max-width: 950px) {\\n.reco-contentDescription, .reco-imagePanel, .reco-ctaContainer, .reco-contentImpactMessage, .reco-contentTitle { padding-right: 0px !important; }\\n.reco-contentImpact{padding-top: 20px !important;}\\n.reco-contentTitle{ padding-top: 5px !important; }\\n.reco-icon{ padding-top: 5px !important; }\\n.reco-ctaContainer{padding-bottom: 17px !important;}\\n}\\n</style>\\n</head>\\n<body style=\"margin: 0 auto; padding:0px;\" bgcolor=#ffffff>\\n<!-- Goto Action Button start -->\\n<div itemscope=\"\" itemtype=https://schema.org/EmailMessage>\\n<div itemprop=action itemscope=\"\" itemtype=https://schema.org/ViewAction>\\n<link itemprop=url href=https://notifications.google.com/g/p/ANiao5qvhnx2O5E7xXL5Ob5hVMPbJAaLOJt-iDciwfq5MEmVKkXCIYaAAR2u0f6-Fwz8bBzcoDlIj-cEMK7Qs52s31iQU9qflnVEc9z7l8ozpNjkFRXa908t34aDbJpngzQ7Uc0hXHU6U3nywPxj6rAVkzYs1HrDToZgCnRCpzqHnjt-ZQVQ9BS2VgKkS34Qu0I1UMcTXdB-eyAhZ8GiFFVeyv9q-wgKRo-hgnZ9AQnzcQdoJ20pR1dKnU9wP18n-QDKwF-_JY6RI949NnCOGRVtd9TLPmQs-Lcw_fxIs2U7Tyo0h9ky0NPiSaqRKkGVmA>\\n<meta itemprop=name content=\"Manage campaigns\">\\n</div>\\n<meta itemprop=description content=\"Manage campaigns\">\\n</div>\\n<!-- Goto Action Button End -->\\n<!--[if !mso]><!-->\\n<p aria-hidden=true style=\"padding-top:0; font-size:0px; line-height:0px; margin:0px; display: none;\" align=center>See your performance on Google and ways to improve\\u200d\\xa0\\u200d\\xa0\\u200d\\xa0\\u200d\\xa0\\u200d\\xa0\\u200d\\xa0\\u200d\\xa0\\u200d\\xa0\\u200d\\xa0\\u200d\\xa0\\u200d\\xa0\\u200d\\xa0\\u200d\\xa0\\u200d\\xa0\\u200d\\xa0\\u200d\\xa0\\u200d\\xa0\\u200d\\xa0\\u200d\\xa0\\u200d\\xa0\\u200d\\xa0\\u200d\\xa0\\u200d\\xa0\\u200d\\xa0\\u200d\\xa0\\u200d\\xa0\\u200d\\xa0\\u200d\\xa0\\u200d\\xa0\\u200d\\xa0\\u200d\\xa0\\u200d\\xa0\\u200d\\xa0\\u200d\\xa0\\u200d\\xa0\\u200d\\xa0\\u200d\\xa0\\u200d\\xa0\\u200d\\xa0\\u200d\\xa0\\u200d\\xa0\\u200d\\xa0\\u200d\\xa0\\u200d\\xa0\\u200d\\xa0\\u200d\\xa0\\u200d\\xa0\\u200d\\xa0\\u200d\\xa0\\u200d\\xa0\\u200d\\xa0\\u200d\\xa0\\u200d\\xa0\\u200d\\xa0\\u200d\\xa0\\u200d\\xa0\\u200d\\xa0\\u200d\\xa0\\u200d\\xa0\\u200d\\xa0\\u200d\\xa0\\u200d\\xa0\\u200d\\xa0\\u200d\\xa0\\u200d\\xa0\\u200d\\xa0\\u200d\\xa0\\u200d\\xa0\\u200d\\xa0\\u200d\\xa0\\u200d\\xa0\\u200d\\xa0\\u200d\\xa0\\u200d\\xa0\\u200d\\xa0\\u200d\\xa0\\u200d\\xa0\\u200d\\xa0\\u200d\\xa0\\u200d\\xa0\\u200d\\xa0\\u200d\\xa0\\u200d\\xa0\\u200d\\xa0\\u200d\\xa0\\u200d\\xa0\\u200d\\xa0\\u200d\\xa0\\u200d\\xa0\\u200d\\xa0\\u200d\\xa0\\u200d\\xa0\\u200d\\xa0\\u200d\\xa0\\u200d\\xa0\\u200d\\xa0\\u200d\\xa0\\u200d\\xa0\\u200d\\xa0\\u200d\\xa0\\u200d\\xa0\\u200d\\xa0\\u200d\\xa0\\u200d\\xa0\\u200d\\xa0\\u200d\\xa0\\u200d\\xa0\\u200d\\xa0\\u200d\\xa0\\u200d\\xa0\\u200d\\xa0\\u200d\\xa0\\u200d\\xa0\\u200d\\xa0\\u200d\\xa0\\u200d\\xa0\\u200d\\xa0\\u200d\\xa0\\u200d\\xa0\\u200d\\xa0\\u200d\\xa0\\u200d\\xa0\\u200d\\xa0\\u200d\\xa0\\u200d\\xa0\\u200d\\xa0\\u200d\\xa0\\u200d\\xa0\\u200d\\xa0\\u200d\\xa0\\u200d\\xa0\\u200d\\xa0\\u200d\\xa0\\u200d\\xa0\\u200d\\xa0\\u200d\\xa0\\u200d\\xa0\\u200d\\xa0\\u200d\\xa0\\u200d\\xa0\\u200d\\xa0\\u200d\\xa0\\u200d\\xa0\\u200d\\xa0\\u200d\\xa0\\u200d\\xa0\\u200d\\xa0\\u200d\\xa0\\u200d\\xa0\\u200d\\xa0\\u200d\\xa0\\u200d\\xa0\\u200d\\xa0\\u200d\\xa0\\u200d\\xa0\\u200d\\xa0\\u200d\\xa0\\u200d\\xa0\\u200d\\xa0\\u200d\\xa0\\u200d\\xa0\\u200d\\xa0\\u200d\\xa0\\u200d\\xa0\\u200d\\xa0\\u200d\\xa0\\u200d\\xa0\\u200d\\xa0\\u200d\\xa0\\u200d\\xa0\\u200d\\xa0\\u200d\\xa0\\u200d\\xa0\\u200d\\xa0\\u200d\\xa0\\u200d\\xa0\\u200d\\xa0\\u200d\\xa0\\u200d\\xa0\\u200d\\xa0\\u200d\\xa0\\u200d\\xa0\\u200d\\xa0\\u200d\\xa0\\u200d\\xa0\\u200d\\xa0\\u200d\\xa0\\u200d\\xa0\\u200d\\xa0\\u200d\\xa0\\u200d\\xa0\\u200d\\xa0\\u200d\\xa0\\u200d\\xa0\\u200d\\xa0\\u200d\\xa0\\u200d\\xa0\\u200d\\xa0\\u200d\\xa0\\u200d\\xa0\\u200d\\xa0\\u200d\\xa0\\u200d\\xa0\\u200d\\xa0\\u200d\\xa0\\u200d\\xa0\\u200d\\xa0\\u200d\\xa0\\u200d\\xa0\\u200d\\xa0\\u200d\\xa0\\u200d\\xa0\\u200d\\xa0\\u200d\\xa0\\u200d\\xa0\\u200d\\xa0\\u200d\\xa0\\u200d\\xa0\\u200d\\xa0\\u200d\\xa0\\u200d\\xa0\\u200d\\xa0\\u200d\\xa0\\u200d\\xa0\\u200d\\xa0\\u200d\\xa0\\u200d\\xa0\\u200d\\xa0\\u200d\\xa0</p>\\n<!--<![endif]-->\\n<table role=presentation cellpadding=0 cellspacing=0 border=0 align=center width=100%>\\n<tbody>\\n<tr>\\n<td align=center valign=top>\\n<table role=presentation cellpadding=0 cellspacing=0 border=0 align=center width=800 class=width480>\\n<tbody>\\n<tr>\\n<td align=center valign=top>\\n<table role=presentation cellpadding=0 cellspacing=0 border=0 align=center width=100%>\\n<tbody>\\n<tr>\\n<td align=center valign=top style=\"padding-top:27px; padding-bottom:27px; padding-left: 50px; padding-right: 50px; border-bottom: 1px solid #DADCE0;\" class=pd0>\\n<table role=presentation cellpadding=0 cellspacing=0 align=center width=100%>\\n<tbody>\\n<tr>\\n<td align=left valign=middle class=\"dblock logo_pd\">\\n<table role=presentation cellpadding=0 cellspacing=0 width=255>\\n<tbody>\\n<!-- MC Logo Start -->\\n<tr>\\n<td aria-hidden=true align=left valign=top>\\n<a href=# style=\"pointer-events: none; cursor: default; text-decoration:none\">\\n<img src=https://gstatic.com/growthlab/api/h67S2tWpzbsjLVgvd8dv0kVelpK37srHXKjuL9JL.png width=228 style=display:block;>\\n</a>\\n</td>\\n</tr>\\n<!-- MC Logo Start -->\\n</tbody>\\n</table>\\n</td>\\n<td align=left valign=middle class=dnone>\\n<table role=presentation cellpadding=0 cellspacing=0 align=left width=10>\\n<tbody>\\n<tr>\\n<td align=left valign=middle aria-hidden=true>\\n<img src=https://www.gstatic.com/gumdrop/files/spacer-11.gif width=10 height=1 style=\"display: block;\">\\n</td>\\n</tr>\\n</tbody>\\n</table>\\n</td>\\n<td align=right valign=middle class=\"dblock tleft mc_pd\">\\n<table role=presentation cellpadding=0 cellspacing=0 width=100%>\\n<tbody>\\n<tr>\\n<td align=right valign=top class=tleft>\\n<table role=presentation cellpadding=0 cellspacing=0 class=width100>\\n<tbody>\\n<!-- MC Id Content Start -->\\n<tr>\\n<td align=left valign=middle style=\"font-size: 12px; line-height: 18px; font-weight: 400; color: #5f6368; font-family: Google Sans, Google Sans Text, Roboto, Helvetica Neue, Helvetica, Arial, sans-serif; \" class=mc_fs14>\\nYour customer ID: <a href=# target=_blank style=\"color: #5F6368; text-decoration: none;\">603232330</a>\\n</td>\\n<td align=left valign=middle aria-hidden=true>\\n<img src=https://www.gstatic.com/gumdrop/files/spacer-11.gif width=5 height=1 style=\"display: block;\">\\n</td>\\n<td align=right valign=middle aria-hidden=true>\\n<img src=https://gstatic.com/growthlab/api/57t1a4lX12335lghPvQ24nwqmWMpV6wpcigusm43.png width=20 style=\"display: block;\">\\n</td>\\n</tr>\\n<!-- MC Id Content Start -->\\n</tbody>\\n</table>\\n</td>\\n</tr>\\n</tbody>\\n</table>\\n</td>\\n</tr>\\n</tbody>\\n</table>\\n</td>\\n</tr>\\n<tr>\\n<td align=center valign=middle>\\n<table role=presentation cellpadding=0 cellspacing=0 border=0 align=center>\\n<tbody>\\n<tr>\\n<td align=center valign=middle aria-hidden=true>\\n<img src=https://www.gstatic.com/gumdrop/files/spacer-11.gif width=1 height=48 style=\"display: block;\">\\n</td>\\n</tr>\\n</tbody>\\n</table>\\n</td>\\n</tr>\\n<tr>\\n<td>\\n<table role=presentation cellpadding=0 cellspacing=0 border=0 align=center width=700 class=width420>\\n<tbody>\\n<tr>\\n<td align=left valign=middle>\\n<table role=presentation cellpadding=0 cellspacing=0 border=0 align=left>\\n<tbody>\\n<tr>\\n<td align=left valign=middle style=\"font-family: Google Sans, Google Sans Text, Roboto, Helvetica Neue, Helvetica, Arial, sans-serif; font-size: 32px; line-height: 40px; font-weight: 700; color: #202124;\">\\nYour business performance for April 2025\\n</td>\\n</tr>\\n</tbody>\\n</table>\\n</td>\\n</tr>\\n<tr>\\n<td align=center valign=middle>\\n<table role=presentation cellpadding=0 cellspacing=0 border=0 align=center>\\n<tbody>\\n<tr>\\n<td align=center valign=middle aria-hidden=true>\\n<img src=https://www.gstatic.com/gumdrop/files/spacer-11.gif width=1 height=10 style=\"display: block;\">\\n</td>\\n</tr>\\n</tbody>\\n</table>\\n</td>\\n</tr>\\n<tr>\\n<td align=center valign=middle>\\n<table role=presentation cellpadding=0 cellspacing=0 border=0 align=center>\\n<tbody>\\n<tr>\\n<td align=center valign=middle aria-hidden=true>\\n<img src=https://www.gstatic.com/gumdrop/files/spacer-11.gif width=1 height=30 style=\"display: block;\">\\n</td>\\n</tr>\\n</tbody>\\n</table>\\n</td>\\n</tr>\\n<tr>\\n<td align=left valign=middle>\\n<table role=presentation cellpadding=0 cellspacing=0 border=0 align=left>\\n<tbody>\\n<tr>\\n<td align=left valign=middle style=\"font-family: Google Sans, Google Sans Text, Roboto, Helvetica Neue, Helvetica, Arial, sans-serif; font-size: 18px; line-height: 27px; font-weight: 500; color: #202124;\">\\nHow your products performed (ads only)\\n</td>\\n</tr>\\n</tbody>\\n</table>\\n</td>\\n</tr>\\n<tr>\\n<td align=center valign=middle>\\n<table role=presentation cellpadding=0 cellspacing=0 border=0 align=center>\\n<tbody>\\n<tr>\\n<td align=center valign=middle aria-hidden=true>\\n<img src=https://www.gstatic.com/gumdrop/files/spacer-11.gif width=1 height=24 style=\"display: block;\">\\n</td>\\n</tr>\\n</tbody>\\n</table>\\n</td>\\n</tr>\\n<tr>\\n<td align=left valign=middle>\\n<table role=presentation cellpadding=0 cellspacing=0 border=0 align=left>\\n<tbody>\\n<tr>\\n<td align=left valign=top>\\n<table role=presentation cellpadding=0 cellspacing=0 border=0 align=left width=132>\\n<tbody>\\n<tr>\\n<td align=left valign=middle>\\n<tr>\\n<td align=left valign=top>\\n<table role=presentation cellpadding=0 cellspacing=0 border=0 align=left>\\n<tbody>\\n<tr>\\n<td align=left valign=middle style=\"font-family: Google Sans Text, Roboto, Helvetica Neue, Helvetica, Arial, sans-serif; font-size: 14px; line-height: 21px; letter-spacing: 0.25px; font-weight: 500; color: #5F6368;\">\\nClicks\\n</td>\\n</tr>\\n<tr>\\n<td align=left valign=middle style=\"font-family: Google Sans Text, Roboto, Helvetica Neue, Helvetica, Arial, sans-serif; font-size: 32px; line-height: 40px; font-weight: 400; color: #5F6368;\" class=pdt21_stat_1>\\n282\\n</td>\\n</tr>\\n<tr>\\n<td dir=ltr align=left valign=middle style=\"font-family: Google Sans Text, Roboto, Helvetica Neue, Helvetica, Arial, sans-serif; font-size: 14px; line-height: 21px; letter-spacing: 0.25px; font-weight: 500; color: #C5221F;\">\\n-51.3%*\\n</td>\\n</tr>\\n</tbody>\\n</table>\\n</td>\\n</tr>\\n</td>\\n</tr>\\n</tbody>\\n</table>\\n</td>\\n<td align=center valign=middle>\\n<table role=presentation cellpadding=0 cellspacing=0 border=0 align=center width=132 class=width2>\\n<tbody>\\n<tr>\\n<td align=center valign=middle aria-hidden=true>\\n<img src=https://www.gstatic.com/gumdrop/files/spacer-11.gif width=132 height=1 class=width2 style=\"display: block;\">\\n</td>\\n</tr>\\n</tbody>\\n</table>\\n</td>\\n<td align=left valign=top>\\n<table role=presentation cellpadding=0 cellspacing=0 border=0 align=left width=132>\\n<tbody>\\n<tr>\\n<td align=left valign=middle>\\n<tr>\\n<td align=left valign=top>\\n<table role=presentation cellpadding=0 cellspacing=0 border=0 align=left>\\n<tbody>\\n<tr>\\n<td align=left valign=middle style=\"font-family: Google Sans Text, Roboto, Helvetica Neue, Helvetica, Arial, sans-serif; font-size: 14px; line-height: 21px; letter-spacing: 0.25px; font-weight: 500; color: #5F6368;\">\\nImpressions\\n</td>\\n</tr>\\n<tr>\\n<td align=left valign=middle style=\"font-family: Google Sans Text, Roboto, Helvetica Neue, Helvetica, Arial, sans-serif; font-size: 32px; line-height: 40px; font-weight: 400; color: #5F6368;\" class=pdt21_stat_2>\\n62.62K\\n</td>\\n</tr>\\n<tr>\\n<td dir=ltr align=left valign=middle style=\"font-family: Google Sans Text, Roboto, Helvetica Neue, Helvetica, Arial, sans-serif; font-size: 14px; line-height: 21px; letter-spacing: 0.25px; font-weight: 500; color: #C5221F;\">\\n-45.5%*\\n</td>\\n</tr>\\n</tbody>\\n</table>\\n</td>\\n</tr>\\n</td>\\n</tr>\\n</tbody>\\n</table>\\n</td>\\n<td align=center valign=middle class=width2>\\n<table role=presentation cellpadding=0 cellspacing=0 border=0 align=center>\\n<tbody>\\n<tr>\\n<td align=center valign=middle aria-hidden=true>\\n<img src=https://www.gstatic.com/gumdrop/files/spacer-11.gif width=132 height=1 class=width2 style=\"display: block;\">\\n</td>\\n</tr>\\n</tbody>\\n</table>\\n</td>\\n<td align=left valign=top>\\n<table role=presentation cellpadding=0 cellspacing=0 border=0 align=left width=132>\\n<tbody>\\n<tr>\\n<td align=left valign=middle>\\n<tr>\\n<td align=left valign=top>\\n<table role=presentation cellpadding=0 cellspacing=0 border=0 align=left>\\n<tbody>\\n<tr>\\n<td align=left valign=middle style=\"font-family: Google Sans Text, Roboto, Helvetica Neue, Helvetica, Arial, sans-serif; font-size: 14px; line-height: 21px; letter-spacing: 0.25px; font-weight: 500; color: #5F6368;\">\\nCTR\\n</td>\\n</tr>\\n<tr>\\n<td dir=ltr align=left valign=middle style=\"font-family: Google Sans Text, Roboto, Helvetica Neue, Helvetica, Arial, sans-serif; font-size: 32px; line-height: 40px; font-weight: 400; color: #5F6368;\" class=pdt21_stat_3>\\n0.5%\\n</td>\\n</tr>\\n<tr>\\n<td dir=ltr align=left valign=middle style=\"font-family: Google Sans Text, Roboto, Helvetica Neue, Helvetica, Arial, sans-serif; font-size: 14px; line-height: 21px; letter-spacing: 0.25px; font-weight: 500; color: #C5221F;\">\\n-10.6%*\\n</td>\\n</tr>\\n</tbody>\\n</table>\\n</td>\\n</tr>\\n</td>\\n</tr>\\n</tbody>\\n</table>\\n</td>\\n</tr>\\n</tbody>\\n</table>\\n</td>\\n</tr>\\n<tr>\\n<td align=center valign=middle>\\n<table role=presentation cellpadding=0 cellspacing=0 border=0 align=center>\\n<tbody>\\n<tr>\\n<td align=center valign=middle aria-hidden=true>\\n<img src=https://www.gstatic.com/gumdrop/files/spacer-11.gif width=1 height=38 style=\"display: block;\">\\n</td>\\n</tr>\\n</tbody>\\n</table>\\n</td>\\n</tr>\\n<tr>\\n<td align=left valign=top>\\n<table role=presentation cellpadding=0 cellspacing=0 border=0 align=left class=cta_width_outlook>\\n<tbody>\\n<tr>\\n<td class=primary_cta_other align=center valign=top style=\"font-family: Google Sans, Google Sans Text, Roboto, Helvetica Neue, Helvetica, Arial, sans-serif; font-size: 16px; line-height: 24px;font-weight: 500; border-radius: 24px;letter-spacing: 0.25px;\">\\n<a class=\"out_primary_cta primary_cta\" href=https://notifications.google.com/g/p/ANiao5ol2xdJsClPqvt3ERdnzg7vQQ78CZbxHiItlTPQUq_OVvBkYbdXA8mk46BtRN-vcpvfUpy0nxeS7bwp-ZvrI-rDt_cTTQ_QRnL0H0uhawQGqTUD37MnsX0kFgemxwyMqGWU-JiDxArgBUzQm8I89IRZd_kXLU9ml_AcvCugQa-67lcWz0teZLq7ey0X5a_QENrc8_vEuRh7-X4vAfBpRMaowlhqM6bxUBv5SFhN4F0iOqkqn2CDgMto_gyMkCUZsd0MUCF-DbQW3BU7f1mJ2S0RV81YTw6ea5ZWMu_c7iFFIASbK2aqZv8JY6SIKA target=_blank style=\"text-decoration: none; border-radius: 24px;display: block;\">Manage campaigns</a>\\n</td>\\n</tr>\\n</tbody>\\n</table>\\n</td>\\n</tr>\\n<tr>\\n<td align=center valign=middle>\\n<table role=presentation cellpadding=0 cellspacing=0 border=0 align=center>\\n<tbody>\\n<tr>\\n<td align=center valign=middle aria-hidden=true>\\n<img src=https://www.gstatic.com/gumdrop/files/spacer-11.gif width=1 height=10 style=\"display: block;\">\\n</td>\\n</tr>\\n</tbody>\\n</table>\\n</td>\\n</tr>\\n<tr>\\n<td align=center valign=middle>\\n<table role=presentation cellpadding=0 cellspacing=0 border=0 align=center>\\n<tbody>\\n<tr>\\n<td align=center valign=middle aria-hidden=true>\\n<img src=https://www.gstatic.com/gumdrop/files/spacer-11.gif width=1 height=30 style=\"display: block;\">\\n</td>\\n</tr>\\n</tbody>\\n</table>\\n</td>\\n</tr>\\n<tr>\\n<td align=left valign=middle>\\n<table role=presentation cellpadding=0 cellspacing=0 border=0 align=left>\\n<tbody>\\n<tr>\\n<td align=left valign=middle style=\"font-family: Google Sans, Google Sans Text, Roboto, Helvetica Neue, Helvetica, Arial, sans-serif; font-size: 18px; line-height: 27px; font-weight: 500; color: #202124;\">\\nHow your products performed (organic &amp; ads)\\n</td>\\n</tr>\\n</tbody>\\n</table>\\n</td>\\n</tr>\\n<tr>\\n<td align=center valign=middle>\\n<table role=presentation cellpadding=0 cellspacing=0 border=0 align=center>\\n<tbody>\\n<tr>\\n<td align=center valign=middle aria-hidden=true>\\n<img src=https://www.gstatic.com/gumdrop/files/spacer-11.gif width=1 height=24 style=\"display: block;\">\\n</td>\\n</tr>\\n</tbody>\\n</table>\\n</td>\\n</tr>\\n<tr>\\n<td align=left valign=middle>\\n<table role=presentation cellpadding=0 cellspacing=0 border=0 align=left>\\n<tbody>\\n<tr>\\n<td align=left valign=top>\\n<table role=presentation cellpadding=0 cellspacing=0 border=0 align=left width=132>\\n<tbody>\\n<tr>\\n<td align=left valign=middle>\\n<tr>\\n<td align=left valign=top>\\n<table role=presentation cellpadding=0 cellspacing=0 border=0 align=left>\\n<tbody>\\n<tr>\\n<td align=left valign=middle style=\"font-family: Google Sans Text, Roboto, Helvetica Neue, Helvetica, Arial, sans-serif; font-size: 14px; line-height: 21px; letter-spacing: 0.25px; font-weight: 500; color: #5F6368;\">\\nClicks\\n</td>\\n</tr>\\n<tr>\\n<td align=left valign=middle style=\"font-family: Google Sans Text, Roboto, Helvetica Neue, Helvetica, Arial, sans-serif; font-size: 32px; line-height: 40px; font-weight: 400; color: #5F6368;\" class=pdt21_stat_1>\\n670\\n</td>\\n</tr>\\n<tr>\\n<td dir=ltr align=left valign=middle style=\"font-family: Google Sans Text, Roboto, Helvetica Neue, Helvetica, Arial, sans-serif; font-size: 14px; line-height: 21px; letter-spacing: 0.25px; font-weight: 500; color: #C5221F;\">\\n-31.4%*\\n</td>\\n</tr>\\n</tbody>\\n</table>\\n</td>\\n</tr>\\n</td>\\n</tr>\\n</tbody>\\n</table>\\n</td>\\n<td align=center valign=middle>\\n<table role=presentation cellpadding=0 cellspacing=0 border=0 align=center width=132 class=width2>\\n<tbody>\\n<tr>\\n<td align=center valign=middle aria-hidden=true>\\n<img src=https://www.gstatic.com/gumdrop/files/spacer-11.gif width=132 height=1 class=width2 style=\"display: block;\">\\n</td>\\n</tr>\\n</tbody>\\n</table>\\n</td>\\n<td align=left valign=top>\\n<table role=presentation cellpadding=0 cellspacing=0 border=0 align=left width=132>\\n<tbody>\\n<tr>\\n<td align=left valign=middle>\\n<tr>\\n<td align=left valign=top>\\n<table role=presentation cellpadding=0 cellspacing=0 border=0 align=left>\\n<tbody>\\n<tr>\\n<td align=left valign=middle style=\"font-family: Google Sans Text, Roboto, Helvetica Neue, Helvetica, Arial, sans-serif; font-size: 14px; line-height: 21px; letter-spacing: 0.25px; font-weight: 500; color: #5F6368;\">\\nImpressions\\n</td>\\n</tr>\\n<tr>\\n<td align=left valign=middle style=\"font-family: Google Sans Text, Roboto, Helvetica Neue, Helvetica, Arial, sans-serif; font-size: 32px; line-height: 40px; font-weight: 400; color: #5F6368;\" class=pdt21_stat_2>\\n89.26K\\n</td>\\n</tr>\\n<tr>\\n<td dir=ltr align=left valign=middle style=\"font-family: Google Sans Text, Roboto, Helvetica Neue, Helvetica, Arial, sans-serif; font-size: 14px; line-height: 21px; letter-spacing: 0.25px; font-weight: 500; color: #C5221F;\">\\n-34.1%*\\n</td>\\n</tr>\\n</tbody>\\n</table>\\n</td>\\n</tr>\\n</td>\\n</tr>\\n</tbody>\\n</table>\\n</td>\\n<td align=center valign=middle class=width2>\\n<table role=presentation cellpadding=0 cellspacing=0 border=0 align=center>\\n<tbody>\\n<tr>\\n<td align=center valign=middle aria-hidden=true>\\n<img src=https://www.gstatic.com/gumdrop/files/spacer-11.gif width=132 height=1 class=width2 style=\"display: block;\">\\n</td>\\n</tr>\\n</tbody>\\n</table>\\n</td>\\n<td align=left valign=top>\\n<table role=presentation cellpadding=0 cellspacing=0 border=0 align=left width=132>\\n<tbody>\\n<tr>\\n<td align=left valign=middle>\\n<tr>\\n<td align=left valign=top>\\n<table role=presentation cellpadding=0 cellspacing=0 border=0 align=left>\\n<tbody>\\n<tr>\\n<td align=left valign=middle style=\"font-family: Google Sans Text, Roboto, Helvetica Neue, Helvetica, Arial, sans-serif; font-size: 14px; line-height: 21px; letter-spacing: 0.25px; font-weight: 500; color: #5F6368;\">\\nCTR\\n</td>\\n</tr>\\n<tr>\\n<td dir=ltr align=left valign=middle style=\"font-family: Google Sans Text, Roboto, Helvetica Neue, Helvetica, Arial, sans-serif; font-size: 32px; line-height: 40px; font-weight: 400; color: #5F6368;\" class=pdt21_stat_3>\\n0.8%\\n</td>\\n</tr>\\n<tr>\\n<td dir=ltr align=left valign=middle style=\"font-family: Google Sans Text, Roboto, Helvetica Neue, Helvetica, Arial, sans-serif; font-size: 14px; line-height: 21px; letter-spacing: 0.25px; font-weight: 500; color: #188038;\">\\n+4.1%*\\n</td>\\n</tr>\\n</tbody>\\n</table>\\n</td>\\n</tr>\\n</td>\\n</tr>\\n</tbody>\\n</table>\\n</td>\\n</tr>\\n</tbody>\\n</table>\\n</td>\\n</tr>\\n<tr>\\n<td align=center valign=middle>\\n<table role=presentation cellpadding=0 cellspacing=0 border=0 align=center>\\n<tbody>\\n<tr>\\n<td align=center valign=middle aria-hidden=true>\\n<img src=https://www.gstatic.com/gumdrop/files/spacer-11.gif width=1 height=23 style=\"display: block;\">\\n</td>\\n</tr>\\n</tbody>\\n</table>\\n</td>\\n</tr>\\n<tr>\\n<td align=left valign=top>\\n<table role=presentation cellpadding=0 cellspacing=0 border=0 align=left>\\n<tbody>\\n<tr>\\n<td align=left valign=middle style=\"font-family: Google Sans Text, Roboto, Helvetica Neue, Helvetica, Arial, sans-serif; font-size: 14px; line-height: 21px; font-weight: 400; color: #5F6368; letter-spacing: 0.25px;\">\\n*Compared to March 2025\\n</td>\\n</tr>\\n</tbody>\\n</table>\\n</td>\\n</tr>\\n<tr>\\n<td align=center valign=middle>\\n<table role=presentation cellpadding=0 cellspacing=0 border=0 align=center>\\n<tbody>\\n<tr>\\n<td align=center valign=middle aria-hidden=true>\\n<img src=https://www.gstatic.com/gumdrop/files/spacer-11.gif width=1 height=32 style=\"display: block;\">\\n</td>\\n</tr>\\n</tbody>\\n</table>\\n</td>\\n</tr>\\n<tr>\\n<td align=left valign=middle>\\n<table role=presentation cellpadding=0 cellspacing=0 border=0 align=left>\\n<tbody>\\n<tr>\\n<td align=left valign=middle style=\"font-family: Google Sans, Google Sans Text, Roboto, Helvetica Neue, Helvetica, Arial, sans-serif; font-size: 18px; line-height: 27px; font-weight: 500; color: #202124;\">\\nYour popular products\\n</td>\\n</tr>\\n</tbody>\\n</table>\\n</td>\\n</tr>\\n<tr>\\n<td align=center valign=middle>\\n<table role=presentation cellpadding=0 cellspacing=0 border=0 align=center>\\n<tbody>\\n<tr>\\n<td align=center valign=middle aria-hidden=true>\\n<img src=https://www.gstatic.com/gumdrop/files/spacer-11.gif width=1 height=16 style=\"display: block;\">\\n</td>\\n</tr>\\n</tbody>\\n</table>\\n</td>\\n</tr>\\n<tr>\\n<td align=left valign=top>\\n<table role=presentation cellpadding=0 cellspacing=0 border=0 align=left>\\n<tbody>\\n<tr>\\n<td align=left valign=top>\\n<table role=presentation cellpadding=0 cellspacing=0 border=0 align=left>\\n<tbody>\\n<tr>\\n<td align=left valign=top>\\n<table role=presentation cellpadding=0 cellspacing=0 border=0 align=left width=92>\\n<tbody>\\n<tr>\\n<td align=left valign=top>\\n<table role=presentation cellpadding=0 cellspacing=0 border=0 align=left>\\n<tbody>\\n<tr>\\n<td align=center valign=top aria-hidden=true>\\n<img src=https://encrypted-tbn0.gstatic.com/images?q=tbn:ANd9GcSyuSWb0TUSt1y8vlpZnhE4gCfwx05USuWkyOofP4ltM1JmI0UG width=80 style=\"display: block;\">\\n</td>\\n</tr>\\n</tbody>\\n</table>\\n</td>\\n</tr>\\n<tr>\\n<td align=left valign=top>\\n<table role=presentation cellpadding=0 cellspacing=0 border=0 align=left>\\n<tbody>\\n<tr>\\n<td align=center valign=top aria-hidden=true>\\n<img src=https://www.gstatic.com/gumdrop/files/spacer-11.gif width=1 height=16 style=\"display: block;\">\\n</td>\\n</tr>\\n</tbody>\\n</table>\\n</td>\\n</tr>\\n<tr>\\n<td align=left valign=top>\\n<table role=presentation cellpadding=0 cellspacing=0 border=0 align=left>\\n<tbody>\\n<tr>\\n<td align=left valign=top style=\"font-family: Google Sans Text, Roboto, Helvetica Neue, Helvetica, Arial, sans-serif; font-size: 14px; line-height: 21px; font-weight: 400; color: #5F6368; letter-spacing: 0.25px;\">\\nRed Rooster Ethiopia Worka Sakaro - Anaerobic Natural Berry &amp; Floral Whole Bean (12OZ)\\n</td>\\n</tr>\\n</tbody>\\n</table>\\n</td>\\n</tr>\\n<tr>\\n<td align=left valign=top>\\n<table role=presentation cellpadding=0 cellspacing=0 border=0 align=left>\\n<tbody>\\n<tr>\\n<td align=left valign=top style=\"font-family: Google Sans Text, Roboto, Helvetica Neue, Helvetica, Arial, sans-serif; font-size: 14px; line-height: 21px; font-weight: 500; color: #5F6368; letter-spacing: 0.25px;\">\\n130 clicks\\n</td>\\n</tr>\\n</tbody>\\n</table>\\n</td>\\n</tr>\\n</tbody>\\n</table>\\n</td>\\n<td align=left valign=top>\\n<table role=presentation cellpadding=0 cellspacing=0 border=0 align=left>\\n<tbody>\\n<tr>\\n<td align=center valign=top aria-hidden=true>\\n<img src=https://www.gstatic.com/gumdrop/files/spacer-11.gif width=80 height=1 class=width72 style=\"display: block;\">\\n</td>\\n</tr>\\n</tbody>\\n</table>\\n</td>\\n<td align=left valign=top>\\n<table role=presentation cellpadding=0 cellspacing=0 border=0 align=left width=92>\\n<tbody>\\n<tr>\\n<td align=left valign=top>\\n<table role=presentation cellpadding=0 cellspacing=0 border=0 align=left>\\n<tbody>\\n<tr>\\n<td align=center valign=top aria-hidden=true>\\n<img src=https://encrypted-tbn3.gstatic.com/images?q=tbn:ANd9GcT7-gAPqlrLOOxEjzVn-_3uKehZfosie-HvtVrfAZ42O1B8zfZJ width=80 style=\"display: block;\">\\n</td>\\n</tr>\\n</tbody>\\n</table>\\n</td>\\n</tr>\\n<tr>\\n<td align=left valign=top>\\n<table role=presentation cellpadding=0 cellspacing=0 border=0 align=left>\\n<tbody>\\n<tr>\\n<td align=center valign=top aria-hidden=true>\\n<img src=https://www.gstatic.com/gumdrop/files/spacer-11.gif width=1 height=16 style=\"display: block;\">\\n</td>\\n</tr>\\n</tbody>\\n</table>\\n</td>\\n</tr>\\n<tr>\\n<td align=left valign=top>\\n<table role=presentation cellpadding=0 cellspacing=0 border=0 align=left>\\n<tbody>\\n<tr>\\n<td align=left valign=top style=\"font-family: Google Sans Text, Roboto, Helvetica Neue, Helvetica, Arial, sans-serif; font-size: 14px; line-height: 21px; font-weight: 400; color: #5F6368; letter-spacing: 0.25px;\">\\nRed Rooster Organic Floyd Farmhouse Breakfast Blend - Almond &amp; Cacao Medium Roast Whole Bean (12OZ)\\n</td>\\n</tr>\\n</tbody>\\n</table>\\n</td>\\n</tr>\\n<tr>\\n<td align=left valign=top>\\n<table role=presentation cellpadding=0 cellspacing=0 border=0 align=left>\\n<tbody>\\n<tr>\\n<td align=left valign=top style=\"font-family: Google Sans Text, Roboto, Helvetica Neue, Helvetica, Arial, sans-serif; font-size: 14px; line-height: 21px; font-weight: 500; color: #5F6368; letter-spacing: 0.25px;\">\\n29 clicks\\n</td>\\n</tr>\\n</tbody>\\n</table>\\n</td>\\n</tr>\\n</tbody>\\n</table>\\n</td>\\n<td align=left valign=top>\\n<table role=presentation cellpadding=0 cellspacing=0 border=0 align=left>\\n<tbody>\\n<tr>\\n<td align=center valign=top aria-hidden=true>\\n<img src=https://www.gstatic.com/gumdrop/files/spacer-11.gif width=80 height=1 class=width72 style=\"display: block;\">\\n</td>\\n</tr>\\n</tbody>\\n</table>\\n</td>\\n<td align=left valign=top>\\n<table role=presentation cellpadding=0 cellspacing=0 border=0 align=left width=92>\\n<tbody>\\n<tr>\\n<td align=left valign=top>\\n<table role=presentation cellpadding=0 cellspacing=0 border=0 align=left>\\n<tbody>\\n<tr>\\n<td align=center valign=top aria-hidden=true>\\n<img src=https://encrypted-tbn2.gstatic.com/images?q=tbn:ANd9GcQEJD0JBE1bAsEqla-xakms4FwdBy5MXdXyT8g8npc4P3eFUHJ5 width=80 style=\"display: block;\">\\n</td>\\n</tr>\\n</tbody>\\n</table>\\n</td>\\n</tr>\\n<tr>\\n<td align=left valign=top>\\n<table role=presentation cellpadding=0 cellspacing=0 border=0 align=left>\\n<tbody>\\n<tr>\\n<td align=center valign=top aria-hidden=true>\\n<img src=https://www.gstatic.com/gumdrop/files/spacer-11.gif width=1 height=16 style=\"display: block;\">\\n</td>\\n</tr>\\n</tbody>\\n</table>\\n</td>\\n</tr>\\n<tr>\\n<td align=left valign=top>\\n<table role=presentation cellpadding=0 cellspacing=0 border=0 align=left>\\n<tbody>\\n<tr>\\n<td align=left valign=top style=\"font-family: Google Sans Text, Roboto, Helvetica Neue, Helvetica, Arial, sans-serif; font-size: 14px; line-height: 21px; font-weight: 400; color: #5F6368; letter-spacing: 0.25px;\">\\nEthiopia Worka Sakaro Anaerobic Natural 2LB / French Press\\n</td>\\n</tr>\\n</tbody>\\n</table>\\n</td>\\n</tr>\\n<tr>\\n<td align=left valign=top>\\n<table role=presentation cellpadding=0 cellspacing=0 border=0 align=left>\\n<tbody>\\n<tr>\\n<td align=left valign=top style=\"font-family: Google Sans Text, Roboto, Helvetica Neue, Helvetica, Arial, sans-serif; font-size: 14px; line-height: 21px; font-weight: 500; color: #5F6368; letter-spacing: 0.25px;\">\\n25 clicks\\n</td>\\n</tr>\\n</tbody>\\n</table>\\n</td>\\n</tr>\\n</tbody>\\n</table>\\n</td>\\n</tr>\\n</tbody>\\n</table>\\n</td>\\n</tr>\\n</tbody>\\n</table>\\n</td>\\n</tr>\\n<tr>\\n<td align=center valign=middle>\\n<table role=presentation cellpadding=0 cellspacing=0 border=0 align=center>\\n<tbody>\\n<tr>\\n<td align=center valign=middle aria-hidden=true>\\n<img src=https://www.gstatic.com/gumdrop/files/spacer-11.gif width=1 height=40 style=\"display: block;\">\\n</td>\\n</tr>\\n</tbody>\\n</table>\\n</td>\\n</tr>\\n<tr>\\n<td align=left valign=top>\\n<table role=presentation cellpadding=0 cellspacing=0 border=0 align=left class=cta_width_outlook>\\n<tbody>\\n<tr>\\n<td class=secondary_cta_other align=center valign=top style=\"font-family: Google Sans, Google Sans Text, Roboto, Helvetica Neue, Helvetica, Arial, sans-serif; font-size: 16px; line-height: 24px;font-weight: 500; border-radius: 24px;letter-spacing: 0.25px;\">\\n<a class=\"out_secondary_cta secondary_cta\" href=https://notifications.google.com/g/p/ANiao5rF-opQuJh_JJ2sxd30N7eDTk7k5GcOR77LgxzdSFYA7WwPMnzpD19XenrmUcR34zKD49tiRaNCfnQt5Hbto_-4wKEvfwuVT3kktxMZ0LI1YNaVH4aBKSDl3ge9t98nszG11pONRDh4pFpy5fmsOYCEqUJhiFYzRIxWWSf0N_oFvCqpzkJGW91jZ_1Pm9lt_ZNrBWuksb7T_8n2e5Z1YID5st06wPvqh45xooAOkkGFo8Fajo6lpgQ9SAKekOP8LlJArnwytkZLevWVEIttrGd7XXzflH-NCc9dfexpeoZD3wFAyxUPnXNlGb-a7lBYcJtrU80tToOE4NhNwK7EZgWBEwzpNw target=_blank style=\"text-decoration: none; border-radius: 24px;display: block;\">See performance</a>\\n</td>\\n</tr>\\n</tbody>\\n</table>\\n</td>\\n</tr>\\n<tr>\\n<td align=center valign=middle style=\"border-bottom: 1px solid #DADCE0;\">\\n<table role=presentation cellpadding=0 cellspacing=0 border=0 align=center>\\n<tbody>\\n<tr>\\n<td align=center valign=middle aria-hidden=true>\\n<img src=https://www.gstatic.com/gumdrop/files/spacer-11.gif width=1 height=41 style=\"display: block;\">\\n</td>\\n</tr>\\n</tbody>\\n</table>\\n</td>\\n</tr>\\n<tr>\\n<td align=left valign=middle>\\n<table role=presentation cellpadding=0 cellspacing=0 border=0 align=left>\\n<tbody>\\n<tr>\\n<td align=center valign=middle aria-hidden=true>\\n<img src=https://www.gstatic.com/gumdrop/files/spacer-11.gif width=1 height=39 style=\"display: block;\">\\n</td>\\n</tr>\\n</tbody>\\n</table>\\n</td>\\n</tr>\\n<tr>\\n<td align=left valign=middle>\\n<table role=presentation cellpadding=0 cellspacing=0 border=0 align=left>\\n<tbody>\\n<tr>\\n<td align=left valign=middle style=\"font-family: Google Sans, Google Sans Text, Roboto, Helvetica Neue, Helvetica, Arial, sans-serif; font-size: 18px; line-height: 27px; font-weight: 500; color: #202124;\">\\nProduct status\\n</td>\\n</tr>\\n</tbody>\\n</table>\\n</td>\\n</tr>\\n<tr>\\n<td align=left valign=middle>\\n<table role=presentation cellpadding=0 cellspacing=0 border=0 align=left>\\n<tbody>\\n<tr>\\n<td align=center valign=middle aria-hidden=true>\\n<img src=https://www.gstatic.com/gumdrop/files/spacer-11.gif width=1 height=15 style=\"display: block;\">\\n</td>\\n</tr>\\n</tbody>\\n</table>\\n</td>\\n</tr>\\n<tr>\\n<td align=left valign=middle>\\n<table role=presentation cellpadding=0 cellspacing=0 border=0 align=left>\\n<tbody>\\n<tr>\\n<td align=left valign=middle style=\"font-family: Google Sans Text, Roboto, Helvetica Neue, Helvetica, Arial, sans-serif; font-size: 14px; line-height: 21px; font-weight: 400; color: #5F6368; letter-spacing: 0.25px;\">\\nSome of your products aren&#39;t showing to customers. Fix product issues to show them on Google.\\n</td>\\n</tr>\\n</tbody>\\n</table>\\n</td>\\n</tr>\\n<tr>\\n<td align=left valign=middle>\\n<table role=presentation cellpadding=0 cellspacing=0 border=0 align=left>\\n<tbody>\\n<tr>\\n<td align=center valign=middle aria-hidden=true>\\n<img src=https://www.gstatic.com/gumdrop/files/spacer-11.gif width=1 height=24 style=\"display: block;\">\\n</td>\\n</tr>\\n</tbody>\\n</table>\\n</td>\\n</tr>\\n<tr>\\n<td align=left valign=middle>\\n<table role=presentation cellpadding=0 cellspacing=0 border=0 align=left>\\n<tbody>\\n<tr>\\n<td align=left valign=top class=dblock>\\n<table role=presentation cellpadding=0 cellspacing=0 border=0 align=left>\\n<tbody>\\n<tr>\\n<td align=left valign=top>\\n<table role=presentation cellpadding=0 cellspacing=0 border=0 align=left width=138>\\n<tbody>\\n<tr>\\n<td align=left valign=middle style=\"font-family: Google Sans Text, Roboto, Helvetica Neue, Helvetica, Arial, sans-serif; font-size: 14px; line-height: 21px; font-weight: 500; color: #5F6368;letter-spacing: 0.25px;\">\\nNot approved\\n</td>\\n</tr>\\n<tr>\\n<td align=left valign=middle style=\"font-family: Google Sans Text, Roboto, Helvetica Neue, Helvetica, Arial, sans-serif; font-size: 32px; line-height: 40px; font-weight: 400; color: #C5221F;\" class=pdt21_status_1>\\n37\\n</td>\\n</tr>\\n</tbody>\\n</table>\\n</td>\\n<td align=left valign=top>\\n<table role=presentation cellpadding=0 cellspacing=0 border=0 align=left>\\n<tbody>\\n<tr>\\n<td align=center valign=middle aria-hidden=true>\\n<img src=https://www.gstatic.com/gumdrop/files/spacer-11.gif width=46 height=1 class=width48 style=\"display: block;\">\\n</td>\\n</tr>\\n</tbody>\\n</table>\\n</td>\\n<td align=left valign=top>\\n<table role=presentation cellpadding=0 cellspacing=0 border=0 align=left width=138>\\n<tbody>\\n<tr>\\n<td align=left valign=middle style=\"font-family: Google Sans Text, Roboto, Helvetica Neue, Helvetica, Arial, sans-serif; font-size: 14px; line-height: 21px; font-weight: 500; color: #5F6368;letter-spacing: 0.25px;\">\\nLimited\\n</td>\\n</tr>\\n<tr>\\n<td align=left valign=middle style=\"font-family: Google Sans Text, Roboto, Helvetica Neue, Helvetica, Arial, sans-serif; font-size: 32px; line-height: 40px; font-weight: 400; color: #E37400;\" class=pdt21_status_2>\\n0\\n</td>\\n</tr>\\n</tbody>\\n</table>\\n</td>\\n</tr>\\n</tbody>\\n</table>\\n</td>\\n<td align=left valign=top class=dblock>\\n<table role=presentation cellpadding=0 cellspacing=0 border=0 align=left>\\n<tbody>\\n<tr>\\n<td align=center valign=middle aria-hidden=true>\\n<img src=https://www.gstatic.com/gumdrop/files/spacer-11.gif width=46 height=1 class=ht16 style=\"display: block;\">\\n</td>\\n</tr>\\n</tbody>\\n</table>\\n</td>\\n<td align=left valign=top class=dblock>\\n<table role=presentation cellpadding=0 cellspacing=0 border=0 align=left>\\n<tbody>\\n<tr>\\n<td align=left valign=top>\\n<table role=presentation cellpadding=0 cellspacing=0 border=0 align=left width=138>\\n<tbody>\\n<tr>\\n<td align=left valign=middle style=\"font-family: Google Sans Text, Roboto, Helvetica Neue, Helvetica, Arial, sans-serif; font-size: 14px; line-height: 21px; font-weight: 500; color: #5F6368;letter-spacing: 0.25px;\">\\nApproved\\n</td>\\n</tr>\\n<tr>\\n<td align=left valign=middle style=\"font-family: Google Sans Text, Roboto, Helvetica Neue, Helvetica, Arial, sans-serif; font-size: 32px; line-height: 40px; font-weight: 400; color: #188038;\" class=pdt21_status_3>\\n706\\n</td>\\n</tr>\\n</tbody>\\n</table>\\n</td>\\n<td align=left valign=top>\\n<table role=presentation cellpadding=0 cellspacing=0 border=0 align=left>\\n<tbody>\\n<tr>\\n<td align=center valign=middle aria-hidden=true>\\n<img src=https://www.gstatic.com/gumdrop/files/spacer-11.gif width=46 height=1 class=width48 style=\"display: block;\">\\n</td>\\n</tr>\\n</tbody>\\n</table>\\n</td>\\n<td align=left valign=top>\\n<table role=presentation cellpadding=0 cellspacing=0 border=0 align=left width=138>\\n<tbody>\\n<tr>\\n<td align=left valign=middle style=\"font-family: Google Sans Text, Roboto, Helvetica Neue, Helvetica, Arial, sans-serif; font-size: 14px; line-height: 21px; font-weight: 500; color: #5F6368;letter-spacing: 0.25px;\">\\nUnder review\\n</td>\\n</tr>\\n<tr>\\n<td align=left valign=middle style=\"font-family: Google Sans Text, Roboto, Helvetica Neue, Helvetica, Arial, sans-serif; font-size: 32px; line-height: 40px; font-weight: 400; color: #5F6368;\" class=pdt21_status_4>\\n0\\n</td>\\n</tr>\\n</tbody>\\n</table>\\n</td>\\n</tr>\\n</tbody>\\n</table>\\n</td>\\n</tr>\\n</tbody>\\n</table>\\n</td>\\n</tr>\\n<tr>\\n<td align=left valign=middle>\\n<table role=presentation cellpadding=0 cellspacing=0 border=0 align=left>\\n<tbody>\\n<tr>\\n<td align=center valign=middle aria-hidden=true>\\n<img src=https://www.gstatic.com/gumdrop/files/spacer-11.gif width=1 height=40 style=\"display: block;\">\\n</td>\\n</tr>\\n</tbody>\\n</table>\\n</td>\\n</tr>\\n<tr>\\n<td align=left valign=top>\\n<table role=presentation cellpadding=0 cellspacing=0 border=0 align=left class=cta_width_outlook>\\n<tbody>\\n<tr>\\n<td align=center valign=top class=secondary_cta_other style=\"font-family: Google Sans, Google Sans Text, Roboto, Helvetica Neue, Helvetica, Arial, sans-serif; font-size: 16px; line-height: 24px; color: #ffffff; font-weight: 500; border-radius: 24px;letter-spacing: 0.25px;\">\\n<a class=\"out_secondary_cta secondary_cta\" href=https://notifications.google.com/g/p/ANiao5o7l-lWfn8xpgf3eXGQUYnYhtDk4X1ar1K7qDOS3qdWlH8QDh0fx4udrLiXjK_fRdqLxWYzJL60vYqaazGlLGJ-WTwEhIGFF4CVnbpxBaFyw8kh6kET92xaTrPqJBEySB7IKaDh1ipdEOdU9yajwIbm07eHSgbdn2z6Q3JwGwbru_hcfhbXtb0ecuA2XAEECgsVwFDrEw_xrgczI_iLpitkBGae1oKKEy0q target=_blank style=\"text-decoration: none;border-radius: 24px;display: block;\">Fix issues in Shopify</a>\\n</td>\\n</tr>\\n</tbody>\\n</table>\\n</td>\\n</tr>\\n<tr>\\n<td align=left valign=middle style=\"border-bottom: 1px solid #DADCE0;\">\\n<table role=presentation cellpadding=0 cellspacing=0 border=0 align=left>\\n<tbody>\\n<tr>\\n<td align=center valign=middle aria-hidden=true>\\n<img src=https://www.gstatic.com/gumdrop/files/spacer-11.gif width=1 height=38 style=\"display: block;\">\\n</td>\\n</tr>\\n</tbody>\\n</table>\\n</td>\\n</tr>\\n<tr>\\n<td align=left valign=middle>\\n<table role=presentation cellpadding=0 cellspacing=0 border=0 align=left>\\n<tbody>\\n<tr>\\n<td align=center valign=middle aria-hidden=true>\\n<img src=https://www.gstatic.com/gumdrop/files/spacer-11.gif width=1 height=40 style=\"display: block;\">\\n</td>\\n</tr>\\n</tbody>\\n</table>\\n</td>\\n</tr>\\n<tr>\\n<td align=left valign=top>\\n<table cellspacing=0 cellpadding=0 role=presentation width=700 class=wd400>\\n<tr>\\n<td align=left valign=top>\\n<table cellspacing=0 cellpadding=0 role=presentation width=600 class=wd328>\\n<tr>\\n<td align=left valign=top style=\"\">\\n<table cellspacing=0 cellpadding=0 role=presentation>\\n<tr>\\n<td align=left valign=top style=\"font-size: 18px; line-height: 27px; font-weight: 500; color: #202124; font-family: Google Sans, Google Sans Text, Roboto, Helvetica Neue, Helvetica, Arial, sans-serif;\">\\nYour store quality scorecard in <span style=\"color: #1A73E8\">United States</span> in <span style=\"color: #1A73E8\">April</span>\\n</td>\\n</tr>\\n</table>\\n</td>\\n</tr>\\n<tr>\\n<td align=center valign=top aria-hidden=true>\\n<img src=https://www.gstatic.com/gumdrop/files/spacer-11.gif width=1 height=11 style=\"display: block;\">\\n</td>\\n</tr>\\n<tr>\\n<td align=left valign=top>\\n<table cellspacing=0 cellpadding=0 role=presentation>\\n<tr>\\n<td class=fs20ln30 align=left valign=top style=\"font-size: 24px; line-height: 36px; font-weight: 400; color: #137333; font-family: Google Sans, Google Sans Text, Roboto, Helvetica Neue, Helvetica, Arial, sans-serif;\">\\nExceptional\\n</td>\\n</tr>\\n</table>\\n</td>\\n</tr>\\n<tr>\\n<td align=right valign=top>\\n<table cellspacing=0 cellpadding=0 role=presentation width=136 class=wd65>\\n<tr>\\n<td class=fs10ln15 align=center valign=top style=\"font-size: 16px; line-height: 25px; font-weight: 700; color: #1A73E8; font-family: Google Sans Text, Roboto, Helvetica Neue, Helvetica, Arial, sans-serif;\">\\nTop Quality Store\\n</td>\\n</tr>\\n</table>\\n</td>\\n</tr>\\n<tr>\\n<td align=center valign=top>\\n<table cellspacing=0 cellpadding=0 role=presentation width=600 class=wd328>\\n<tr>\\n<td class=w65 width=120 align=center valign=top aria-hidden=true>\\n<!--[if !mso]><!-->\\n<img src=https://www.gstatic.com/gumdrop/files/merchant-center-grey-polygon-transparent-w20px-h18px-2x.png width=11 height=auto style=\"display: none;\">\\n<!--<![endif]-->\\n<!--[if mso | ie]>\\n<img src=\"\" width=\"11\" height=\"auto\" style=\"display: block;\">\\n<![endif]-->\\n</td>\\n<td class=w65 width=120 align=center valign=top aria-hidden=true>\\n<!--[if !mso]><!-->\\n<img src=https://www.gstatic.com/gumdrop/files/merchant-center-grey-polygon-transparent-w20px-h18px-2x.png width=11 height=auto style=\"display: none;\">\\n<!--<![endif]-->\\n<!--[if mso | ie]>\\n<img src=\"\" width=\"11\" height=\"auto\" style=\"display: block;\">\\n<![endif]-->\\n</td>\\n<td class=w65 width=120 align=center valign=top aria-hidden=true>\\n<!--[if !mso]><!-->\\n<img src=https://www.gstatic.com/gumdrop/files/merchant-center-grey-polygon-transparent-w20px-h18px-2x.png width=11 height=auto style=\"display: none;\">\\n<!--<![endif]-->\\n<!--[if mso | ie]>\\n<img src=\"\" width=\"11\" height=\"auto\" style=\"display:block;\">\\n<![endif]-->\\n</td>\\n<td class=w65 width=120 align=center valign=top aria-hidden=true>\\n<!--[if !mso]><!-->\\n<img src=https://www.gstatic.com/gumdrop/files/merchant-center-grey-polygon-transparent-w20px-h18px-2x.png width=11 height=auto style=\"display: none;\">\\n<!--<![endif]-->\\n<!--[if mso | ie]>\\n<img src=\"\" width=\"11\" height=\"auto\" style=\"display: block;\">\\n<![endif]-->\\n</td>\\n<td class=w65 width=120 align=center valign=top aria-hidden=true>\\n<img src=https://www.gstatic.com/gumdrop/files/merchant-center-green-polygon-transparent-w20px-h18px-2x.png width=11 height=auto style=\"display: block;\">\\n</td>\\n</tr>\\n</table>\\n</td>\\n</tr>\\n<tr>\\n<td align=center valign=top style=\"border: 1px solid #FFFFFF;\">\\n<table class=w328 role=presentation align=center cellpadding=0 cellspacing=0 border=0 width=600 bgcolor=#DADCE0>\\n<tbody>\\n<tr>\\n<td aria-hidden=true class=w65 width=120 align=center valign=top style=background-color:#137333;>\\n<img src=https://www.gstatic.com/gumdrop/files/spacer-11.gif width=1 height=12 style=\"display: block;\" class=ht6>\\n</td>\\n<td aria-hidden=true class=w65 width=120 align=center valign=top style=\"border-left: 2px solid #FFFFFF;background-color:#137333;\">\\n<img src=https://www.gstatic.com/gumdrop/files/spacer-11.gif width=1 height=12 style=\"display: block;\" class=ht6>\\n</td>\\n<td aria-hidden=true class=w65 width=120 align=center valign=top style=\"border-left: 2px solid #FFFFFF;background-color:#137333;\">\\n<img src=https://www.gstatic.com/gumdrop/files/spacer-11.gif width=1 height=12 style=\"display: block;\" class=ht6>\\n</td>\\n<td aria-hidden=true class=w65 width=120 align=center valign=top style=\"border-left: 2px solid #FFFFFF;background-color:#137333;\">\\n<img src=https://www.gstatic.com/gumdrop/files/spacer-11.gif width=1 height=12 style=\"display: block;\" class=ht6>\\n</td>\\n<td aria-hidden=true class=w65 width=120 align=center valign=top style=\"border-left: 2px solid #FFFFFF;background-color:#137333;\">\\n<img src=https://www.gstatic.com/gumdrop/files/spacer-11.gif width=1 height=12 style=\"display: block;\" class=ht6>\\n</td>\\n</tr>\\n</tbody>\\n</table>\\n</td>\\n</tr>\\n<tr>\\n<td align=center valign=top style=padding-top:3px;>\\n<table cellspacing=0 cellpadding=0 role=presentation width=600 class=wd328>\\n<tr>\\n<td class=\"w65 fs10ln15\" width=120 align=center valign=top style=\"font-size: 16px; line-height: 25px; font-weight: 400; color: #5f6368; font-family: Google Sans Text, Roboto, Helvetica Neue, Helvetica, Arial, sans-serif;\">\\nLow\\n</td>\\n<td class=\"w65 fs10ln15\" width=120 align=center valign=top style=\"font-size: 16px; line-height: 25px; font-weight: 400; color: #5f6368; font-family: Google Sans Text, Roboto, Helvetica Neue, Helvetica, Arial, sans-serif;\">\\nFair\\n</td>\\n<td class=\"w65 fs10ln15\" width=120 align=center valign=top style=\"font-size: 16px; line-height: 25px; font-weight: 400; color: #5f6368; font-family: Google Sans Text, Roboto, Helvetica Neue, Helvetica, Arial, sans-serif;\">\\nGood\\n</td>\\n<td class=\"w65 fs10ln15\" width=120 align=center valign=top style=\"font-size: 16px; line-height: 25px; font-weight: 400; color: #5f6368; font-family: Google Sans Text, Roboto, Helvetica Neue, Helvetica, Arial, sans-serif;\">\\nGreat\\n</td>\\n<td class=\"w65 fs10ln15\" width=120 align=center valign=top style=\"font-size: 16px; line-height: 25px; font-weight: 700; color: #137333; font-family: Google Sans Text, Roboto, Helvetica Neue, Helvetica, Arial, sans-serif;\">\\nExceptional\\n</td>\\n</tr>\\n</table>\\n</td>\\n</tr>\\n<tr>\\n<td align=center valign=top aria-hidden=true>\\n<img src=https://www.gstatic.com/gumdrop/files/spacer-11.gif width=1 height=24 style=\"display: block;\" class=ht21>\\n</td>\\n</tr>\\n<tr>\\n<td align=left valign=top style=\"padding-left: 10px;\" class=pdl5>\\n<table cellspacing=0 cellpadding=0 role=presentation>\\n<tr>\\n<td align=left valign=middle aria-hidden=true>\\n<img src=https://gstatic.com/growthlab/api/k1FkfNu9bXyojSv7Rd0JhAKlcMQ7x0VH7gwMIzO6.png width=29 height=auto style=\"display: block;\">\\n</td>\\n<td align=center valign=top aria-hidden=true>\\n<img src=https://www.gstatic.com/gumdrop/files/spacer-11.gif width=17 height=auto style=\"display: block;\">\\n</td>\\n<td align=left valign=middle style=\"font-size: 16px; line-height: 25px; font-weight: 700; color: #1A73E8; font-family: Google Sans Text, Roboto, Helvetica Neue, Helvetica, Arial, sans-serif; padding-top: 5px;\">\\nYou are a Top Quality Store\\n</td>\\n</tr>\\n</table>\\n</td>\\n</tr>\\n<tr>\\n<td align=center valign=top aria-hidden=true>\\n<img src=https://www.gstatic.com/gumdrop/files/spacer-11.gif width=1 height=40 style=\"display: block;\">\\n</td>\\n</tr>\\n<tr>\\n<td align=left valign=top>\\n<table role=presentation cellpadding=0 cellspacing=0 border=0 align=left class=cta_width_outlook>\\n<tbody>\\n<tr>\\n<td align=center valign=top class=secondary_cta_other style=\"font-family: Google Sans, Google Sans Text, Roboto, Helvetica Neue, Helvetica, Arial, sans-serif; font-size: 16px; line-height: 24px; color: #ffffff; font-weight: 500; border-radius: 24px;letter-spacing: 0.25px;\">\\n<a class=\"out_secondary_cta secondary_cta\" href=https://notifications.google.com/g/p/ANiao5q5wppxA4k9OBpFUL0s0IVyAiSpNKknRkd_dgh9PI9KoS1Mq_kAljCGzwkGLa-oPj9asUU6zLS6Ct69msDXPiPCOSyTLKgUihBckM-E8ZDujneSxw37u_i3VD0RpbQy8jWPfeKZu-yiP9DgwFyU39fa0x9gmLD0BLOi1PgIxI6Jho2VIDh6kk6ZLyIo-w target=_blank style=\"text-decoration: none;border-radius: 24px;display: block;\">Find out more</a>\\n</td>\\n</tr>\\n</tbody>\\n</table>\\n</td>\\n</tr>\\n</table>\\n</td>\\n</tr>\\n</table>\\n</td>\\n</tr>\\n<tr>\\n<td align=left valign=middle style=\"border-bottom: 1px solid #DADCE0;\">\\n<table role=presentation cellpadding=0 cellspacing=0 border=0>\\n<tbody>\\n<tr>\\n<td align=center valign=middle aria-hidden=true>\\n<img src=https://www.gstatic.com/gumdrop/files/spacer-11.gif width=1 height=40 style=\"display: block;\">\\n</td>\\n</tr>\\n</tbody>\\n</table>\\n</td>\\n</tr>\\n<tr>\\n<td align=left valign=middle>\\n<table role=presentation cellpadding=0 cellspacing=0 border=0 align=left>\\n<tbody>\\n<tr>\\n<td align=center valign=middle aria-hidden=true>\\n<img src=https://www.gstatic.com/gumdrop/files/spacer-11.gif width=1 height=41 style=\"display: block;\">\\n</td>\\n</tr>\\n</tbody>\\n</table>\\n</td>\\n</tr>\\n<tr>\\n<td align=left valign=middle>\\n<table role=presentation cellpadding=0 cellspacing=0 border=0 align=left>\\n<tbody>\\n<tr>\\n<td align=left valign=middle style=\"font-family: Google Sans, Google Sans Text, Roboto, Helvetica Neue, Helvetica, Arial, sans-serif; font-size: 28px; line-height: 36px; font-weight: 400; color: #202124;\">\\nImprove your performance in May 2025\\n</td>\\n</tr>\\n</tbody>\\n</table>\\n</td>\\n</tr>\\n<tr>\\n<td align=left valign=middle>\\n<table role=presentation cellpadding=0 cellspacing=0 border=0 align=left>\\n<tbody>\\n<tr>\\n<td align=center valign=middle aria-hidden=true>\\n<img src=https://www.gstatic.com/gumdrop/files/spacer-11.gif width=1 height=8 style=\"display: block;\">\\n</td>\\n</tr>\\n</tbody>\\n</table>\\n</td>\\n</tr>\\n<tr>\\n<td align=center valign=middle>\\n<table class=\"reco reco-Standard\" role=presentation cellspacing=0 cellpadding=0 width=690 align=center>\\n<tr>\\n<td align=left valign=top style=\"padding-top: 40px;\">\\n<table class=reco-container role=presentation cellpadding=0 cellspacing=0 width=690 align=center>\\n<tr>\\n<td class=reco-contentPanel width=514 align=left valign=top>\\n<table role=presentation cellpadding=0 cellspacing=0>\\n<tr>\\n<td align=\"\" valign=top>\\n<table role=presentation cellpadding=0 cellspacing=0>\\n<tr>\\n<td aria-hidden=true class=\"reco-contentImpactIcon reco-icon\" valign=top style=\"padding-right: 8px\">\\n<img src=https://www.gstatic.com/gumdrop/files/merchant-center-icon-opportunities-transparent-w112px-h112px-2x.png width=28 style=\"display: block;\">\\n</td>\\n<td class=\"rec-outlook-contentTitle reco-contentTitle\" align=left valign=top style=\"font-family: Google Sans, Google Sans Text, Roboto, Helvetica Neue, Helvetica, Arial, sans-serif; font-size:18px; line-height: 28px; color:#202124; font-weight: 500; padding-right: 25px\">\\nMake fixes so customers can find your products\\n</td>\\n</tr>\\n</table>\\n</td>\\n</tr>\\n<tr>\\n<td aria-hidden=true align=\"\" valign=top>\\n<img src=https://www.gstatic.com/gumdrop/files/spacer-11.gif width=1 height=8 style=\"display: block;\">\\n</td>\\n</tr>\\n<tr>\\n<td class=reco-contentDescription style=\"font-family: Google Sans Text, Roboto, Helvetica Neue, Helvetica, Arial, sans-serif; font-size:14px; line-height: 21px; color:#5F6368;padding-right: 25px\">\\n123 of your products might have missing or inaccurate product details. Review and fix what needs attention.\\n</td>\\n</tr>\\n<tr>\\n<td valign=top style=\"padding-top: 12px;\">\\n<table class=reco-cta-table role=presentation cellpadding=0 cellspacing=0>\\n<tr>\\n<td valign=middle>\\n<table class=reco-cta-table role=presentation cellpadding=0 cellspacing=0>\\n<tr>\\n<td align=center valign=top aria-hidden=true>\\n<a href=https://notifications.google.com/g/p/ANiao5rjs6aj1XismbVp0fg4twODUYeWeeyZyHrhZTu2-GAc4FqIiqata_FqR3fzZwp6bfDTDsvq9FNIr5esTFQhsrzPHJqpKZkW9rckRL_RHc6c3sisVwwO_HuGUFTbFjPRX5O_qMn7ivoDmlkW-fA3pJY5e2zwA3K348sCjD3lYvwmwlbtmo73P-52mlutOl57LZdxNvSiKuxWpQZavaJfI-ovdFppJpvASGQeZV86tgDESnS4lsi6-rrFpf2NJarrIjMFew target=_blank><img src=https://www.gstatic.com/gumdrop/files/spacer-11.gif width=1 height=14 style=\"display: block;\"></a>\\n</td>\\n</tr>\\n<tr>\\n<td class=reco-cta align=left valign=middle>\\n<a class=\"reco-cta-link outbor4\" href=https://notifications.google.com/g/p/ANiao5rjs6aj1XismbVp0fg4twODUYeWeeyZyHrhZTu2-GAc4FqIiqata_FqR3fzZwp6bfDTDsvq9FNIr5esTFQhsrzPHJqpKZkW9rckRL_RHc6c3sisVwwO_HuGUFTbFjPRX5O_qMn7ivoDmlkW-fA3pJY5e2zwA3K348sCjD3lYvwmwlbtmo73P-52mlutOl57LZdxNvSiKuxWpQZavaJfI-ovdFppJpvASGQeZV86tgDESnS4lsi6-rrFpf2NJarrIjMFew target=_blank style=\"color:#1A73E8; text-decoration:none; font-size:14px; font-weight:500; line-height: 21px; display:block; font-family: Google Sans, Google Sans Text, Roboto, Helvetica Neue, Helvetica, Arial, sans-serif;\">Fix issues in Shopify</a>\\n</td>\\n</tr>\\n<tr>\\n<td align=center valign=top aria-hidden=true>\\n<a href=https://notifications.google.com/g/p/ANiao5rjs6aj1XismbVp0fg4twODUYeWeeyZyHrhZTu2-GAc4FqIiqata_FqR3fzZwp6bfDTDsvq9FNIr5esTFQhsrzPHJqpKZkW9rckRL_RHc6c3sisVwwO_HuGUFTbFjPRX5O_qMn7ivoDmlkW-fA3pJY5e2zwA3K348sCjD3lYvwmwlbtmo73P-52mlutOl57LZdxNvSiKuxWpQZavaJfI-ovdFppJpvASGQeZV86tgDESnS4lsi6-rrFpf2NJarrIjMFew target=_blank><img src=https://www.gstatic.com/gumdrop/files/spacer-11.gif width=1 height=13 style=\"display: block;\"></a>\\n</td>\\n</tr>\\n</table>\\n</td>\\n</tr>\\n</table>\\n</td>\\n</tr>\\n</table>\\n</td>\\n<td class=\"reco-imagePanel reco--desktop-only\" aria-hidden=true width=152 align=right valign=top style=\"padding-top: 0px\">\\n<a aria-hidden=true href=# style=\"text-decoration: none; width: 152; display: block;\"><img src=https://www.gstatic.com/merchants/tasks/card_illustration/product_issues.png width=152 style=\"display: block;\"></a>\\n</td>\\n</tr>\\n</table>\\n</td>\\n</tr>\\n</table>\\n</td>\\n</tr>\\n<tr>\\n<td align=left valign=middle style=\"border-bottom: 1px solid #DADCE0;\">\\n<table role=presentation cellpadding=0 cellspacing=0 border=0 align=left>\\n<tbody>\\n<tr>\\n<td align=center valign=middle aria-hidden=true>\\n<img src=https://www.gstatic.com/gumdrop/files/spacer-11.gif width=1 height=20 style=\"display: block;\">\\n</td>\\n</tr>\\n</tbody>\\n</table>\\n</td>\\n</tr>\\n<tr>\\n<td align=center valign=middle>\\n<table class=\"reco reco-Standard\" role=presentation cellspacing=0 cellpadding=0 width=690 align=center>\\n<tr>\\n<td align=left valign=top style=\"padding-top: 40px;\">\\n<table class=reco-container role=presentation cellpadding=0 cellspacing=0 width=690 align=center>\\n<tr>\\n<td class=reco-contentPanel width=514 align=left valign=top>\\n<table role=presentation cellpadding=0 cellspacing=0>\\n<tr>\\n<td align=\"\" valign=top>\\n<table role=presentation cellpadding=0 cellspacing=0>\\n<tr>\\n<td aria-hidden=true class=\"reco-contentImpactIcon reco-icon\" valign=top style=\"padding-right: 8px\">\\n<img src=https://www.gstatic.com/gumdrop/files/merchant-center-icon-updates-tips-transparent-w112px-h112px-2x.png width=28 style=\"display: block;\">\\n</td>\\n<td class=\"rec-outlook-contentTitle reco-contentTitle\" align=left valign=top style=\"font-family: Google Sans, Google Sans Text, Roboto, Helvetica Neue, Helvetica, Arial, sans-serif; font-size:18px; line-height: 28px; color:#202124; font-weight: 500; padding-right: 25px\">\\nImprove your product images with generative AI\\n</td>\\n</tr>\\n</table>\\n</td>\\n</tr>\\n<tr>\\n<td aria-hidden=true align=\"\" valign=top>\\n<img src=https://www.gstatic.com/gumdrop/files/spacer-11.gif width=1 height=8 style=\"display: block;\">\\n</td>\\n</tr>\\n<tr>\\n<td class=reco-contentDescription style=\"font-family: Google Sans Text, Roboto, Helvetica Neue, Helvetica, Arial, sans-serif; font-size:14px; line-height: 21px; color:#5F6368;padding-right: 25px\">\\nQuickly generate lifestyle scenes, increase image resolution, and edit backgrounds to attract customers.\\n<a href=https://notifications.google.com/g/p/ANiao5ptnEEeibphh01xdydYngmHMrUvOf1o3Mkqf-E_YG8MRcJary8mus_IDqegcAA739MAQUKRU-Z8enYGd7atXlflksXtqnVcUmEavcUMlpj_mzhaGvnQjQwIFRgL7qRk1hlZ8PGfpf2zu_x6wFEheCRKQi0WiUS5quWNY6IJHVneS_6bWSHoPp_KUkcIds_c5EWj1yKEv-1Ll8mT-AQl target=_blank style=\"color:#1A73E8;text-decoration:underline;; font-family: Google Sans, Google Sans Text, Roboto, Helvetica Neue, Helvetica, Arial, sans-serif;\">Learn more\\n</a>\\n</td>\\n</tr>\\n<tr>\\n<td valign=top style=\"padding-top: 12px;\">\\n<table class=reco-cta-table role=presentation cellpadding=0 cellspacing=0>\\n<tr>\\n<td valign=middle>\\n<table class=reco-cta-table role=presentation cellpadding=0 cellspacing=0>\\n<tr>\\n<td align=center valign=top aria-hidden=true>\\n<a href=https://notifications.google.com/g/p/ANiao5rDDQJGfTMVpHPXkMACV1MUMJBe74z1j0ta4MOyRdaN6ohqF06DGI1ieWBaFMqtb5jeLORzA6kdz6cGESyFt1TqmPGpoQzIjv4os0C9fVclxKH6yd3nO9ukQA6N7KL09AgiJhyEBGRljo69jqvtsvvw8jNx4rnE5u3ETIs_GMZi1Ig_BYN6f1D1yAJmYmtj4G9wbns4wS9KNp7hmain3YKuo5iSUJznhMX6r9HwOIJ0iv_ucdgNUSxBk08VHRZOOrzjfTe8AN1dKx3GWp6cVnAeU6Wi0J_zEfG6D3PicPyB1kz85ec49a4OnRE target=_blank><img src=https://www.gstatic.com/gumdrop/files/spacer-11.gif width=1 height=14 style=\"display: block;\"></a>\\n</td>\\n</tr>\\n<tr>\\n<td class=reco-cta align=left valign=middle>\\n<a class=\"reco-cta-link outbor4\" href=https://notifications.google.com/g/p/ANiao5rDDQJGfTMVpHPXkMACV1MUMJBe74z1j0ta4MOyRdaN6ohqF06DGI1ieWBaFMqtb5jeLORzA6kdz6cGESyFt1TqmPGpoQzIjv4os0C9fVclxKH6yd3nO9ukQA6N7KL09AgiJhyEBGRljo69jqvtsvvw8jNx4rnE5u3ETIs_GMZi1Ig_BYN6f1D1yAJmYmtj4G9wbns4wS9KNp7hmain3YKuo5iSUJznhMX6r9HwOIJ0iv_ucdgNUSxBk08VHRZOOrzjfTe8AN1dKx3GWp6cVnAeU6Wi0J_zEfG6D3PicPyB1kz85ec49a4OnRE target=_blank style=\"color:#1A73E8; text-decoration:none; font-size:14px; font-weight:500; line-height: 21px; display:block; font-family: Google Sans, Google Sans Text, Roboto, Helvetica Neue, Helvetica, Arial, sans-serif;\">Go to Product Studio in Shopify</a>\\n</td>\\n</tr>\\n<tr>\\n<td align=center valign=top aria-hidden=true>\\n<a href=https://notifications.google.com/g/p/ANiao5rDDQJGfTMVpHPXkMACV1MUMJBe74z1j0ta4MOyRdaN6ohqF06DGI1ieWBaFMqtb5jeLORzA6kdz6cGESyFt1TqmPGpoQzIjv4os0C9fVclxKH6yd3nO9ukQA6N7KL09AgiJhyEBGRljo69jqvtsvvw8jNx4rnE5u3ETIs_GMZi1Ig_BYN6f1D1yAJmYmtj4G9wbns4wS9KNp7hmain3YKuo5iSUJznhMX6r9HwOIJ0iv_ucdgNUSxBk08VHRZOOrzjfTe8AN1dKx3GWp6cVnAeU6Wi0J_zEfG6D3PicPyB1kz85ec49a4OnRE target=_blank><img src=https://www.gstatic.com/gumdrop/files/spacer-11.gif width=1 height=13 style=\"display: block;\"></a>\\n</td>\\n</tr>\\n</table>\\n</td>\\n</tr>\\n</table>\\n</td>\\n</tr>\\n</table>\\n</td>\\n<td class=\"reco-imagePanel reco--desktop-only\" aria-hidden=true width=152 align=right valign=top style=\"padding-top: 0px\">\\n<a aria-hidden=true href=# style=\"text-decoration: none; width: 152; display: block;\"><img src=https://www.gstatic.com/t3pi/channel/images/product_studio_intro.png width=152 style=\"display: block;\"></a>\\n</td>\\n</tr>\\n</table>\\n</td>\\n</tr>\\n</table>\\n</td>\\n</tr>\\n<tr>\\n<td align=left valign=middle style=\"border-bottom: 1px solid #DADCE0;\">\\n<table role=presentation cellpadding=0 cellspacing=0 border=0 align=left>\\n<tbody>\\n<tr>\\n<td align=center valign=middle aria-hidden=true>\\n<img src=https://www.gstatic.com/gumdrop/files/spacer-11.gif width=1 height=40 style=\"display: block;\">\\n</td>\\n</tr>\\n</tbody>\\n</table>\\n</td>\\n</tr>\\n<tr>\\n<td align=left valign=middle>\\n<table role=presentation cellpadding=0 cellspacing=0 border=0 align=left>\\n<tbody>\\n<tr>\\n<td align=center valign=middle aria-hidden=true>\\n<img src=https://www.gstatic.com/gumdrop/files/spacer-11.gif width=1 height=40 style=\"display: block;\">\\n</td>\\n</tr>\\n</tbody>\\n</table>\\n</td>\\n</tr>\\n<tr>\\n<td align=left valign=middle>\\n<table role=presentation cellpadding=0 cellspacing=0 border=0 align=left>\\n<tbody>\\n<tr>\\n<td align=left valign=middle style=\"font-family: Google Sans Text, Roboto, Helvetica Neue, Helvetica, Arial, sans-serif; font-size: 14px; line-height: 21px; font-weight: 400; color: #5F6368; letter-spacing: 0.25px;\">\\nSee <a href=https://notifications.google.com/g/p/ANiao5pHV9C8Zu1jeIF4JFBYeUqO-gg2P8pG6CQmKWO9bMRVE6eCo3ifHxBTNzQlE7cgTwqU6xtmvJJiT9wCEUB9ScL_cM10VrmC_w576PYXhbe51XmAHyszrUL4bvX-mlTdEyvtu7inWBZtUl3EFJOCY07VISEOh6kQo98WMCGtRP0vyS5BcM8MGe5Oizll target=_blank style=\"color: #1A73E8; text-decoration: underline;\">more recommendations</a> in Merchant Center.\\n</td>\\n</tr>\\n</tbody>\\n</table>\\n</td>\\n</tr>\\n<tr>\\n<td align=center valign=middle>\\n<table role=presentation cellpadding=0 cellspacing=0 border=0 align=center>\\n<tbody>\\n<tr>\\n<td align=center valign=middle aria-hidden=true>\\n<img src=https://www.gstatic.com/gumdrop/files/spacer-11.gif width=1 height=48 style=\"display: block;\">\\n</td>\\n</tr>\\n</tbody>\\n</table>\\n</td>\\n</tr>\\n</tbody>\\n</table>\\n</td>\\n</tr>\\n<!-- Footer Start -->\\n<tr>\\n<td align=center valign=top>\\n<table role=presentation cellpadding=0 cellspacing=0 border=0 width=100% style=\"background-color: #F8F9FA;\">\\n<tbody>\\n<tr>\\n<td align=center valign=top style=\"padding-left: 50px; padding-right: 50px;\" class=footer_pd>\\n<table role=presentation cellpadding=0 cellspacing=0 border=0 width=100%>\\n<tbody>\\n<tr>\\n<td align=left valign=middle aria-hidden=true>\\n<img src=https://www.gstatic.com/gumdrop/files/spacer-11.gif width=1 height=30 style=display:block;>\\n</td>\\n</tr>\\n<tr>\\n<td align=center valign=top>\\n<table role=presentation width=100% cellpadding=0 cellspacing=0 border=0>\\n<tbody>\\n<tr>\\n<td align=left valign=middle width=102>\\n<table role=presentation cellspacing=0 cellpadding=0 width=88>\\n<tbody>\\n<tr>\\n<td aria-hidden=true align=center valign=top>\\n<img aria-hidden=true src=https://www.gstatic.com/growthlab/api/gym0fMyvhWdp0K46NUzXeVcV8QeTj2sBjvLpemN9.png width=87 alt=\"\" title=Google border=0 style=display:block;>\\n</td>\\n</tr>\\n</tbody>\\n</table>\\n</td>\\n<td align=left valign=middle width=24 style=\"border-left: 1px solid #5F6368;\">\\n<table role=presentation cellspacing=0 cellpadding=0 border=0>\\n<tbody>\\n<tr>\\n<td align=left valign=middle aria-hidden=true>\\n<img src=https://www.gstatic.com/gumdrop/files/spacer-11.gif width=24 style=display:block;>\\n</td>\\n</tr>\\n</tbody>\\n</table>\\n</td>\\n<td align=left valign=middle>\\n<table role=presentation cellspacing=0 cellpadding=0 border=0>\\n<tbody>\\n<tr>\\n<td style=\"font-family: Google Sans Text, Roboto, Helvetica Neue, Helvetica, Arial, sans-serif; font-size:10px; line-height:15px; color:#5F6368;\" align=left dir=ltr><a target=_blank style=\"color:#5F6368; text-decoration:none;cursor:default;\">© 2025 Google LLC <br aria-hidden=true>1600 Amphitheatre Parkway,<br aria-hidden=true>Mountain View, CA 94043</a><br aria-hidden=true><a href=https://notifications.google.com/g/p/ANiao5phJPNC0eP7LqjBDHSce3bWe4SkJ4RGyWVvoYAJHfS3FoPiXwX_23sJXrWMgxc3pAO3480ZFfy_P8kMW3nyjwYfN0Pqcczpe8ufR5ZIl7lW5oEpZVDiPKbWZ9oVnNJcHOoDJPqVvA style=\"color: #5F6368; text-decoration: underline;cursor: default;pointer-events: none;\" target=_blank>www.google.com</a></td>\\n</tr>\\n</tbody>\\n</table>\\n</td>\\n</tr>\\n</tbody>\\n</table>\\n</td>\\n</tr>\\n<tr>\\n<td align=left valign=middle aria-hidden=true>\\n<img src=https://www.gstatic.com/gumdrop/files/spacer-11.gif width=1 height=30 style=display:block;>\\n</td>\\n</tr>\\n<tr>\\n<td align=left valign=top style=\"color: #5F6368; font-family: Google Sans Text, Roboto, Helvetica Neue, Helvetica, Arial, sans-serif; font-size:10px; line-height:15px;\">You have received this email because you opted to receive reporting updates from Google\\xa0Merchant\\xa0Center. If you do not wish to receive such emails in the future, you can unsubscribe <a href=https://myaccount.google.com/communication-preferences/unsubscribe/gt/ANiao5qPDjl1k_tk7Moz24TbPYYlag8GOVD9RD_WZKMASyNDBPQXNom6SDhNLpLQoFlPVCL-r9VpkAqDTfXeKMr9u3lWLrNIXynTZdWvRjw4OcClXCFIEMeyek2-YUMOhGwIs0V8VV6OJQsks8yN4FAEhyyfADfaRUw3WuSeXxB1Kgmzyn16vBkGl2PPONKzEeTTSmmKBr5Mw9Sj2UVcXz1hC6zcrFobIfxaTh7E9nB-2ANjoWLMj5T77nrwB5lor34n_MCD0Xsjneepcfi52QaP0sWy4WmIbWII6fP1jxmxZZ0Gj1U0bR4gckBP?utm_source=gm&amp;utm_medium=email&amp;auto=true target=_blank style=\"color:#1967D2; text-decoration:underline\">here</a><span aria-hidden=true>.</span></td>\\n</tr>\\n<tr>\\n<td align=left valign=middle aria-hidden=true>\\n<img src=https://www.gstatic.com/gumdrop/files/spacer-11.gif width=1 height=30 style=display:block;>\\n</td>\\n</tr>\\n</tbody>\\n</table>\\n</td>\\n</tr>\\n</tbody>\\n</table>\\n</td>\\n</tr>\\n<!-- Footer End -->\\n</tbody>\\n</table>\\n</td>\\n</tr>\\n</tbody>\\n</table>\\n</td>\\n</tr>\\n</tbody>\\n</table>\\n<img alt=\"\" height=1 width=3 src=https://notifications.google.com/g/img/ANiao5o5bMK_x7pHWorRDpAwPU66T0TffNovSuTzisXmUzeJu4p9MjfUsjhQfZkb3iPe1dtTka2MJjXY_7bNWIy4cewk1BFdLPp_WZrALIxlcwGPtAQw7IMkb-RIZ3Or4wrpgVJHKA.gif></body>\\n</html>',\n",
       " 'text': \"\\n\\n\\n\\n\\n\\n\\n\\n\\n\\nYour customer ID: 603232330\\n\\nYour business performance for April 2025\\n\\n\\n\\n\\n\\n\\n\\nHow your products performed (ads only)\\nClicks\\n282\\n-51.3%*\\n\\nImpressions\\n62.62K\\n-45.5%*\\n\\nCTR\\n0.5%\\n-10.6%*\\n\\n\\nManage campaigns <https://notifications.google.com/g/p/ANiao5p3ia-SeXXH6DD5_o9EMiDpsTG8_4IeiuiwDqjR4G97cJ1QmolP-oxN4lQnttX_GJClvGaihKmwXSPSgcsdmFSRjr5V9gR6N2uN0SYAMeJo13DlTRFPFMNZ9EaznFJKFF4d1-Yq-4cw8eA9vz-D51o8oPc-o6OEoALhh72JjXUnudKmChC6phKod1Db5T-hSUVpCeyRHn_r_4NKAhJ1BuVJb8oayLqOOA7QwMrrhPopTpK5DNJFqXuLZzkNlwM-XHPPixGymcYaDEMHPAp7JZnS3hIb90wnWlisxB_Oe-xVzd4DYaNNcfBjNck>\\n\\n\\n\\n\\n\\n\\nHow your products performed (organic & ads)\\nClicks\\n670\\n-31.4%*\\n\\nImpressions\\n89.26K\\n-34.1%*\\n\\nCTR\\n0.8%\\n+4.1%*\\n\\n\\n\\n\\n*Compared to March 2025\\n\\n\\nYour popular products\\nRed Rooster Ethiopia Worka Sakaro - Anaerobic Natural Berry & Floral Whole Bean (12OZ)\\n130 clicks\\n\\nRed Rooster Organic Floyd Farmhouse Breakfast Blend - Almond & Cacao Medium Roast Whole Bean (12OZ)\\n29 clicks\\n\\nEthiopia Worka Sakaro Anaerobic Natural 2LB / French Press\\n25 clicks\\n\\n\\n\\nSee performance <https://notifications.google.com/g/p/ANiao5roTFl_710-FastQZ-ymhk_1Hiijk8uQs2CW51y4uVpeyfzf7Ek6fdSM-gWcB8trSxKiMGW5VmFny09MoCdyTPy6CWARBiMc-OEZFybIJSGWEa9tNpaZ71DhK5pOCd1xOYZIzaq7Dp3nj5x6nIJdfGvrOH3AFGLvZf1iWM-ecKnz0B1KSMa2LCLbubswY0-uJFpmg_yzjagghPrvxJjGL3S2eFHxKkOObI4nTDe7_p7asfldtEnLNJvlAcokTfmp3QXinyzO_UU6OIP_ntiD1ZXPIpZQ6QsSKcp-Uug3nt-_BYYODBwIEpiWy5G54ziRGRpHwXKVX-KuxidozLjjURMWvE>\\n\\n\\nProduct status\\nSome of your products aren't showing to customers. Fix product issues to show them on Google.\\n\\nNot approved\\n37\\n\\nLimited\\n0\\n\\nApproved\\n706\\n\\nUnder review\\n0\\n\\nFix issues in Shopify <https://notifications.google.com/g/p/ANiao5qzl7jHO3MNcgmGTdgUpPg5xKLddu8lPnYXfkn7mUkvuMl3MDmSuFX-PP7Ei9_sqwGp9CAXyc0knL50B3W8d2maT1OdO3pcfLfgd0mza5U19Wqfi0kum5U4grcNyqTKs2zUuZrHHcjWLFQgeqCivPTM7H4v9Lkaczg_c5j2v60Ss7ikjBiKhweKL6GzdhcpPAWPsu1zRHZ67vOwzbEj0qQRZrB_-WuKgQ>\\n\\n\\n\\n\\n\\n\\n\\n\\n\\n\\n\\n\\n\\n\\n\\n\\n\\n\\nYour store quality scorecard in United States in April\\n\\nExceptional\\n\\nTop Quality Store\\n\\nLow\\n\\nFair\\n\\nGood\\n\\nGreat\\n\\nExceptional\\n\\nYou are a Top Quality Store\\n\\nFind out more <https://notifications.google.com/g/p/ANiao5rDVymo4hk-PfJ93H52cevN8hGu1Uqyd9uzt93nyAMOpnUGH0a31-kAIJoaYClfZqJBvGrs41cL8xaeoa4_Ox2c7QwJGcqq9G4osQjH8YWQpLth103kyl999a2UTVYjq4FI5O7-D7ZzqerTgCmuYh98oMCfpbhC3_3go1S2pcSJf2LLx03vX0sL2I8>\\n\\n\\n\\n\\n\\n\\n\\nImprove your performance in May 2025\\n\\n\\n\\n\\n\\n\\n\\n\\n\\n\\n\\n\\nMake fixes so customers can find your products\\n\\n123 of your products might have missing or inaccurate product details. Review and fix what needs attention.\\n\\n\\n\\nFix issues in Shopify <https://notifications.google.com/g/p/ANiao5qmnp7vopQRX0fI_5N0xKNeOOh1M4nr_N4jQyiBPkij2P1mHgN4mMFofuv9gSoxXRRzSA4sonieNNBLiRxAWZQopFzXLKV0yttfG_E7xsZakBNBI_SZmbVsvX3F7WtOV_ALiEd4aW5S2c17ftVrDJxxz8KQX2rJ3j8jv35WvCBrE9cZ7PJZ2OQQ84n4yYnQa_2mbt4VarAqwyH2r_CBQRMK04BZtUuudWy1I2ywOOK6CrhlSIQDbbePk6zCBZgnLXU>\\n\\n\\n\\n\\n\\n\\n\\n\\n\\n\\n\\n\\n\\n\\n\\n\\nImprove your product images with generative AI\\n\\nQuickly generate lifestyle scenes, increase image resolution, and edit backgrounds to attract customers. Learn more <https://notifications.google.com/g/p/ANiao5o7UksRsd4JRkeP3hmKB0r2hjv1_M6DgugHeGLmJ77j5p6uNVnpJrQ18InyruD50VtZe6PaJWRm6mwMLC9yoKzKm_ooFj2EnlmFNNaWB8KSCHrFREA5YhpXJjJqvQBEQ9_kR7fcvU2IiLGbGQ6Ho3Co1kaEBDTbxt4hx1xuRTlhYb0ofGLkmnXcmj0iLl35-bBDf7Uzf9u3CJcbYA>\\n\\n\\n\\nGo to Product Studio in Shopify <https://notifications.google.com/g/p/ANiao5qjfD9IkAl8eM_GD-reNQeTL0-8b9Wl5EP_2_fgCMUCxZFDSmO8fYWvMXpsZ_e7Np2ylyOF7hGwmoQxfOpNkN9Hqesw95kvokIFAD8_Xpc0ZmNkZ4wKULvM2CsTIrhjYPN-vxzR5qs_tANmQxnujxJDj82qwOF9AGK9TwH0jQsQxyUfDWMumFFH71DGM38KGr75io2VLpCWfskAkiGGcWJq822i--OYjeBzlzKq9UE_X4O5_CURBZ04ixORcNyZ-4r4vxqmx46XHNUrKOGisqYHO4r_h7sguhqEPfaetoggKGb7GicDNXXA>\\n\\n\\n\\n\\nSee more recommendations <https://notifications.google.com/g/p/ANiao5qKNFZdBBH1Qpyp-fm1nK0cVY7ZB6bLIEYQA7_owYJwbMhn_st6X2S5ntBLXHyVp0b4QNHaXIFI4IRKi0aRVho308y6qRHJAWQI3HaXJhCXNtONN2OcIlt63ZKc07ubXUkoyHuL92hVcFzJfiW3NZ2M-TZlbD6VzSPKS32Bd-eahL07jTbTb-ZfHg> in Merchant Center.\\n\\n\\n(c) 2025 Google LLC\\n1600 Amphitheatre Parkway,\\nMountain View, CA 94043\\nwww.google.com <https://notifications.google.com/g/p/ANiao5qVmZPCbTpZcx58jxe4dIEgQe_rYlj4MJJtHgBsSh0fcYb_2QhAvnOfPrzlZZLJHGtkV3CNy8P1uAnEYXKct9r0pQ8bumzs5RhLXPw0O-a23A_W8eaNZIV9vr7S318IBNQ-iLE>\\n\\nYou have received this email because you opted to receive reporting updates from Google Merchant Center. If you do not wish to receive such emails in the future, you can unsubscribe here <https://myaccount.google.com/communication-preferences/unsubscribe/gt/ANiao5r2T6BKVvaTs7OcH8ZzFOhovakaiNg5KHx-PQyffHXsQLLv8j88MAy63qiT1Wc0Rq1EoUs7rQmtYZ5CQkqz3I7Otk6qqdIrPvqoejth34w5rVWvQM9bzCl1WaGNooQIg_nLJhAmH6xnM9WZBoaiGAsitkyHAjWx4LfCB6pSNGdZb5kr0DfW2s9HVio7lqoqHVud_spnqh8W6p51t_bME3M5mftUPMesw0u1AnAKrgsJias8pvXIoUpFQ5osszg14GJUeojVmsV7L9lmUoNccZU91prUQmYmnyc8zNabSckz54jeQ0bNhg?utm_source=gm&utm_medium=email&auto=true>.\\n\",\n",
       " 'textAsHtml': '<p>Your customer ID: 603232330</p><p>Your business performance for April 2025</p><p>How your products performed (ads only)<br/>Clicks<br/>282<br/>-51.3%*</p><p>Impressions<br/>62.62K<br/>-45.5%*</p><p>CTR<br/>0.5%<br/>-10.6%*</p><p>Manage campaigns &lt;<a href=\"https://notifications.google.com/g/p/ANiao5p3ia-SeXXH6DD5_o9EMiDpsTG8_4IeiuiwDqjR4G97cJ1QmolP-oxN4lQnttX_GJClvGaihKmwXSPSgcsdmFSRjr5V9gR6N2uN0SYAMeJo13DlTRFPFMNZ9EaznFJKFF4d1-Yq-4cw8eA9vz-D51o8oPc-o6OEoALhh72JjXUnudKmChC6phKod1Db5T-hSUVpCeyRHn_r_4NKAhJ1BuVJb8oayLqOOA7QwMrrhPopTpK5DNJFqXuLZzkNlwM-XHPPixGymcYaDEMHPAp7JZnS3hIb90wnWlisxB_Oe-xVzd4DYaNNcfBjNck\">https://notifications.google.com/g/p/ANiao5p3ia-SeXXH6DD5_o9EMiDpsTG8_4IeiuiwDqjR4G97cJ1QmolP-oxN4lQnttX_GJClvGaihKmwXSPSgcsdmFSRjr5V9gR6N2uN0SYAMeJo13DlTRFPFMNZ9EaznFJKFF4d1-Yq-4cw8eA9vz-D51o8oPc-o6OEoALhh72JjXUnudKmChC6phKod1Db5T-hSUVpCeyRHn_r_4NKAhJ1BuVJb8oayLqOOA7QwMrrhPopTpK5DNJFqXuLZzkNlwM-XHPPixGymcYaDEMHPAp7JZnS3hIb90wnWlisxB_Oe-xVzd4DYaNNcfBjNck</a>&gt;</p><p>How your products performed (organic &amp; ads)<br/>Clicks<br/>670<br/>-31.4%*</p><p>Impressions<br/>89.26K<br/>-34.1%*</p><p>CTR<br/>0.8%<br/>+4.1%*</p><p>*Compared to March 2025</p><p>Your popular products<br/>Red Rooster Ethiopia Worka Sakaro - Anaerobic Natural Berry &amp; Floral Whole Bean (12OZ)<br/>130 clicks</p><p>Red Rooster Organic Floyd Farmhouse Breakfast Blend - Almond &amp; Cacao Medium Roast Whole Bean (12OZ)<br/>29 clicks</p><p>Ethiopia Worka Sakaro Anaerobic Natural 2LB / French Press<br/>25 clicks</p><p>See performance &lt;<a href=\"https://notifications.google.com/g/p/ANiao5roTFl_710-FastQZ-ymhk_1Hiijk8uQs2CW51y4uVpeyfzf7Ek6fdSM-gWcB8trSxKiMGW5VmFny09MoCdyTPy6CWARBiMc-OEZFybIJSGWEa9tNpaZ71DhK5pOCd1xOYZIzaq7Dp3nj5x6nIJdfGvrOH3AFGLvZf1iWM-ecKnz0B1KSMa2LCLbubswY0-uJFpmg_yzjagghPrvxJjGL3S2eFHxKkOObI4nTDe7_p7asfldtEnLNJvlAcokTfmp3QXinyzO_UU6OIP_ntiD1ZXPIpZQ6QsSKcp-Uug3nt-_BYYODBwIEpiWy5G54ziRGRpHwXKVX-KuxidozLjjURMWvE\">https://notifications.google.com/g/p/ANiao5roTFl_710-FastQZ-ymhk_1Hiijk8uQs2CW51y4uVpeyfzf7Ek6fdSM-gWcB8trSxKiMGW5VmFny09MoCdyTPy6CWARBiMc-OEZFybIJSGWEa9tNpaZ71DhK5pOCd1xOYZIzaq7Dp3nj5x6nIJdfGvrOH3AFGLvZf1iWM-ecKnz0B1KSMa2LCLbubswY0-uJFpmg_yzjagghPrvxJjGL3S2eFHxKkOObI4nTDe7_p7asfldtEnLNJvlAcokTfmp3QXinyzO_UU6OIP_ntiD1ZXPIpZQ6QsSKcp-Uug3nt-_BYYODBwIEpiWy5G54ziRGRpHwXKVX-KuxidozLjjURMWvE</a>&gt;</p><p>Product status<br/>Some of your products aren&apos;t showing to customers. Fix product issues to show them on Google.</p><p>Not approved<br/>37</p><p>Limited<br/>0</p><p>Approved<br/>706</p><p>Under review<br/>0</p><p>Fix issues in Shopify &lt;<a href=\"https://notifications.google.com/g/p/ANiao5qzl7jHO3MNcgmGTdgUpPg5xKLddu8lPnYXfkn7mUkvuMl3MDmSuFX-PP7Ei9_sqwGp9CAXyc0knL50B3W8d2maT1OdO3pcfLfgd0mza5U19Wqfi0kum5U4grcNyqTKs2zUuZrHHcjWLFQgeqCivPTM7H4v9Lkaczg_c5j2v60Ss7ikjBiKhweKL6GzdhcpPAWPsu1zRHZ67vOwzbEj0qQRZrB_-WuKgQ\">https://notifications.google.com/g/p/ANiao5qzl7jHO3MNcgmGTdgUpPg5xKLddu8lPnYXfkn7mUkvuMl3MDmSuFX-PP7Ei9_sqwGp9CAXyc0knL50B3W8d2maT1OdO3pcfLfgd0mza5U19Wqfi0kum5U4grcNyqTKs2zUuZrHHcjWLFQgeqCivPTM7H4v9Lkaczg_c5j2v60Ss7ikjBiKhweKL6GzdhcpPAWPsu1zRHZ67vOwzbEj0qQRZrB_-WuKgQ</a>&gt;</p><p>Your store quality scorecard in United States in April</p><p>Exceptional</p><p>Top Quality Store</p><p>Low</p><p>Fair</p><p>Good</p><p>Great</p><p>Exceptional</p><p>You are a Top Quality Store</p><p>Find out more &lt;<a href=\"https://notifications.google.com/g/p/ANiao5rDVymo4hk-PfJ93H52cevN8hGu1Uqyd9uzt93nyAMOpnUGH0a31-kAIJoaYClfZqJBvGrs41cL8xaeoa4_Ox2c7QwJGcqq9G4osQjH8YWQpLth103kyl999a2UTVYjq4FI5O7-D7ZzqerTgCmuYh98oMCfpbhC3_3go1S2pcSJf2LLx03vX0sL2I8\">https://notifications.google.com/g/p/ANiao5rDVymo4hk-PfJ93H52cevN8hGu1Uqyd9uzt93nyAMOpnUGH0a31-kAIJoaYClfZqJBvGrs41cL8xaeoa4_Ox2c7QwJGcqq9G4osQjH8YWQpLth103kyl999a2UTVYjq4FI5O7-D7ZzqerTgCmuYh98oMCfpbhC3_3go1S2pcSJf2LLx03vX0sL2I8</a>&gt;</p><p>Improve your performance in May 2025</p><p>Make fixes so customers can find your products</p><p>123 of your products might have missing or inaccurate product details. Review and fix what needs attention.</p><p>Fix issues in Shopify &lt;<a href=\"https://notifications.google.com/g/p/ANiao5qmnp7vopQRX0fI_5N0xKNeOOh1M4nr_N4jQyiBPkij2P1mHgN4mMFofuv9gSoxXRRzSA4sonieNNBLiRxAWZQopFzXLKV0yttfG_E7xsZakBNBI_SZmbVsvX3F7WtOV_ALiEd4aW5S2c17ftVrDJxxz8KQX2rJ3j8jv35WvCBrE9cZ7PJZ2OQQ84n4yYnQa_2mbt4VarAqwyH2r_CBQRMK04BZtUuudWy1I2ywOOK6CrhlSIQDbbePk6zCBZgnLXU\">https://notifications.google.com/g/p/ANiao5qmnp7vopQRX0fI_5N0xKNeOOh1M4nr_N4jQyiBPkij2P1mHgN4mMFofuv9gSoxXRRzSA4sonieNNBLiRxAWZQopFzXLKV0yttfG_E7xsZakBNBI_SZmbVsvX3F7WtOV_ALiEd4aW5S2c17ftVrDJxxz8KQX2rJ3j8jv35WvCBrE9cZ7PJZ2OQQ84n4yYnQa_2mbt4VarAqwyH2r_CBQRMK04BZtUuudWy1I2ywOOK6CrhlSIQDbbePk6zCBZgnLXU</a>&gt;</p><p>Improve your product images with generative AI</p><p>Quickly generate lifestyle scenes, increase image resolution, and edit backgrounds to attract customers. Learn more &lt;<a href=\"https://notifications.google.com/g/p/ANiao5o7UksRsd4JRkeP3hmKB0r2hjv1_M6DgugHeGLmJ77j5p6uNVnpJrQ18InyruD50VtZe6PaJWRm6mwMLC9yoKzKm_ooFj2EnlmFNNaWB8KSCHrFREA5YhpXJjJqvQBEQ9_kR7fcvU2IiLGbGQ6Ho3Co1kaEBDTbxt4hx1xuRTlhYb0ofGLkmnXcmj0iLl35-bBDf7Uzf9u3CJcbYA\">https://notifications.google.com/g/p/ANiao5o7UksRsd4JRkeP3hmKB0r2hjv1_M6DgugHeGLmJ77j5p6uNVnpJrQ18InyruD50VtZe6PaJWRm6mwMLC9yoKzKm_ooFj2EnlmFNNaWB8KSCHrFREA5YhpXJjJqvQBEQ9_kR7fcvU2IiLGbGQ6Ho3Co1kaEBDTbxt4hx1xuRTlhYb0ofGLkmnXcmj0iLl35-bBDf7Uzf9u3CJcbYA</a>&gt;</p><p>Go to Product Studio in Shopify &lt;<a href=\"https://notifications.google.com/g/p/ANiao5qjfD9IkAl8eM_GD-reNQeTL0-8b9Wl5EP_2_fgCMUCxZFDSmO8fYWvMXpsZ_e7Np2ylyOF7hGwmoQxfOpNkN9Hqesw95kvokIFAD8_Xpc0ZmNkZ4wKULvM2CsTIrhjYPN-vxzR5qs_tANmQxnujxJDj82qwOF9AGK9TwH0jQsQxyUfDWMumFFH71DGM38KGr75io2VLpCWfskAkiGGcWJq822i--OYjeBzlzKq9UE_X4O5_CURBZ04ixORcNyZ-4r4vxqmx46XHNUrKOGisqYHO4r_h7sguhqEPfaetoggKGb7GicDNXXA\">https://notifications.google.com/g/p/ANiao5qjfD9IkAl8eM_GD-reNQeTL0-8b9Wl5EP_2_fgCMUCxZFDSmO8fYWvMXpsZ_e7Np2ylyOF7hGwmoQxfOpNkN9Hqesw95kvokIFAD8_Xpc0ZmNkZ4wKULvM2CsTIrhjYPN-vxzR5qs_tANmQxnujxJDj82qwOF9AGK9TwH0jQsQxyUfDWMumFFH71DGM38KGr75io2VLpCWfskAkiGGcWJq822i--OYjeBzlzKq9UE_X4O5_CURBZ04ixORcNyZ-4r4vxqmx46XHNUrKOGisqYHO4r_h7sguhqEPfaetoggKGb7GicDNXXA</a>&gt;</p><p>See more recommendations &lt;<a href=\"https://notifications.google.com/g/p/ANiao5qKNFZdBBH1Qpyp-fm1nK0cVY7ZB6bLIEYQA7_owYJwbMhn_st6X2S5ntBLXHyVp0b4QNHaXIFI4IRKi0aRVho308y6qRHJAWQI3HaXJhCXNtONN2OcIlt63ZKc07ubXUkoyHuL92hVcFzJfiW3NZ2M-TZlbD6VzSPKS32Bd-eahL07jTbTb-ZfHg\">https://notifications.google.com/g/p/ANiao5qKNFZdBBH1Qpyp-fm1nK0cVY7ZB6bLIEYQA7_owYJwbMhn_st6X2S5ntBLXHyVp0b4QNHaXIFI4IRKi0aRVho308y6qRHJAWQI3HaXJhCXNtONN2OcIlt63ZKc07ubXUkoyHuL92hVcFzJfiW3NZ2M-TZlbD6VzSPKS32Bd-eahL07jTbTb-ZfHg</a>&gt; in Merchant Center.</p><p>(c) 2025 Google LLC<br/>1600 Amphitheatre Parkway,<br/>Mountain View, CA 94043<br/><a href=\"http://www.google.com\">www.google.com</a> &lt;<a href=\"https://notifications.google.com/g/p/ANiao5qVmZPCbTpZcx58jxe4dIEgQe_rYlj4MJJtHgBsSh0fcYb_2QhAvnOfPrzlZZLJHGtkV3CNy8P1uAnEYXKct9r0pQ8bumzs5RhLXPw0O-a23A_W8eaNZIV9vr7S318IBNQ-iLE\">https://notifications.google.com/g/p/ANiao5qVmZPCbTpZcx58jxe4dIEgQe_rYlj4MJJtHgBsSh0fcYb_2QhAvnOfPrzlZZLJHGtkV3CNy8P1uAnEYXKct9r0pQ8bumzs5RhLXPw0O-a23A_W8eaNZIV9vr7S318IBNQ-iLE</a>&gt;</p><p>You have received this email because you opted to receive reporting updates from Google Merchant Center. If you do not wish to receive such emails in the future, you can unsubscribe here &lt;<a href=\"https://myaccount.google.com/communication-preferences/unsubscribe/gt/ANiao5r2T6BKVvaTs7OcH8ZzFOhovakaiNg5KHx-PQyffHXsQLLv8j88MAy63qiT1Wc0Rq1EoUs7rQmtYZ5CQkqz3I7Otk6qqdIrPvqoejth34w5rVWvQM9bzCl1WaGNooQIg_nLJhAmH6xnM9WZBoaiGAsitkyHAjWx4LfCB6pSNGdZb5kr0DfW2s9HVio7lqoqHVud_spnqh8W6p51t_bME3M5mftUPMesw0u1AnAKrgsJias8pvXIoUpFQ5osszg14GJUeojVmsV7L9lmUoNccZU91prUQmYmnyc8zNabSckz54jeQ0bNhg?utm_source=gm&utm_medium=email&auto=true\">https://myaccount.google.com/communication-preferences/unsubscribe/gt/ANiao5r2T6BKVvaTs7OcH8ZzFOhovakaiNg5KHx-PQyffHXsQLLv8j88MAy63qiT1Wc0Rq1EoUs7rQmtYZ5CQkqz3I7Otk6qqdIrPvqoejth34w5rVWvQM9bzCl1WaGNooQIg_nLJhAmH6xnM9WZBoaiGAsitkyHAjWx4LfCB6pSNGdZb5kr0DfW2s9HVio7lqoqHVud_spnqh8W6p51t_bME3M5mftUPMesw0u1AnAKrgsJias8pvXIoUpFQ5osszg14GJUeojVmsV7L9lmUoNccZU91prUQmYmnyc8zNabSckz54jeQ0bNhg?utm_source=gm&utm_medium=email&auto=true</a>&gt;.</p>',\n",
       " 'subject': 'Red Rooster Coffee, your performance for April 2025',\n",
       " 'date': '2025-05-08T16:03:49.000Z',\n",
       " 'to': {'value': [{'address': 'matt@bluewatermarketing.com', 'name': ''}],\n",
       "  'html': '<span class=\"mp_address_group\"><a href=\"mailto:matt@bluewatermarketing.com\" class=\"mp_address_email\">matt@bluewatermarketing.com</a></span>',\n",
       "  'text': 'matt@bluewatermarketing.com'},\n",
       " 'from': {'value': [{'address': 'googlebase-noreply@google.com',\n",
       "    'name': 'Google Merchant Center'}],\n",
       "  'html': '<span class=\"mp_address_group\"><span class=\"mp_address_name\">Google Merchant Center</span> &lt;<a href=\"mailto:googlebase-noreply@google.com\" class=\"mp_address_email\">googlebase-noreply@google.com</a>&gt;</span>',\n",
       "  'text': '\"Google Merchant Center\" <googlebase-noreply@google.com>'},\n",
       " 'messageId': '<e7b678796975492aefabf2359ecaf2a9fa419828-20268176-111454362@google.com>',\n",
       " 'replyTo': {'value': [{'address': 'googlebase-noreply@google.com',\n",
       "    'name': 'Google Merchant Center'}],\n",
       "  'html': '<span class=\"mp_address_group\"><span class=\"mp_address_name\">Google Merchant Center</span> &lt;<a href=\"mailto:googlebase-noreply@google.com\" class=\"mp_address_email\">googlebase-noreply@google.com</a>&gt;</span>',\n",
       "  'text': '\"Google Merchant Center\" <googlebase-noreply@google.com>'}}"
      ]
     },
     "execution_count": 43,
     "metadata": {},
     "output_type": "execute_result"
    }
   ],
   "source": [
    "email"
   ]
  },
  {
   "cell_type": "code",
   "execution_count": 45,
   "id": "abec3ada",
   "metadata": {},
   "outputs": [
    {
     "name": "stdout",
     "output_type": "stream",
     "text": [
      "\n",
      "\n",
      "\n",
      "\n",
      "\n",
      "\n",
      "\n",
      "\n",
      "\n",
      "\n",
      "Your customer ID: 603232330\n",
      "\n",
      "Your business performance for April 2025\n",
      "\n",
      "\n",
      "\n",
      "\n",
      "\n",
      "\n",
      "\n",
      "How your products performed (ads only)\n",
      "Clicks\n",
      "282\n",
      "-51.3%*\n",
      "\n",
      "Impressions\n",
      "62.62K\n",
      "-45.5%*\n",
      "\n",
      "CTR\n",
      "0.5%\n",
      "-10.6%*\n",
      "\n",
      "\n",
      "Manage campaigns <https://notifications.google.com/g/p/ANiao5p3ia-SeXXH6DD5_o9EMiDpsTG8_4IeiuiwDqjR4G97cJ1QmolP-oxN4lQnttX_GJClvGaihKmwXSPSgcsdmFSRjr5V9gR6N2uN0SYAMeJo13DlTRFPFMNZ9EaznFJKFF4d1-Yq-4cw8eA9vz-D51o8oPc-o6OEoALhh72JjXUnudKmChC6phKod1Db5T-hSUVpCeyRHn_r_4NKAhJ1BuVJb8oayLqOOA7QwMrrhPopTpK5DNJFqXuLZzkNlwM-XHPPixGymcYaDEMHPAp7JZnS3hIb90wnWlisxB_Oe-xVzd4DYaNNcfBjNck>\n",
      "\n",
      "\n",
      "\n",
      "\n",
      "\n",
      "\n",
      "How your products performed (organic & ads)\n",
      "Clicks\n",
      "670\n",
      "-31.4%*\n",
      "\n",
      "Impressions\n",
      "89.26K\n",
      "-34.1%*\n",
      "\n",
      "CTR\n",
      "0.8%\n",
      "+4.1%*\n",
      "\n",
      "\n",
      "\n",
      "\n",
      "*Compared to March 2025\n",
      "\n",
      "\n",
      "Your popular products\n",
      "Red Rooster Ethiopia Worka Sakaro - Anaerobic Natural Berry & Floral Whole Bean (12OZ)\n",
      "130 clicks\n",
      "\n",
      "Red Rooster Organic Floyd Farmhouse Breakfast Blend - Almond & Cacao Medium Roast Whole Bean (12OZ)\n",
      "29 clicks\n",
      "\n",
      "Ethiopia Worka Sakaro Anaerobic Natural 2LB / French Press\n",
      "25 clicks\n",
      "\n",
      "\n",
      "\n",
      "See performance <https://notifications.google.com/g/p/ANiao5roTFl_710-FastQZ-ymhk_1Hiijk8uQs2CW51y4uVpeyfzf7Ek6fdSM-gWcB8trSxKiMGW5VmFny09MoCdyTPy6CWARBiMc-OEZFybIJSGWEa9tNpaZ71DhK5pOCd1xOYZIzaq7Dp3nj5x6nIJdfGvrOH3AFGLvZf1iWM-ecKnz0B1KSMa2LCLbubswY0-uJFpmg_yzjagghPrvxJjGL3S2eFHxKkOObI4nTDe7_p7asfldtEnLNJvlAcokTfmp3QXinyzO_UU6OIP_ntiD1ZXPIpZQ6QsSKcp-Uug3nt-_BYYODBwIEpiWy5G54ziRGRpHwXKVX-KuxidozLjjURMWvE>\n",
      "\n",
      "\n",
      "Product status\n",
      "Some of your products aren't showing to customers. Fix product issues to show them on Google.\n",
      "\n",
      "Not approved\n",
      "37\n",
      "\n",
      "Limited\n",
      "0\n",
      "\n",
      "Approved\n",
      "706\n",
      "\n",
      "Under review\n",
      "0\n",
      "\n",
      "Fix issues in Shopify <https://notifications.google.com/g/p/ANiao5qzl7jHO3MNcgmGTdgUpPg5xKLddu8lPnYXfkn7mUkvuMl3MDmSuFX-PP7Ei9_sqwGp9CAXyc0knL50B3W8d2maT1OdO3pcfLfgd0mza5U19Wqfi0kum5U4grcNyqTKs2zUuZrHHcjWLFQgeqCivPTM7H4v9Lkaczg_c5j2v60Ss7ikjBiKhweKL6GzdhcpPAWPsu1zRHZ67vOwzbEj0qQRZrB_-WuKgQ>\n",
      "\n",
      "\n",
      "\n",
      "\n",
      "\n",
      "\n",
      "\n",
      "\n",
      "\n",
      "\n",
      "\n",
      "\n",
      "\n",
      "\n",
      "\n",
      "\n",
      "\n",
      "\n",
      "Your store quality scorecard in United States in April\n",
      "\n",
      "Exceptional\n",
      "\n",
      "Top Quality Store\n",
      "\n",
      "Low\n",
      "\n",
      "Fair\n",
      "\n",
      "Good\n",
      "\n",
      "Great\n",
      "\n",
      "Exceptional\n",
      "\n",
      "You are a Top Quality Store\n",
      "\n",
      "Find out more <https://notifications.google.com/g/p/ANiao5rDVymo4hk-PfJ93H52cevN8hGu1Uqyd9uzt93nyAMOpnUGH0a31-kAIJoaYClfZqJBvGrs41cL8xaeoa4_Ox2c7QwJGcqq9G4osQjH8YWQpLth103kyl999a2UTVYjq4FI5O7-D7ZzqerTgCmuYh98oMCfpbhC3_3go1S2pcSJf2LLx03vX0sL2I8>\n",
      "\n",
      "\n",
      "\n",
      "\n",
      "\n",
      "\n",
      "\n",
      "Improve your performance in May 2025\n",
      "\n",
      "\n",
      "\n",
      "\n",
      "\n",
      "\n",
      "\n",
      "\n",
      "\n",
      "\n",
      "\n",
      "\n",
      "Make fixes so customers can find your products\n",
      "\n",
      "123 of your products might have missing or inaccurate product details. Review and fix what needs attention.\n",
      "\n",
      "\n",
      "\n",
      "Fix issues in Shopify <https://notifications.google.com/g/p/ANiao5qmnp7vopQRX0fI_5N0xKNeOOh1M4nr_N4jQyiBPkij2P1mHgN4mMFofuv9gSoxXRRzSA4sonieNNBLiRxAWZQopFzXLKV0yttfG_E7xsZakBNBI_SZmbVsvX3F7WtOV_ALiEd4aW5S2c17ftVrDJxxz8KQX2rJ3j8jv35WvCBrE9cZ7PJZ2OQQ84n4yYnQa_2mbt4VarAqwyH2r_CBQRMK04BZtUuudWy1I2ywOOK6CrhlSIQDbbePk6zCBZgnLXU>\n",
      "\n",
      "\n",
      "\n",
      "\n",
      "\n",
      "\n",
      "\n",
      "\n",
      "\n",
      "\n",
      "\n",
      "\n",
      "\n",
      "\n",
      "\n",
      "\n",
      "Improve your product images with generative AI\n",
      "\n",
      "Quickly generate lifestyle scenes, increase image resolution, and edit backgrounds to attract customers. Learn more <https://notifications.google.com/g/p/ANiao5o7UksRsd4JRkeP3hmKB0r2hjv1_M6DgugHeGLmJ77j5p6uNVnpJrQ18InyruD50VtZe6PaJWRm6mwMLC9yoKzKm_ooFj2EnlmFNNaWB8KSCHrFREA5YhpXJjJqvQBEQ9_kR7fcvU2IiLGbGQ6Ho3Co1kaEBDTbxt4hx1xuRTlhYb0ofGLkmnXcmj0iLl35-bBDf7Uzf9u3CJcbYA>\n",
      "\n",
      "\n",
      "\n",
      "Go to Product Studio in Shopify <https://notifications.google.com/g/p/ANiao5qjfD9IkAl8eM_GD-reNQeTL0-8b9Wl5EP_2_fgCMUCxZFDSmO8fYWvMXpsZ_e7Np2ylyOF7hGwmoQxfOpNkN9Hqesw95kvokIFAD8_Xpc0ZmNkZ4wKULvM2CsTIrhjYPN-vxzR5qs_tANmQxnujxJDj82qwOF9AGK9TwH0jQsQxyUfDWMumFFH71DGM38KGr75io2VLpCWfskAkiGGcWJq822i--OYjeBzlzKq9UE_X4O5_CURBZ04ixORcNyZ-4r4vxqmx46XHNUrKOGisqYHO4r_h7sguhqEPfaetoggKGb7GicDNXXA>\n",
      "\n",
      "\n",
      "\n",
      "\n",
      "See more recommendations <https://notifications.google.com/g/p/ANiao5qKNFZdBBH1Qpyp-fm1nK0cVY7ZB6bLIEYQA7_owYJwbMhn_st6X2S5ntBLXHyVp0b4QNHaXIFI4IRKi0aRVho308y6qRHJAWQI3HaXJhCXNtONN2OcIlt63ZKc07ubXUkoyHuL92hVcFzJfiW3NZ2M-TZlbD6VzSPKS32Bd-eahL07jTbTb-ZfHg> in Merchant Center.\n",
      "\n",
      "\n",
      "(c) 2025 Google LLC\n",
      "1600 Amphitheatre Parkway,\n",
      "Mountain View, CA 94043\n",
      "www.google.com <https://notifications.google.com/g/p/ANiao5qVmZPCbTpZcx58jxe4dIEgQe_rYlj4MJJtHgBsSh0fcYb_2QhAvnOfPrzlZZLJHGtkV3CNy8P1uAnEYXKct9r0pQ8bumzs5RhLXPw0O-a23A_W8eaNZIV9vr7S318IBNQ-iLE>\n",
      "\n",
      "You have received this email because you opted to receive reporting updates from Google Merchant Center. If you do not wish to receive such emails in the future, you can unsubscribe here <https://myaccount.google.com/communication-preferences/unsubscribe/gt/ANiao5r2T6BKVvaTs7OcH8ZzFOhovakaiNg5KHx-PQyffHXsQLLv8j88MAy63qiT1Wc0Rq1EoUs7rQmtYZ5CQkqz3I7Otk6qqdIrPvqoejth34w5rVWvQM9bzCl1WaGNooQIg_nLJhAmH6xnM9WZBoaiGAsitkyHAjWx4LfCB6pSNGdZb5kr0DfW2s9HVio7lqoqHVud_spnqh8W6p51t_bME3M5mftUPMesw0u1AnAKrgsJias8pvXIoUpFQ5osszg14GJUeojVmsV7L9lmUoNccZU91prUQmYmnyc8zNabSckz54jeQ0bNhg?utm_source=gm&utm_medium=email&auto=true>.\n",
      "\n"
     ]
    }
   ],
   "source": [
    "print(email[\"text\"])"
   ]
  },
  {
   "cell_type": "code",
   "execution_count": 79,
   "id": "0e86b442",
   "metadata": {},
   "outputs": [],
   "source": [
    "morning_brief = json.load(open(\"../artifacts/morning_brief.json\"))"
   ]
  },
  {
   "cell_type": "code",
   "execution_count": 82,
   "id": "ba2f34b5",
   "metadata": {},
   "outputs": [
    {
     "name": "stdout",
     "output_type": "stream",
     "text": [
      "Good morning,\n",
      "\n",
      "Here is your brief for today:\n",
      "\n",
      "Top 5 Action Items\n",
      "1. Review and approve the 30-second Popcorn video for Bulk Candy Store (Rationale: Pending tasks from Billo App).\n",
      "2. Review and respond to your Unread message on Upwork from Dinesh K (Rationale: Relevant to job DTC Static Ads Designer).\n",
      "3. Review and approve Fred from Fireflies AI's meeting preparation and action items on 'PerfSol / Blue Water' project (Rationale: Necessary for project progress).\n",
      "4. Respond to Ray from Atria about collaboration on case study spotlighting AI-powered ad optimization success (Rationale: Potential for extra visibility, credibility, and marketing materials for company).\n",
      "5. Respond to Akshat Biyani's White Label partnership proposal for flexibility in pricing (Rationale: Potential beneficial partnership for Blue Water Marketing).\n",
      "\n",
      "Urgent Follow-Ups\n",
      "1. Confirm receipt of the updated list for May 2025 from Suparna Chakrobarty.\n",
      "2. Confirm the acceptance of the strategy call with Phillip from ALWRLD\n",
      "\n",
      "Meeting List\n",
      "1. Red Rooster Strategy Call with Jolie Greatorex on May 9, 2025 at 10:30 AM EDT\n",
      "2. Strategy Call with Rob Healy on May 13, 2025, at 1:15 PM (Contact: Chris from Bluewater Marketing)\n",
      "\n",
      "Suggestions:\n",
      "- Delegate: Assign the task of reviewing and approving the content caption related to Google Ad Spend from Clickup to a team member.\n",
      "- Defer: Respond to the offer from M&A Consultant, Moe Afifah about potential selling of BlueWaterMarketing.\n",
      "- Respond Now: Contact Chris K., the new training sign-up on the BWM website upon his sign-up for a free training.\n",
      "\n",
      "Today's focus should be on attending the scheduled calls, following up on job progress from your teams, and checking your ads' performance. Remember to review the offers and proposals you received and respond accordingly.\n"
     ]
    }
   ],
   "source": [
    "print(morning_brief[0][\"message\"][\"content\"])"
   ]
  },
  {
   "cell_type": "code",
   "execution_count": null,
   "id": "f3ad08a2",
   "metadata": {},
   "outputs": [],
   "source": []
  }
 ],
 "metadata": {
  "kernelspec": {
   "display_name": "Python 3",
   "language": "python",
   "name": "python3"
  },
  "language_info": {
   "codemirror_mode": {
    "name": "ipython",
    "version": 3
   },
   "file_extension": ".py",
   "mimetype": "text/x-python",
   "name": "python",
   "nbconvert_exporter": "python",
   "pygments_lexer": "ipython3",
   "version": "3.10.12"
  }
 },
 "nbformat": 4,
 "nbformat_minor": 5
}
