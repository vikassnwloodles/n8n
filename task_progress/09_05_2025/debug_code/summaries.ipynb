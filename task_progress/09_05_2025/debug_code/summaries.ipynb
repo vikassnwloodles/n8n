{
 "cells": [
  {
   "cell_type": "code",
   "execution_count": 2,
   "id": "aca9eb05",
   "metadata": {},
   "outputs": [],
   "source": [
    "import json"
   ]
  },
  {
   "cell_type": "code",
   "execution_count": 10,
   "id": "f9b247b8",
   "metadata": {},
   "outputs": [],
   "source": [
    "summaries = json.load(open(\"../artifacts/summaries2.json\"))"
   ]
  },
  {
   "cell_type": "code",
   "execution_count": 11,
   "id": "ebf83807",
   "metadata": {},
   "outputs": [
    {
     "name": "stdout",
     "output_type": "stream",
     "text": [
      "1) [Matthew Liss to Haden and Jolie] Meeting recap - Matthew Liss informs about the success of the \"Kitchen Convenience\" campaign. The focus will shift more towards the Andromeda-style Facebook campaign. Jolie and Hayden are tasked to review new ad creatives. Matthew offers navigation tips for ClickUp and applauds the collaborative effort.\n",
      "\n",
      "2) [Matthew Liss to Elaine Delaney] Request for Executive Assistant - Matthew responded positively to an offer made by Elaine Delaney to consider an Executive Assistant for himself. He asks her to forward the assistant's resume and introduction video.\n",
      "\n",
      "3) [Matthew Liss to Jennifer] Invoice reminder - Matthew sent a manual reminder for an invoice to be paid by Jennifer. \n",
      "\n",
      "4) [Matthew Liss to Alexander Palas] Tax Update - Matthew inquires about the status of his taxes from Alexander Palas.\n",
      "\n",
      "5) [Notification from Atlassian Loom] Loom video viewed - Notification that an anonymous user has viewed the 'Kitchen Convenience' video on Atlassian Loom.\n",
      "\n",
      "6) [Notification from ClickUp] Task Overdue - ClickUp notified Matthew that the task named 'Ad Copy Variations' is overdue.\n",
      "####################################\n",
      "1. Upwork has submitted a report of manual time from the freelancer Fahad T. for Blue Water Marketing, which Matt needs to review.\n",
      "\n",
      "2. Blue Water Marketing received two free training sign up submissions, one from Stella Pena of Portafly.com and another from Ola Phillips of info@fourtees.org.\n",
      "\n",
      "3. Blue Water Marketing's Loom subscription of $30.00 has been billed. Matt may need to review the detailed charges on the Plan and Billing page or download a copy of the invoice.\n",
      "\n",
      "4. Matt received a LinkedIn message from Hugo Louzada which needs to be opened and read.\n",
      "\n",
      "5. BNBPickleball.com sent an email about Filth paddles. The content suggests that this is a promotional mail for the paddle brand 'Filth.' Matt could review the content and decide whether any action is required.\n",
      "####################################\n",
      "1. Email from info@brandster.com to matt@bluewatermarketing.com: It's a promotion for a pre-Memorial Day sale on CoyoteGrill website.\n",
      "\n",
      "2. Email from news@bulkcandystore.com to matt@bluewatermarketing.com: It's highlighting a 15% discount on all chocolates at the Bulk Candy Store.\n",
      "\n",
      "3. Email from phillip@pikkl.com to jason@bluewatermarketing.com: Chief Marketing Officer, Phillip Lee, approves the email by Jason from Blue Water Marketing. Phillip only requests the reversal of arrow direction.\n",
      "\n",
      "4. Email from jason@bluewatermarketing.com to phillip@pikkl.com: Jason acknowledges Phillip's feedback and agrees to make the suggested adjustment.\n",
      "\n",
      "5. Email from phillip@pikkl.com to jason@bluewatermarketing.com: Phillip accepts Jason's email and just asks to reverse the direction of the arrows from the picture to description.\n",
      "\n",
      "6. Email from jason@bluewatermarketing.com to phillip@pikkl.com: Jason is seeking Phillip's approval on an email for the upcoming week. Jason wanted to use customer photos, but good images weren’t available. He chose to use the team's pictures.\n",
      "   \n",
      "Key Topics: Email approvals, marketing and promotional emails.\n",
      "Priorities: Getting approval on promotional emails, making necessary edits in the email, effective communication for tasks.\n",
      "Action Items: Reverse the arrow direction in the proposed email, final sign-off for the email.\n",
      "####################################\n"
     ]
    }
   ],
   "source": [
    "for summary in summaries:\n",
    "    print(summary[\"message\"][\"content\"])\n",
    "    print(\"####################################\")"
   ]
  },
  {
   "cell_type": "code",
   "execution_count": null,
   "id": "a2eda88b",
   "metadata": {},
   "outputs": [],
   "source": []
  }
 ],
 "metadata": {
  "kernelspec": {
   "display_name": "Python 3",
   "language": "python",
   "name": "python3"
  },
  "language_info": {
   "codemirror_mode": {
    "name": "ipython",
    "version": 3
   },
   "file_extension": ".py",
   "mimetype": "text/x-python",
   "name": "python",
   "nbconvert_exporter": "python",
   "pygments_lexer": "ipython3",
   "version": "3.10.12"
  }
 },
 "nbformat": 4,
 "nbformat_minor": 5
}
