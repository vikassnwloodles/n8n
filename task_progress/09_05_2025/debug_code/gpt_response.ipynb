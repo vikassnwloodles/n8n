{
 "cells": [
  {
   "cell_type": "code",
   "execution_count": 1,
   "id": "f6207c8d",
   "metadata": {},
   "outputs": [],
   "source": [
    "import json"
   ]
  },
  {
   "cell_type": "code",
   "execution_count": 14,
   "id": "0911f4a7",
   "metadata": {},
   "outputs": [],
   "source": [
    "gpt_response = json.load(open(\"../artifacts/gpt_response3.json\"))"
   ]
  },
  {
   "cell_type": "code",
   "execution_count": 15,
   "id": "ba0e5f83",
   "metadata": {},
   "outputs": [
    {
     "data": {
      "text/plain": [
       "1"
      ]
     },
     "execution_count": 15,
     "metadata": {},
     "output_type": "execute_result"
    }
   ],
   "source": [
    "len(gpt_response)"
   ]
  },
  {
   "cell_type": "code",
   "execution_count": 16,
   "id": "c4be5676",
   "metadata": {},
   "outputs": [
    {
     "name": "stdout",
     "output_type": "stream",
     "text": [
      "Morning Brief Overview:\n",
      "\n",
      "Top 5 Action Items:\n",
      "1) Review and approve the ad creatives for the Andromeda-style Facebook campaign (Email 1). \n",
      "2) Get back to Elaine Delaney with potentially suitable Executive Assistant candidates (Email 2).\n",
      "3) Contact Jennifer regarding the overdue invoice payment (Email 3).\n",
      "4) Follow-up with Alexander Palas concerning the status of your taxes (Email 4).\n",
      "5) Reverse the arrow direction in the proposed email for Pikkl and get the final sign-off (Email 5).\n",
      "\n",
      "Urgent Follow-ups:\n",
      "1) Review the report of manual time submitted by Fahad T. on Upwork (Email 6).\n",
      "2) Review and respond to the LinkedIn message from Hugo Louzada (Email 8).\n",
      "3) Acknowledge the training signup submissions from Stella Pena and Ola Phillips (Email 7).\n",
      " \n",
      "Meeting List:\n",
      "None for the last 72 hours.\n",
      "\n",
      "Suggestions: Delegate / Defer / Respond Now\n",
      "- Delegate the review of promotional emails from BNBPickleball.com and Brandster.com to marketing team.\n",
      "- Defer the review of Loom subscription invoice until the end of the day.\n",
      "- Respond now to Elaine Delaney with potential Executive Assistant candidates and to Alexander Palas regarding tax status.\n",
      "\n",
      "Today’s focus should be on wrapping up all the pending tasks, especially getting approvals on the Andromeda-style Facebook campaign, sorting the overdue invoice, and finalising tax matters. Remember to make time for reviewing time sheets and sign-ups, as well as replying to pending messages.\n",
      "#########################################\n"
     ]
    }
   ],
   "source": [
    "for resp in gpt_response:\n",
    "    print(resp[\"message\"][\"content\"])\n",
    "    print(\"#########################################\")"
   ]
  },
  {
   "cell_type": "code",
   "execution_count": null,
   "id": "f26be430",
   "metadata": {},
   "outputs": [],
   "source": []
  }
 ],
 "metadata": {
  "kernelspec": {
   "display_name": "Python 3",
   "language": "python",
   "name": "python3"
  },
  "language_info": {
   "codemirror_mode": {
    "name": "ipython",
    "version": 3
   },
   "file_extension": ".py",
   "mimetype": "text/x-python",
   "name": "python",
   "nbconvert_exporter": "python",
   "pygments_lexer": "ipython3",
   "version": "3.10.12"
  }
 },
 "nbformat": 4,
 "nbformat_minor": 5
}
