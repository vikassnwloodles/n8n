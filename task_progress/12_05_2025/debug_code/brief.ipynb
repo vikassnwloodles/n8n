{
 "cells": [
  {
   "cell_type": "code",
   "execution_count": 12,
   "id": "e7a67001",
   "metadata": {},
   "outputs": [],
   "source": [
    "import json"
   ]
  },
  {
   "cell_type": "code",
   "execution_count": 37,
   "id": "c54a2936",
   "metadata": {},
   "outputs": [],
   "source": [
    "brief = json.load(open(\"../artifacts/brief.json\"))"
   ]
  },
  {
   "cell_type": "code",
   "execution_count": 38,
   "id": "ff285ea5",
   "metadata": {},
   "outputs": [
    {
     "name": "stdout",
     "output_type": "stream",
     "text": [
      "1. Morning Brief – 12 May 2025\n",
      "\n",
      "---\n",
      "\n",
      "Top 5 Action Items:\n",
      "\n",
      "1. Email from Lean Leverage: Three top talent picks for PPC Specialist available for interview and immediate hiring at $2000/month - PPC Specialist is a crucial role in driving business growth and performance and these talent picks come from a reliable recruitment source.\n",
      "2. Prepare for the strategy call with Mike from Outrank Brand for Matt from Bluewater Marketing - The call is crucial for developing business strategies and planning for business growth.\n",
      "3. Matt needs to follow up on the new lead from Russell McClain - This could potentially bring in more business for the company and increase profits.\n",
      "4. Fullfilling tasks on ClickUp: High-priority tasks (Task 1) and (Task 2) need to be prioritized on Matt's to-do list - The timely completion of high-priority tasks is key to keeping a project on track.\n",
      "5.  Email from Google Ads asking for feedback about the platform with a possible $10 reward - It is important to give feedback for any ongoing efforts and maintain relationships with strategic partners. Besides, this can also be a chance to gain additional rewards.\n",
      "\n",
      "---\n",
      "\n",
      "Urgent Follow-Ups:\n",
      "\n",
      "- Task 3 - This task is overdue in ClickUp, causing a delay in the project.\n",
      "- LinkedIn Content on the calendar - Matt may want to consider accepting LinkedIn invitations from Chip, Kyle, and Patrick firstly to boost their professional network.\n",
      "\n",
      "---\n",
      "\n",
      "Meeting list:\n",
      "\n",
      "- Client meetings\n",
      "    - Event: Google Ads\n",
      "      Time: 11:00 AM - 12:30 PM\n",
      "      Contact: matt@bluewatermarketing.com\n",
      "- Internal team blocks\n",
      "    - Event: Monday Kick Off\n",
      "      Time: 9:15 AM - 10:15 AM\n",
      "      Contact: chris@bluewatermarketing.com\n",
      "- Free time blocks\n",
      "    - Event: Lunch Break\n",
      "      Time: 12:00 PM – 12:30 PM\n",
      "      Contact: matt@bluewatermarketing.com\n",
      "    - Event: FB & Google Strategy Weekly Regroup\n",
      "      Time: 1:00 PM - 1:30 PM\n",
      "      Contact: matt@bluewatermarketing.com\n",
      "\n",
      "---\n",
      "\n",
      "Suggestions:\n",
      "\n",
      "- Delegate: Consider delegate tasks on ClickUp (Task 1) and (Task 2) to team members for effective time utilization.\n",
      "- Defer: Email from Bread and Butter: Promotional content showcasing a new 'Filth 16mm Pickleball Paddle' line - It can be put on hold as it does not impact business operation directly.\n",
      "- Respond Now: Email thread regarding 'Email Approval Needed' between Phillip Lee from pikkl.com and Jason - The approval is necessary to proceed further actions.\n",
      "\n",
      "---\n",
      "\n",
      "Today’s focus should be:\n",
      "\n",
      "Based on the events, emails, and tasks for the day, the focus should be on preparing for the strategic call with Mike from Outrank Brand, following-up on new leads, attending client meetings, and balance the time to work on the high-priority tasks from ClickUp. The internal team meeting for the kickoff and regular regroup session are also important for aligning with the team.\n",
      "\n",
      "---\n",
      "\n",
      "Block formatted JSON response:\n",
      "\n",
      "`{\n",
      "\"type\": \"section\",\n",
      "\"text\": {\n",
      "\"type\": \"mrkdwn\",\n",
      "\"text\": \"Morning Brief - 12 May 2025...\"}\n",
      "}`\n"
     ]
    }
   ],
   "source": [
    "print(brief[0][\"choices\"][0][\"message\"][\"content\"])"
   ]
  },
  {
   "cell_type": "code",
   "execution_count": null,
   "id": "08aa1659",
   "metadata": {},
   "outputs": [],
   "source": []
  }
 ],
 "metadata": {
  "kernelspec": {
   "display_name": "Python 3",
   "language": "python",
   "name": "python3"
  },
  "language_info": {
   "codemirror_mode": {
    "name": "ipython",
    "version": 3
   },
   "file_extension": ".py",
   "mimetype": "text/x-python",
   "name": "python",
   "nbconvert_exporter": "python",
   "pygments_lexer": "ipython3",
   "version": "3.10.12"
  }
 },
 "nbformat": 4,
 "nbformat_minor": 5
}
