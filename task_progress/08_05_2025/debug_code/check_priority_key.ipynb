{
 "cells": [
  {
   "cell_type": "code",
   "execution_count": 16,
   "id": "b5bc4c26",
   "metadata": {},
   "outputs": [],
   "source": [
    "import json"
   ]
  },
  {
   "cell_type": "code",
   "execution_count": 17,
   "id": "c8262a93",
   "metadata": {},
   "outputs": [],
   "source": [
    "tasks = json.load(open(\"../artifacts/check_priority_key.json\"))"
   ]
  },
  {
   "cell_type": "code",
   "execution_count": 18,
   "id": "38ae2875",
   "metadata": {},
   "outputs": [
    {
     "data": {
      "text/plain": [
       "3"
      ]
     },
     "execution_count": 18,
     "metadata": {},
     "output_type": "execute_result"
    }
   ],
   "source": [
    "len(tasks)"
   ]
  },
  {
   "cell_type": "code",
   "execution_count": 19,
   "id": "6a1a7ef3",
   "metadata": {},
   "outputs": [
    {
     "data": {
      "text/plain": [
       "['id',\n",
       " 'custom_id',\n",
       " 'custom_item_id',\n",
       " 'name',\n",
       " 'text_content',\n",
       " 'description',\n",
       " 'status',\n",
       " 'orderindex',\n",
       " 'date_created',\n",
       " 'date_updated',\n",
       " 'date_closed',\n",
       " 'date_done',\n",
       " 'archived',\n",
       " 'creator',\n",
       " 'assignees',\n",
       " 'group_assignees',\n",
       " 'watchers',\n",
       " 'checklists',\n",
       " 'tags',\n",
       " 'parent',\n",
       " 'top_level_parent',\n",
       " 'priority',\n",
       " 'due_date',\n",
       " 'start_date',\n",
       " 'points',\n",
       " 'time_estimate',\n",
       " 'custom_fields',\n",
       " 'dependencies',\n",
       " 'linked_tasks',\n",
       " 'locations',\n",
       " 'team_id',\n",
       " 'url',\n",
       " 'sharing',\n",
       " 'permission_level',\n",
       " 'list',\n",
       " 'project',\n",
       " 'folder',\n",
       " 'space']"
      ]
     },
     "execution_count": 19,
     "metadata": {},
     "output_type": "execute_result"
    }
   ],
   "source": [
    "list(tasks[0].keys())"
   ]
  },
  {
   "cell_type": "code",
   "execution_count": 27,
   "id": "9a6109b7",
   "metadata": {},
   "outputs": [
    {
     "name": "stdout",
     "output_type": "stream",
     "text": [
      "low\n"
     ]
    }
   ],
   "source": [
    "print(tasks[0][\"priority\"][\"priority\"])"
   ]
  },
  {
   "cell_type": "code",
   "execution_count": null,
   "id": "077eb3a4",
   "metadata": {},
   "outputs": [],
   "source": []
  }
 ],
 "metadata": {
  "kernelspec": {
   "display_name": "Python 3",
   "language": "python",
   "name": "python3"
  },
  "language_info": {
   "codemirror_mode": {
    "name": "ipython",
    "version": 3
   },
   "file_extension": ".py",
   "mimetype": "text/x-python",
   "name": "python",
   "nbconvert_exporter": "python",
   "pygments_lexer": "ipython3",
   "version": "3.10.12"
  }
 },
 "nbformat": 4,
 "nbformat_minor": 5
}
